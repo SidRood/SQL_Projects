{
    "metadata": {
        "kernelspec": {
            "name": "SQL",
            "display_name": "SQL",
            "language": "sql"
        },
        "language_info": {
            "name": "sql",
            "version": ""
        }
    },
    "nbformat_minor": 2,
    "nbformat": 4,
    "cells": [
        {
            "cell_type": "code",
            "source": [
                "--Customer Table\r\n",
                "CREATE TABLE TblCustomer\r\n",
                "(CustomerID CHAR(5) PRIMARY KEY,\r\n",
                "LastName VARCHAR(30) NOT NULL,\r\n",
                "FirstName VARCHAR(20),\r\n",
                "CustomerAddress VARCHAR(30) NOT NULL,\r\n",
                "CustomerCity VARCHAR(20) NOT NULL,\r\n",
                "CustomerState CHAR(2) NOT NULL,\r\n",
                "CustomerZip VARCHAR(12) NOT NULL,\r\n",
                "CustomerCountry VARCHAR(15),\r\n",
                "FirstBuyDate DATETIME,\r\n",
                "CustomerEmail VARCHAR(60),\r\n",
                "CustomerPhone CHAR(15) NOT NULL);"
            ],
            "metadata": {
                "azdata_cell_guid": "72955b0a-3608-4e80-a0b0-9c0533644473"
            },
            "outputs": [
                {
                    "output_type": "display_data",
                    "data": {
                        "text/html": "Commands completed successfully."
                    },
                    "metadata": {}
                },
                {
                    "output_type": "display_data",
                    "data": {
                        "text/html": "Total execution time: 00:00:00.010"
                    },
                    "metadata": {}
                }
            ],
            "execution_count": 6
        },
        {
            "cell_type": "code",
            "source": [
                "SELECT * \r\n",
                "FROM TblCustomer;"
            ],
            "metadata": {
                "azdata_cell_guid": "e6982bb5-a6fb-46c3-a065-8ccec2ebdb85",
                "tags": []
            },
            "outputs": [
                {
                    "output_type": "display_data",
                    "data": {
                        "text/html": "(17 rows affected)"
                    },
                    "metadata": {}
                },
                {
                    "output_type": "display_data",
                    "data": {
                        "text/html": "Total execution time: 00:00:00.014"
                    },
                    "metadata": {}
                },
                {
                    "output_type": "execute_result",
                    "execution_count": 16,
                    "data": {
                        "application/vnd.dataresource+json": {
                            "schema": {
                                "fields": [
                                    {
                                        "name": "CustomerID"
                                    },
                                    {
                                        "name": "LastName"
                                    },
                                    {
                                        "name": "FirstName"
                                    },
                                    {
                                        "name": "CustomerAddress"
                                    },
                                    {
                                        "name": "CustomerCity"
                                    },
                                    {
                                        "name": "CustomerState"
                                    },
                                    {
                                        "name": "CustomerZip"
                                    },
                                    {
                                        "name": "CustomerCountry"
                                    },
                                    {
                                        "name": "FirstBuyDate"
                                    },
                                    {
                                        "name": "CustomerEmail"
                                    },
                                    {
                                        "name": "CustomerPhone"
                                    }
                                ]
                            },
                            "data": [
                                {
                                    "CustomerID": "00405",
                                    "LastName": "Barrington",
                                    "FirstName": "Margaret",
                                    "CustomerAddress": "1765 Roundtree Pkwy",
                                    "CustomerCity": "reno",
                                    "CustomerState": "nv",
                                    "CustomerZip": "89509-1454",
                                    "CustomerCountry": "USA",
                                    "FirstBuyDate": "2012-12-18 00:00:00.000",
                                    "CustomerEmail": "barry@hotmail.com",
                                    "CustomerPhone": "7757464561     "
                                },
                                {
                                    "CustomerID": "00625",
                                    "LastName": "Dao",
                                    "FirstName": "Phong",
                                    "CustomerAddress": "341 West Park",
                                    "CustomerCity": "Fresno",
                                    "CustomerState": "CA",
                                    "CustomerZip": "96137",
                                    "CustomerCountry": "NULL",
                                    "FirstBuyDate": "2023-02-09 00:00:00.000",
                                    "CustomerEmail": "daop@gmail.com",
                                    "CustomerPhone": "8582138982     "
                                },
                                {
                                    "CustomerID": "06774",
                                    "LastName": "Phan",
                                    "FirstName": "Sarah",
                                    "CustomerAddress": "44512 Sawbuck Path",
                                    "CustomerCity": "SPARKS",
                                    "CustomerState": "nv",
                                    "CustomerZip": "89432",
                                    "CustomerCountry": "USA",
                                    "FirstBuyDate": "2009-01-18 00:00:00.000",
                                    "CustomerEmail": "flipper@gmail.com",
                                    "CustomerPhone": "7753324636     "
                                },
                                {
                                    "CustomerID": "07831",
                                    "LastName": "Rodriguez",
                                    "FirstName": "Karen",
                                    "CustomerAddress": "4589 Marthiam",
                                    "CustomerCity": "Chico",
                                    "CustomerState": "CA",
                                    "CustomerZip": "97111",
                                    "CustomerCountry": "NULL",
                                    "FirstBuyDate": "2013-04-14 00:00:00.000",
                                    "CustomerEmail": "rodriguez@aol.com",
                                    "CustomerPhone": "8193821828     "
                                },
                                {
                                    "CustomerID": "08892",
                                    "LastName": "Medina",
                                    "FirstName": "Teresa",
                                    "CustomerAddress": "P.O.Box 5661",
                                    "CustomerCity": "san jose",
                                    "CustomerState": "ca",
                                    "CustomerZip": "98123",
                                    "CustomerCountry": "USA",
                                    "FirstBuyDate": "2000-09-07 00:00:00.000",
                                    "CustomerEmail": "twillbeth@ygmail.com",
                                    "CustomerPhone": "8098291838     "
                                },
                                {
                                    "CustomerID": "12001",
                                    "LastName": "Cranston",
                                    "FirstName": "Brittany",
                                    "CustomerAddress": "12 Sandstone",
                                    "CustomerCity": "Sparks",
                                    "CustomerState": "NV",
                                    "CustomerZip": "89431",
                                    "CustomerCountry": "NULL",
                                    "FirstBuyDate": "2020-09-18 00:00:00.000",
                                    "CustomerEmail": "britters@ccb.com",
                                    "CustomerPhone": "7753312199     "
                                },
                                {
                                    "CustomerID": "12006",
                                    "LastName": "Martinez",
                                    "FirstName": "Guadalupe",
                                    "CustomerAddress": "223 North Pinetree Drive",
                                    "CustomerCity": "Reno",
                                    "CustomerState": "NV",
                                    "CustomerZip": "89511",
                                    "CustomerCountry": "NULL",
                                    "FirstBuyDate": "2022-07-24 00:00:00.000",
                                    "CustomerEmail": "gmartinez@ccu.edu",
                                    "CustomerPhone": "7758837612     "
                                },
                                {
                                    "CustomerID": "21142",
                                    "LastName": "Candriller",
                                    "FirstName": "Emily",
                                    "CustomerAddress": "2 Sedgeway",
                                    "CustomerCity": "Laguna Beach",
                                    "CustomerState": "CA",
                                    "CustomerZip": "94567",
                                    "CustomerCountry": "NULL",
                                    "FirstBuyDate": "2023-05-20 00:00:00.000",
                                    "CustomerEmail": "kriller@mbu.edu",
                                    "CustomerPhone": "6198813929     "
                                },
                                {
                                    "CustomerID": "21143",
                                    "LastName": "Gutierrez",
                                    "FirstName": "Yolanda",
                                    "CustomerAddress": "2341 Bramble Bush Drive",
                                    "CustomerCity": "Sparks",
                                    "CustomerState": "NV",
                                    "CustomerZip": "89431-0112",
                                    "CustomerCountry": "NULL",
                                    "FirstBuyDate": "2022-10-13 00:00:00.000",
                                    "CustomerEmail": "jj@isp.all.com",
                                    "CustomerPhone": "7753317188     "
                                },
                                {
                                    "CustomerID": "24221",
                                    "LastName": "Sassani",
                                    "FirstName": "Mahsa",
                                    "CustomerAddress": "8891 Wedekind",
                                    "CustomerCity": "Sparks",
                                    "CustomerState": "nV",
                                    "CustomerZip": "89426",
                                    "CustomerCountry": "USA",
                                    "FirstBuyDate": "2023-06-24 00:00:00.000",
                                    "CustomerEmail": "mussiea@gmail.com",
                                    "CustomerPhone": "7752211233     "
                                },
                                {
                                    "CustomerID": "29188",
                                    "LastName": "Polanski",
                                    "FirstName": "Tiffany",
                                    "CustomerAddress": "5778 Battlemount Ct.",
                                    "CustomerCity": "RENO",
                                    "CustomerState": "NV",
                                    "CustomerZip": "89507",
                                    "CustomerCountry": "NULL",
                                    "FirstBuyDate": "2014-01-30 00:00:00.000",
                                    "CustomerEmail": "skipole@gmail.com",
                                    "CustomerPhone": "7757465771     "
                                },
                                {
                                    "CustomerID": "30192",
                                    "LastName": "Chen",
                                    "FirstName": "Lian",
                                    "CustomerAddress": "2319 Crest Dr",
                                    "CustomerCity": "REno",
                                    "CustomerState": "Nv",
                                    "CustomerZip": "89503-0113",
                                    "CustomerCountry": "NULL",
                                    "FirstBuyDate": "2002-02-06 00:00:00.000",
                                    "CustomerEmail": "jester@here.com",
                                    "CustomerPhone": "7757218991     "
                                },
                                {
                                    "CustomerID": "32019",
                                    "LastName": "Stein",
                                    "FirstName": "Martin",
                                    "CustomerAddress": "10 South Wilders",
                                    "CustomerCity": "reno",
                                    "CustomerState": "nv",
                                    "CustomerZip": "89503-8912",
                                    "CustomerCountry": "USA",
                                    "FirstBuyDate": "2023-07-22 00:00:00.000",
                                    "CustomerEmail": "mmm@hard.com",
                                    "CustomerPhone": "7753314838     "
                                },
                                {
                                    "CustomerID": "32817",
                                    "LastName": "Foster-Madani",
                                    "FirstName": "Mohsen",
                                    "CustomerAddress": "318 Western Ave",
                                    "CustomerCity": "SAN diego",
                                    "CustomerState": "ca",
                                    "CustomerZip": "92381",
                                    "CustomerCountry": "NULL",
                                    "FirstBuyDate": "2001-01-21 00:00:00.000",
                                    "CustomerEmail": "fosterja@gmail.com",
                                    "CustomerPhone": "8583284483     "
                                },
                                {
                                    "CustomerID": "38817",
                                    "LastName": "Okeke",
                                    "FirstName": "Bud",
                                    "CustomerAddress": "1001 Catchway",
                                    "CustomerCity": "Anaheim",
                                    "CustomerState": "CA",
                                    "CustomerZip": "95113",
                                    "CustomerCountry": "NULL",
                                    "FirstBuyDate": "2022-08-19 00:00:00.000",
                                    "CustomerEmail": "bud@cservices.com",
                                    "CustomerPhone": "8037718991     "
                                },
                                {
                                    "CustomerID": "39418",
                                    "LastName": "Agarwal",
                                    "FirstName": "Sandeep",
                                    "CustomerAddress": "452 Anza Drive",
                                    "CustomerCity": "San Diego",
                                    "CustomerState": "CA",
                                    "CustomerZip": "92125",
                                    "CustomerCountry": "NULL",
                                    "FirstBuyDate": "2023-07-12 00:00:00.000",
                                    "CustomerEmail": "agarwin@yahoo.com",
                                    "CustomerPhone": "8189929011     "
                                },
                                {
                                    "CustomerID": "78112",
                                    "LastName": "Guili",
                                    "FirstName": "Mary Anne",
                                    "CustomerAddress": "4457 Meridith St",
                                    "CustomerCity": "Irvine",
                                    "CustomerState": "CA",
                                    "CustomerZip": "97128",
                                    "CustomerCountry": "NULL",
                                    "FirstBuyDate": "2021-03-17 00:00:00.000",
                                    "CustomerEmail": "ma@san.rr.com",
                                    "CustomerPhone": "6195621334     "
                                }
                            ]
                        },
                        "text/html": "<table><tr><th>CustomerID</th><th>LastName</th><th>FirstName</th><th>CustomerAddress</th><th>CustomerCity</th><th>CustomerState</th><th>CustomerZip</th><th>CustomerCountry</th><th>FirstBuyDate</th><th>CustomerEmail</th><th>CustomerPhone</th></tr><tr><td>00405</td><td>Barrington</td><td>Margaret</td><td>1765 Roundtree Pkwy</td><td>reno</td><td>nv</td><td>89509-1454</td><td>USA</td><td>2012-12-18 00:00:00.000</td><td>barry@hotmail.com</td><td>7757464561     </td></tr><tr><td>00625</td><td>Dao</td><td>Phong</td><td>341 West Park</td><td>Fresno</td><td>CA</td><td>96137</td><td>NULL</td><td>2023-02-09 00:00:00.000</td><td>daop@gmail.com</td><td>8582138982     </td></tr><tr><td>06774</td><td>Phan</td><td>Sarah</td><td>44512 Sawbuck Path</td><td>SPARKS</td><td>nv</td><td>89432</td><td>USA</td><td>2009-01-18 00:00:00.000</td><td>flipper@gmail.com</td><td>7753324636     </td></tr><tr><td>07831</td><td>Rodriguez</td><td>Karen</td><td>4589 Marthiam</td><td>Chico</td><td>CA</td><td>97111</td><td>NULL</td><td>2013-04-14 00:00:00.000</td><td>rodriguez@aol.com</td><td>8193821828     </td></tr><tr><td>08892</td><td>Medina</td><td>Teresa</td><td>P.O.Box 5661</td><td>san jose</td><td>ca</td><td>98123</td><td>USA</td><td>2000-09-07 00:00:00.000</td><td>twillbeth@ygmail.com</td><td>8098291838     </td></tr><tr><td>12001</td><td>Cranston</td><td>Brittany</td><td>12 Sandstone</td><td>Sparks</td><td>NV</td><td>89431</td><td>NULL</td><td>2020-09-18 00:00:00.000</td><td>britters@ccb.com</td><td>7753312199     </td></tr><tr><td>12006</td><td>Martinez</td><td>Guadalupe</td><td>223 North Pinetree Drive</td><td>Reno</td><td>NV</td><td>89511</td><td>NULL</td><td>2022-07-24 00:00:00.000</td><td>gmartinez@ccu.edu</td><td>7758837612     </td></tr><tr><td>21142</td><td>Candriller</td><td>Emily</td><td>2 Sedgeway</td><td>Laguna Beach</td><td>CA</td><td>94567</td><td>NULL</td><td>2023-05-20 00:00:00.000</td><td>kriller@mbu.edu</td><td>6198813929     </td></tr><tr><td>21143</td><td>Gutierrez</td><td>Yolanda</td><td>2341 Bramble Bush Drive</td><td>Sparks</td><td>NV</td><td>89431-0112</td><td>NULL</td><td>2022-10-13 00:00:00.000</td><td>jj@isp.all.com</td><td>7753317188     </td></tr><tr><td>24221</td><td>Sassani</td><td>Mahsa</td><td>8891 Wedekind</td><td>Sparks</td><td>nV</td><td>89426</td><td>USA</td><td>2023-06-24 00:00:00.000</td><td>mussiea@gmail.com</td><td>7752211233     </td></tr><tr><td>29188</td><td>Polanski</td><td>Tiffany</td><td>5778 Battlemount Ct.</td><td>RENO</td><td>NV</td><td>89507</td><td>NULL</td><td>2014-01-30 00:00:00.000</td><td>skipole@gmail.com</td><td>7757465771     </td></tr><tr><td>30192</td><td>Chen</td><td>Lian</td><td>2319 Crest Dr</td><td>REno</td><td>Nv</td><td>89503-0113</td><td>NULL</td><td>2002-02-06 00:00:00.000</td><td>jester@here.com</td><td>7757218991     </td></tr><tr><td>32019</td><td>Stein</td><td>Martin</td><td>10 South Wilders</td><td>reno</td><td>nv</td><td>89503-8912</td><td>USA</td><td>2023-07-22 00:00:00.000</td><td>mmm@hard.com</td><td>7753314838     </td></tr><tr><td>32817</td><td>Foster-Madani</td><td>Mohsen</td><td>318 Western Ave</td><td>SAN diego</td><td>ca</td><td>92381</td><td>NULL</td><td>2001-01-21 00:00:00.000</td><td>fosterja@gmail.com</td><td>8583284483     </td></tr><tr><td>38817</td><td>Okeke</td><td>Bud</td><td>1001 Catchway</td><td>Anaheim</td><td>CA</td><td>95113</td><td>NULL</td><td>2022-08-19 00:00:00.000</td><td>bud@cservices.com</td><td>8037718991     </td></tr><tr><td>39418</td><td>Agarwal</td><td>Sandeep</td><td>452 Anza Drive</td><td>San Diego</td><td>CA</td><td>92125</td><td>NULL</td><td>2023-07-12 00:00:00.000</td><td>agarwin@yahoo.com</td><td>8189929011     </td></tr><tr><td>78112</td><td>Guili</td><td>Mary Anne</td><td>4457 Meridith St</td><td>Irvine</td><td>CA</td><td>97128</td><td>NULL</td><td>2021-03-17 00:00:00.000</td><td>ma@san.rr.com</td><td>6195621334     </td></tr></table>"
                    },
                    "metadata": {}
                }
            ],
            "execution_count": 16
        },
        {
            "cell_type": "code",
            "source": [
                "--Employee Table\r\n",
                "CREATE TABLE TblEmployee\r\n",
                "(EmpID CHAR(6) PRIMARY KEY,\r\n",
                "EmpLastName VARCHAR(30) NOT NULL,\r\n",
                "EmpFirstName VARCHAR(30) NOT NULL,\r\n",
                "EmpEmail VARCHAR(30),\r\n",
                "EmpPhone CHAR(15) NOT NULL,\r\n",
                "EmpMgrID CHAR(6) FOREIGN KEY REFERENCES TblEmployee(EmpID));"
            ],
            "metadata": {
                "azdata_cell_guid": "38526435-7de4-4a3b-9fcf-aeb25e4e3bff",
                "tags": []
            },
            "outputs": [
                {
                    "output_type": "display_data",
                    "data": {
                        "text/html": "Commands completed successfully."
                    },
                    "metadata": {}
                },
                {
                    "output_type": "display_data",
                    "data": {
                        "text/html": "Total execution time: 00:00:00.012"
                    },
                    "metadata": {}
                }
            ],
            "execution_count": 3
        },
        {
            "cell_type": "code",
            "source": [
                "SELECT *\r\n",
                "FROM TblEmployee;"
            ],
            "metadata": {
                "azdata_cell_guid": "630e0ccb-a32a-4029-8937-7bad10b093cd"
            },
            "outputs": [
                {
                    "output_type": "display_data",
                    "data": {
                        "text/html": "(15 rows affected)"
                    },
                    "metadata": {}
                },
                {
                    "output_type": "display_data",
                    "data": {
                        "text/html": "Total execution time: 00:00:00.055"
                    },
                    "metadata": {}
                },
                {
                    "output_type": "execute_result",
                    "execution_count": 9,
                    "data": {
                        "application/vnd.dataresource+json": {
                            "schema": {
                                "fields": [
                                    {
                                        "name": "EmpID"
                                    },
                                    {
                                        "name": "EmpLastName"
                                    },
                                    {
                                        "name": "EmpFirstName"
                                    },
                                    {
                                        "name": "EmpEmail"
                                    },
                                    {
                                        "name": "EmpPhone"
                                    },
                                    {
                                        "name": "EmpMgrID"
                                    }
                                ]
                            },
                            "data": [
                                {
                                    "EmpID": "E10003",
                                    "EmpLastName": "Shamsudeen",
                                    "EmpFirstName": "Mumtaz",
                                    "EmpEmail": "MumSham@gmail.com",
                                    "EmpPhone": "7755423212     ",
                                    "EmpMgrID": "NULL"
                                },
                                {
                                    "EmpID": "E10009",
                                    "EmpLastName": "Hernandez",
                                    "EmpFirstName": "Nathan",
                                    "EmpEmail": "NULL",
                                    "EmpPhone": "7755313562     ",
                                    "EmpMgrID": "E10003"
                                },
                                {
                                    "EmpID": "E10015",
                                    "EmpLastName": "Fetters",
                                    "EmpFirstName": "Sam",
                                    "EmpEmail": "SFETTERS@gmail.com",
                                    "EmpPhone": "7753453821     ",
                                    "EmpMgrID": "E10003"
                                },
                                {
                                    "EmpID": "E10018",
                                    "EmpLastName": "Schnitkowski",
                                    "EmpFirstName": "Michael",
                                    "EmpEmail": "MSCHNIT@gmail.com",
                                    "EmpPhone": "7776553582     ",
                                    "EmpMgrID": "E10003"
                                },
                                {
                                    "EmpID": "E10026",
                                    "EmpLastName": "Nguyen",
                                    "EmpFirstName": "Lieu",
                                    "EmpEmail": "LNguyen@gmail.com",
                                    "EmpPhone": "7755313834     ",
                                    "EmpMgrID": "E10015"
                                },
                                {
                                    "EmpID": "E10042",
                                    "EmpLastName": "Van Meter",
                                    "EmpFirstName": "Juliette",
                                    "EmpEmail": "JVANMETER@gmail.com",
                                    "EmpPhone": "7758453551     ",
                                    "EmpMgrID": "E10026"
                                },
                                {
                                    "EmpID": "E10055",
                                    "EmpLastName": "Huang",
                                    "EmpFirstName": "Hai Jun",
                                    "EmpEmail": "HJHuang@gmail.com",
                                    "EmpPhone": "7759153891     ",
                                    "EmpMgrID": "NULL"
                                },
                                {
                                    "EmpID": "E10056",
                                    "EmpLastName": "Chen",
                                    "EmpFirstName": "John",
                                    "EmpEmail": "NULL",
                                    "EmpPhone": "7759053821     ",
                                    "EmpMgrID": "E10015"
                                },
                                {
                                    "EmpID": "E10057",
                                    "EmpLastName": "Pinot",
                                    "EmpFirstName": "Jean Claude",
                                    "EmpEmail": "JPINOT@gmail.com",
                                    "EmpPhone": "7756749002     ",
                                    "EmpMgrID": "NULL"
                                },
                                {
                                    "EmpID": "E10077",
                                    "EmpLastName": "MacAndrews-Abernethy",
                                    "EmpFirstName": "Elizabeth Victoria",
                                    "EmpEmail": "EMACANDREWSABERNET@gmail.com",
                                    "EmpPhone": "7755553894     ",
                                    "EmpMgrID": "E10026"
                                },
                                {
                                    "EmpID": "E10085",
                                    "EmpLastName": "Wong",
                                    "EmpFirstName": "Thomas",
                                    "EmpEmail": "TNW@gmail.com",
                                    "EmpPhone": "7757783511     ",
                                    "EmpMgrID": "E10026"
                                },
                                {
                                    "EmpID": "E10087",
                                    "EmpLastName": "Agarwal",
                                    "EmpFirstName": "Aarav",
                                    "EmpEmail": "AAwal@gmail.com",
                                    "EmpPhone": "7757821341     ",
                                    "EmpMgrID": "E10026"
                                },
                                {
                                    "EmpID": "E10088",
                                    "EmpLastName": "O'Toole",
                                    "EmpFirstName": "Timothy",
                                    "EmpEmail": "TOTOOL@gmail.com",
                                    "EmpPhone": "7758423529     ",
                                    "EmpMgrID": "E10026"
                                },
                                {
                                    "EmpID": "E10101",
                                    "EmpLastName": "Dabiri",
                                    "EmpFirstName": "Dilshad",
                                    "EmpEmail": "DilDabiri@gmail.com",
                                    "EmpPhone": "7758413838     ",
                                    "EmpMgrID": "E10026"
                                },
                                {
                                    "EmpID": "E10192",
                                    "EmpLastName": "Garcia",
                                    "EmpFirstName": "Leonardo",
                                    "EmpEmail": "NULL",
                                    "EmpPhone": "7756219005     ",
                                    "EmpMgrID": "NULL"
                                }
                            ]
                        },
                        "text/html": "<table><tr><th>EmpID</th><th>EmpLastName</th><th>EmpFirstName</th><th>EmpEmail</th><th>EmpPhone</th><th>EmpMgrID</th></tr><tr><td>E10003</td><td>Shamsudeen</td><td>Mumtaz</td><td>MumSham@gmail.com</td><td>7755423212     </td><td>NULL</td></tr><tr><td>E10009</td><td>Hernandez</td><td>Nathan</td><td>NULL</td><td>7755313562     </td><td>E10003</td></tr><tr><td>E10015</td><td>Fetters</td><td>Sam</td><td>SFETTERS@gmail.com</td><td>7753453821     </td><td>E10003</td></tr><tr><td>E10018</td><td>Schnitkowski</td><td>Michael</td><td>MSCHNIT@gmail.com</td><td>7776553582     </td><td>E10003</td></tr><tr><td>E10026</td><td>Nguyen</td><td>Lieu</td><td>LNguyen@gmail.com</td><td>7755313834     </td><td>E10015</td></tr><tr><td>E10042</td><td>Van Meter</td><td>Juliette</td><td>JVANMETER@gmail.com</td><td>7758453551     </td><td>E10026</td></tr><tr><td>E10055</td><td>Huang</td><td>Hai Jun</td><td>HJHuang@gmail.com</td><td>7759153891     </td><td>NULL</td></tr><tr><td>E10056</td><td>Chen</td><td>John</td><td>NULL</td><td>7759053821     </td><td>E10015</td></tr><tr><td>E10057</td><td>Pinot</td><td>Jean Claude</td><td>JPINOT@gmail.com</td><td>7756749002     </td><td>NULL</td></tr><tr><td>E10077</td><td>MacAndrews-Abernethy</td><td>Elizabeth Victoria</td><td>EMACANDREWSABERNET@gmail.com</td><td>7755553894     </td><td>E10026</td></tr><tr><td>E10085</td><td>Wong</td><td>Thomas</td><td>TNW@gmail.com</td><td>7757783511     </td><td>E10026</td></tr><tr><td>E10087</td><td>Agarwal</td><td>Aarav</td><td>AAwal@gmail.com</td><td>7757821341     </td><td>E10026</td></tr><tr><td>E10088</td><td>O'Toole</td><td>Timothy</td><td>TOTOOL@gmail.com</td><td>7758423529     </td><td>E10026</td></tr><tr><td>E10101</td><td>Dabiri</td><td>Dilshad</td><td>DilDabiri@gmail.com</td><td>7758413838     </td><td>E10026</td></tr><tr><td>E10192</td><td>Garcia</td><td>Leonardo</td><td>NULL</td><td>7756219005     </td><td>NULL</td></tr></table>"
                    },
                    "metadata": {}
                }
            ],
            "execution_count": 9
        },
        {
            "cell_type": "code",
            "source": [
                "-- ShipAddress Table\r\n",
                "CREATE TABLE TblShipAddress\r\n",
                "(AddressID INT PRIMARY KEY,\r\n",
                "ShipName VARCHAR(30),\r\n",
                "ShipAddress VARCHAR(30),\r\n",
                "ShipPostalCode VARCHAR(20),\r\n",
                "ShipCountry VARCHAR(30),\r\n",
                "ShipPhone CHAR(15));"
            ],
            "metadata": {
                "azdata_cell_guid": "be46b436-e571-40f2-acaa-391de9f7c014"
            },
            "outputs": [
                {
                    "output_type": "display_data",
                    "data": {
                        "text/html": "Commands completed successfully."
                    },
                    "metadata": {}
                },
                {
                    "output_type": "display_data",
                    "data": {
                        "text/html": "Total execution time: 00:00:00.011"
                    },
                    "metadata": {}
                }
            ],
            "execution_count": 4
        },
        {
            "cell_type": "code",
            "source": [
                "SELECT *\r\n",
                "FROM TblShipAddress;"
            ],
            "metadata": {
                "azdata_cell_guid": "6bf954f2-c76b-4a73-8c3b-512f7ce59a6c"
            },
            "outputs": [
                {
                    "output_type": "display_data",
                    "data": {
                        "text/html": "(10 rows affected)"
                    },
                    "metadata": {}
                },
                {
                    "output_type": "display_data",
                    "data": {
                        "text/html": "Total execution time: 00:00:00.013"
                    },
                    "metadata": {}
                },
                {
                    "output_type": "execute_result",
                    "execution_count": 12,
                    "data": {
                        "application/vnd.dataresource+json": {
                            "schema": {
                                "fields": [
                                    {
                                        "name": "AddressID"
                                    },
                                    {
                                        "name": "ShipName"
                                    },
                                    {
                                        "name": "ShipAddress"
                                    },
                                    {
                                        "name": "ShipPostalCode"
                                    },
                                    {
                                        "name": "ShipCountry"
                                    },
                                    {
                                        "name": "ShipPhone"
                                    }
                                ]
                            },
                            "data": [
                                {
                                    "AddressID": "10",
                                    "ShipName": "Maricopa Vineyards",
                                    "ShipAddress": "7834 West Oakway Avenue",
                                    "ShipPostalCode": "92711",
                                    "ShipCountry": "USA",
                                    "ShipPhone": "4129807811     "
                                },
                                {
                                    "AddressID": "20",
                                    "ShipName": "Jessica Riaz",
                                    "ShipAddress": "35123 Caminito Corriente",
                                    "ShipPostalCode": "92120",
                                    "ShipCountry": "USA",
                                    "ShipPhone": "8584415660     "
                                },
                                {
                                    "AddressID": "30",
                                    "ShipName": "Baselite Industries",
                                    "ShipAddress": "7834 West Oakway Avenue",
                                    "ShipPostalCode": "92711",
                                    "ShipCountry": "USA",
                                    "ShipPhone": "4129807811     "
                                },
                                {
                                    "AddressID": "40",
                                    "ShipName": "Jeremiah Blotsworth",
                                    "ShipAddress": "12 Spotting Dog",
                                    "ShipPostalCode": "CV1 3LD",
                                    "ShipCountry": "UK",
                                    "ShipPhone": "440122489558   "
                                },
                                {
                                    "AddressID": "50",
                                    "ShipName": "Christchurch Stanza",
                                    "ShipAddress": "2104 Akaroa Road",
                                    "ShipPostalCode": "CHR 7672",
                                    "ShipCountry": "NZ",
                                    "ShipPhone": "6409849380692  "
                                },
                                {
                                    "AddressID": "60",
                                    "ShipName": "Michael Lee",
                                    "ShipAddress": "4778 Scofield Ct.",
                                    "ShipPostalCode": "087764551",
                                    "ShipCountry": "USA",
                                    "ShipPhone": "2108967885     "
                                },
                                {
                                    "AddressID": "65",
                                    "ShipName": "Nguyen Thi Hoa",
                                    "ShipAddress": "16/2 Quang Trung Street",
                                    "ShipPostalCode": "Tran Tru",
                                    "ShipCountry": "Long Am 654321",
                                    "ShipPhone": "289896788544   "
                                },
                                {
                                    "AddressID": "70",
                                    "ShipName": "Ivan Smirnov",
                                    "ShipAddress": "1500 15th Avenue",
                                    "ShipPostalCode": "670128996",
                                    "ShipCountry": "USA",
                                    "ShipPhone": "8318892331     "
                                },
                                {
                                    "AddressID": "80",
                                    "ShipName": "January Wang",
                                    "ShipAddress": "891 Aston St.",
                                    "ShipPostalCode": "B4 7DA",
                                    "ShipCountry": "UK",
                                    "ShipPhone": "44490943958    "
                                },
                                {
                                    "AddressID": "85",
                                    "ShipName": "Esperanza Fernandez",
                                    "ShipAddress": "Calle Aduana, 29",
                                    "ShipPostalCode": "28010 Madrid",
                                    "ShipCountry": "Spain",
                                    "ShipPhone": "448395943958   "
                                }
                            ]
                        },
                        "text/html": "<table><tr><th>AddressID</th><th>ShipName</th><th>ShipAddress</th><th>ShipPostalCode</th><th>ShipCountry</th><th>ShipPhone</th></tr><tr><td>10</td><td>Maricopa Vineyards</td><td>7834 West Oakway Avenue</td><td>92711</td><td>USA</td><td>4129807811     </td></tr><tr><td>20</td><td>Jessica Riaz</td><td>35123 Caminito Corriente</td><td>92120</td><td>USA</td><td>8584415660     </td></tr><tr><td>30</td><td>Baselite Industries</td><td>7834 West Oakway Avenue</td><td>92711</td><td>USA</td><td>4129807811     </td></tr><tr><td>40</td><td>Jeremiah Blotsworth</td><td>12 Spotting Dog</td><td>CV1 3LD</td><td>UK</td><td>440122489558   </td></tr><tr><td>50</td><td>Christchurch Stanza</td><td>2104 Akaroa Road</td><td>CHR 7672</td><td>NZ</td><td>6409849380692  </td></tr><tr><td>60</td><td>Michael Lee</td><td>4778 Scofield Ct.</td><td>087764551</td><td>USA</td><td>2108967885     </td></tr><tr><td>65</td><td>Nguyen Thi Hoa</td><td>16/2 Quang Trung Street</td><td>Tran Tru</td><td>Long Am 654321</td><td>289896788544   </td></tr><tr><td>70</td><td>Ivan Smirnov</td><td>1500 15th Avenue</td><td>670128996</td><td>USA</td><td>8318892331     </td></tr><tr><td>80</td><td>January Wang</td><td>891 Aston St.</td><td>B4 7DA</td><td>UK</td><td>44490943958    </td></tr><tr><td>85</td><td>Esperanza Fernandez</td><td>Calle Aduana, 29</td><td>28010 Madrid</td><td>Spain</td><td>448395943958   </td></tr></table>"
                    },
                    "metadata": {}
                }
            ],
            "execution_count": 12
        },
        {
            "cell_type": "code",
            "source": [
                "--ItemType Table\r\n",
                "CREATE TABLE TblItemType\r\n",
                "(TypeID INT PRIMARY KEY,\r\n",
                "CategoryDescription VARCHAR(50));"
            ],
            "metadata": {
                "azdata_cell_guid": "de02856a-7b77-4d31-b6f2-f43060de79ac"
            },
            "outputs": [
                {
                    "output_type": "display_data",
                    "data": {
                        "text/html": "Commands completed successfully."
                    },
                    "metadata": {}
                },
                {
                    "output_type": "display_data",
                    "data": {
                        "text/html": "Total execution time: 00:00:00.009"
                    },
                    "metadata": {}
                }
            ],
            "execution_count": 5
        },
        {
            "cell_type": "code",
            "source": [
                "SELECT *\r\n",
                "FROM TblItemType;"
            ],
            "metadata": {
                "azdata_cell_guid": "5c266c39-8dbc-4a33-9607-353f2fe7ea42"
            },
            "outputs": [
                {
                    "output_type": "display_data",
                    "data": {
                        "text/html": "(10 rows affected)"
                    },
                    "metadata": {}
                },
                {
                    "output_type": "display_data",
                    "data": {
                        "text/html": "Total execution time: 00:00:00.010"
                    },
                    "metadata": {}
                },
                {
                    "output_type": "execute_result",
                    "execution_count": 14,
                    "data": {
                        "application/vnd.dataresource+json": {
                            "schema": {
                                "fields": [
                                    {
                                        "name": "TypeID"
                                    },
                                    {
                                        "name": "CategoryDescription"
                                    }
                                ]
                            },
                            "data": [
                                {
                                    "TypeID": "10",
                                    "CategoryDescription": "Classic Board Games"
                                },
                                {
                                    "TypeID": "11",
                                    "CategoryDescription": "Word Games"
                                },
                                {
                                    "TypeID": "12",
                                    "CategoryDescription": "Science Fiction and Fantasy"
                                },
                                {
                                    "TypeID": "14",
                                    "CategoryDescription": "Jigsaw Puzzles"
                                },
                                {
                                    "TypeID": "15",
                                    "CategoryDescription": "Mystery and Thrillers"
                                },
                                {
                                    "TypeID": "16",
                                    "CategoryDescription": "Romance"
                                },
                                {
                                    "TypeID": "17",
                                    "CategoryDescription": "Comedy and Jokes"
                                },
                                {
                                    "TypeID": "18",
                                    "CategoryDescription": "Board Game Party"
                                },
                                {
                                    "TypeID": "19",
                                    "CategoryDescription": "Family Games"
                                },
                                {
                                    "TypeID": "20",
                                    "CategoryDescription": "Office and Team Building"
                                }
                            ]
                        },
                        "text/html": "<table><tr><th>TypeID</th><th>CategoryDescription</th></tr><tr><td>10</td><td>Classic Board Games</td></tr><tr><td>11</td><td>Word Games</td></tr><tr><td>12</td><td>Science Fiction and Fantasy</td></tr><tr><td>14</td><td>Jigsaw Puzzles</td></tr><tr><td>15</td><td>Mystery and Thrillers</td></tr><tr><td>16</td><td>Romance</td></tr><tr><td>17</td><td>Comedy and Jokes</td></tr><tr><td>18</td><td>Board Game Party</td></tr><tr><td>19</td><td>Family Games</td></tr><tr><td>20</td><td>Office and Team Building</td></tr></table>"
                    },
                    "metadata": {}
                }
            ],
            "execution_count": 14
        },
        {
            "cell_type": "code",
            "source": [
                "--Order Table\r\n",
                "CREATE TABLE TblOrder\r\n",
                "(OrderID CHAR(6) PRIMARY KEY,\r\n",
                "OrderDate DATETIME NOT NULL,\r\n",
                "DiscountCode VARCHAR(2) CHECK (DiscountCode IN ('02', '03', '04', '06', '08', '10', 'A1', 'B3')),\r\n",
                "CreditCode CHAR(3),\r\n",
                "CustomerID CHAR(5) FOREIGN KEY REFERENCES TblCustomer(CustomerID) NOT NULL,\r\n",
                "AddressID INT FOREIGN KEY REFERENCES TblShipAddress(AddressID),\r\n",
                "EmpID CHAR(6) FOREIGN KEY REFERENCES TblEmployee(EmpID));"
            ],
            "metadata": {
                "azdata_cell_guid": "3015d82b-112e-466c-a9c2-d088b1a22b65"
            },
            "outputs": [
                {
                    "output_type": "error",
                    "ename": "",
                    "evalue": "Msg 2714, Level 16, State 6, Line 1\r\nThere is already an object named 'TblOrder' in the database.",
                    "traceback": []
                },
                {
                    "output_type": "display_data",
                    "data": {
                        "text/html": "Total execution time: 00:00:00.002"
                    },
                    "metadata": {}
                }
            ],
            "execution_count": 14
        },
        {
            "cell_type": "code",
            "source": [
                "SELECT *\r\n",
                "FROM TblOrder;"
            ],
            "metadata": {
                "azdata_cell_guid": "4b7d27a8-2f07-477e-9dfa-ede2224bcc3a"
            },
            "outputs": [
                {
                    "output_type": "display_data",
                    "data": {
                        "text/html": "(18 rows affected)"
                    },
                    "metadata": {}
                },
                {
                    "output_type": "display_data",
                    "data": {
                        "text/html": "Total execution time: 00:00:00.012"
                    },
                    "metadata": {}
                },
                {
                    "output_type": "execute_result",
                    "execution_count": 22,
                    "data": {
                        "application/vnd.dataresource+json": {
                            "schema": {
                                "fields": [
                                    {
                                        "name": "OrderID"
                                    },
                                    {
                                        "name": "OrderDate"
                                    },
                                    {
                                        "name": "DiscountCode"
                                    },
                                    {
                                        "name": "CreditCode"
                                    },
                                    {
                                        "name": "CustomerID"
                                    },
                                    {
                                        "name": "AddressID"
                                    },
                                    {
                                        "name": "EmpID"
                                    }
                                ]
                            },
                            "data": [
                                {
                                    "OrderID": "123000",
                                    "OrderDate": "2023-07-12 00:00:00.000",
                                    "DiscountCode": "A1",
                                    "CreditCode": "111",
                                    "CustomerID": "00405",
                                    "AddressID": "NULL",
                                    "EmpID": "E10026"
                                },
                                {
                                    "OrderID": "200335",
                                    "OrderDate": "2023-07-05 00:00:00.000",
                                    "DiscountCode": "NULL",
                                    "CreditCode": "111",
                                    "CustomerID": "07831",
                                    "AddressID": "20",
                                    "EmpID": "E10085"
                                },
                                {
                                    "OrderID": "223344",
                                    "OrderDate": "2023-07-19 00:00:00.000",
                                    "DiscountCode": "NULL",
                                    "CreditCode": "231",
                                    "CustomerID": "21142",
                                    "AddressID": "NULL",
                                    "EmpID": "E10085"
                                },
                                {
                                    "OrderID": "300221",
                                    "OrderDate": "2023-07-05 00:00:00.000",
                                    "DiscountCode": "03",
                                    "CreditCode": "231",
                                    "CustomerID": "07831",
                                    "AddressID": "20",
                                    "EmpID": "E10085"
                                },
                                {
                                    "OrderID": "381921",
                                    "OrderDate": "2023-08-08 00:00:00.000",
                                    "DiscountCode": "06",
                                    "CreditCode": "444",
                                    "CustomerID": "32019",
                                    "AddressID": "40",
                                    "EmpID": "E10085"
                                },
                                {
                                    "OrderID": "400001",
                                    "OrderDate": "2023-07-30 00:00:00.000",
                                    "DiscountCode": "B3",
                                    "CreditCode": "111",
                                    "CustomerID": "32019",
                                    "AddressID": "NULL",
                                    "EmpID": "E10087"
                                },
                                {
                                    "OrderID": "421988",
                                    "OrderDate": "2023-08-12 00:00:00.000",
                                    "DiscountCode": "NULL",
                                    "CreditCode": "117",
                                    "CustomerID": "24221",
                                    "AddressID": "NULL",
                                    "EmpID": "E10085"
                                },
                                {
                                    "OrderID": "445511",
                                    "OrderDate": "2023-07-25 00:00:00.000",
                                    "DiscountCode": "02",
                                    "CreditCode": "444",
                                    "CustomerID": "32019",
                                    "AddressID": "NULL",
                                    "EmpID": "NULL"
                                },
                                {
                                    "OrderID": "450137",
                                    "OrderDate": "2023-06-07 00:00:00.000",
                                    "DiscountCode": "NULL",
                                    "CreditCode": "444",
                                    "CustomerID": "07831",
                                    "AddressID": "10",
                                    "EmpID": "E10026"
                                },
                                {
                                    "OrderID": "567123",
                                    "OrderDate": "2023-07-05 00:00:00.000",
                                    "DiscountCode": "NULL",
                                    "CreditCode": "444",
                                    "CustomerID": "07831",
                                    "AddressID": "10",
                                    "EmpID": "E10057"
                                },
                                {
                                    "OrderID": "651222",
                                    "OrderDate": "2023-07-08 00:00:00.000",
                                    "DiscountCode": "NULL",
                                    "CreditCode": "111",
                                    "CustomerID": "12006",
                                    "AddressID": "NULL",
                                    "EmpID": "E10056"
                                },
                                {
                                    "OrderID": "671100",
                                    "OrderDate": "2023-07-29 00:00:00.000",
                                    "DiscountCode": "NULL",
                                    "CreditCode": "111",
                                    "CustomerID": "32019",
                                    "AddressID": "65",
                                    "EmpID": "E10085"
                                },
                                {
                                    "OrderID": "675990",
                                    "OrderDate": "2023-06-06 00:00:00.000",
                                    "DiscountCode": "NULL",
                                    "CreditCode": "111",
                                    "CustomerID": "00625",
                                    "AddressID": "40",
                                    "EmpID": "E10085"
                                },
                                {
                                    "OrderID": "781206",
                                    "OrderDate": "2023-07-25 00:00:00.000",
                                    "DiscountCode": "06",
                                    "CreditCode": "231",
                                    "CustomerID": "38817",
                                    "AddressID": "85",
                                    "EmpID": "E10056"
                                },
                                {
                                    "OrderID": "828211",
                                    "OrderDate": "2023-08-18 00:00:00.000",
                                    "DiscountCode": "03",
                                    "CreditCode": "444",
                                    "CustomerID": "32817",
                                    "AddressID": "NULL",
                                    "EmpID": "E10026"
                                },
                                {
                                    "OrderID": "892211",
                                    "OrderDate": "2023-06-06 00:00:00.000",
                                    "DiscountCode": "NULL",
                                    "CreditCode": "111",
                                    "CustomerID": "00625",
                                    "AddressID": "NULL",
                                    "EmpID": "E10026"
                                },
                                {
                                    "OrderID": "980001",
                                    "OrderDate": "2023-07-01 00:00:00.000",
                                    "DiscountCode": "04",
                                    "CreditCode": "444",
                                    "CustomerID": "78112",
                                    "AddressID": "NULL",
                                    "EmpID": "NULL"
                                },
                                {
                                    "OrderID": "983983",
                                    "OrderDate": "2023-07-29 00:00:00.000",
                                    "DiscountCode": "NULL",
                                    "CreditCode": "111",
                                    "CustomerID": "32019",
                                    "AddressID": "50",
                                    "EmpID": "NULL"
                                }
                            ]
                        },
                        "text/html": "<table><tr><th>OrderID</th><th>OrderDate</th><th>DiscountCode</th><th>CreditCode</th><th>CustomerID</th><th>AddressID</th><th>EmpID</th></tr><tr><td>123000</td><td>2023-07-12 00:00:00.000</td><td>A1</td><td>111</td><td>00405</td><td>NULL</td><td>E10026</td></tr><tr><td>200335</td><td>2023-07-05 00:00:00.000</td><td>NULL</td><td>111</td><td>07831</td><td>20</td><td>E10085</td></tr><tr><td>223344</td><td>2023-07-19 00:00:00.000</td><td>NULL</td><td>231</td><td>21142</td><td>NULL</td><td>E10085</td></tr><tr><td>300221</td><td>2023-07-05 00:00:00.000</td><td>03</td><td>231</td><td>07831</td><td>20</td><td>E10085</td></tr><tr><td>381921</td><td>2023-08-08 00:00:00.000</td><td>06</td><td>444</td><td>32019</td><td>40</td><td>E10085</td></tr><tr><td>400001</td><td>2023-07-30 00:00:00.000</td><td>B3</td><td>111</td><td>32019</td><td>NULL</td><td>E10087</td></tr><tr><td>421988</td><td>2023-08-12 00:00:00.000</td><td>NULL</td><td>117</td><td>24221</td><td>NULL</td><td>E10085</td></tr><tr><td>445511</td><td>2023-07-25 00:00:00.000</td><td>02</td><td>444</td><td>32019</td><td>NULL</td><td>NULL</td></tr><tr><td>450137</td><td>2023-06-07 00:00:00.000</td><td>NULL</td><td>444</td><td>07831</td><td>10</td><td>E10026</td></tr><tr><td>567123</td><td>2023-07-05 00:00:00.000</td><td>NULL</td><td>444</td><td>07831</td><td>10</td><td>E10057</td></tr><tr><td>651222</td><td>2023-07-08 00:00:00.000</td><td>NULL</td><td>111</td><td>12006</td><td>NULL</td><td>E10056</td></tr><tr><td>671100</td><td>2023-07-29 00:00:00.000</td><td>NULL</td><td>111</td><td>32019</td><td>65</td><td>E10085</td></tr><tr><td>675990</td><td>2023-06-06 00:00:00.000</td><td>NULL</td><td>111</td><td>00625</td><td>40</td><td>E10085</td></tr><tr><td>781206</td><td>2023-07-25 00:00:00.000</td><td>06</td><td>231</td><td>38817</td><td>85</td><td>E10056</td></tr><tr><td>828211</td><td>2023-08-18 00:00:00.000</td><td>03</td><td>444</td><td>32817</td><td>NULL</td><td>E10026</td></tr><tr><td>892211</td><td>2023-06-06 00:00:00.000</td><td>NULL</td><td>111</td><td>00625</td><td>NULL</td><td>E10026</td></tr><tr><td>980001</td><td>2023-07-01 00:00:00.000</td><td>04</td><td>444</td><td>78112</td><td>NULL</td><td>NULL</td></tr><tr><td>983983</td><td>2023-07-29 00:00:00.000</td><td>NULL</td><td>111</td><td>32019</td><td>50</td><td>NULL</td></tr></table>"
                    },
                    "metadata": {}
                }
            ],
            "execution_count": 22
        },
        {
            "cell_type": "code",
            "source": [
                "--Item Table\r\n",
                "CREATE TABLE TblItem\r\n",
                "(ItemID CHAR(6) PRIMARY KEY,\r\n",
                "Description VARCHAR(300),\r\n",
                "ListPrice money NOT NULL CHECK(ListPrice > 5),\r\n",
                "TypeID INT NOT NULL FOREIGN KEY REFERENCES TblItemType(TypeID));"
            ],
            "metadata": {
                "azdata_cell_guid": "9435a3dd-115b-4736-8eb3-3ad06185513e"
            },
            "outputs": [
                {
                    "output_type": "display_data",
                    "data": {
                        "text/html": "Commands completed successfully."
                    },
                    "metadata": {}
                },
                {
                    "output_type": "display_data",
                    "data": {
                        "text/html": "Total execution time: 00:00:00.024"
                    },
                    "metadata": {}
                }
            ],
            "execution_count": 1
        },
        {
            "cell_type": "code",
            "source": [
                "SELECT *\r\n",
                "FROM TblItem;"
            ],
            "metadata": {
                "azdata_cell_guid": "10172eb8-9fd1-4f55-a2c0-5e584f96ba99"
            },
            "outputs": [
                {
                    "output_type": "display_data",
                    "data": {
                        "text/html": "(19 rows affected)"
                    },
                    "metadata": {}
                },
                {
                    "output_type": "display_data",
                    "data": {
                        "text/html": "Total execution time: 00:00:00.034"
                    },
                    "metadata": {}
                },
                {
                    "output_type": "execute_result",
                    "execution_count": 15,
                    "data": {
                        "application/vnd.dataresource+json": {
                            "schema": {
                                "fields": [
                                    {
                                        "name": "ItemID"
                                    },
                                    {
                                        "name": "Description"
                                    },
                                    {
                                        "name": "ListPrice"
                                    },
                                    {
                                        "name": "TypeID"
                                    }
                                ]
                            },
                            "data": [
                                {
                                    "ItemID": "A02939",
                                    "Description": "Rolling Stones Collection 3000 Piece Puzzle",
                                    "ListPrice": "56.99",
                                    "TypeID": "14"
                                },
                                {
                                    "ItemID": "A08123",
                                    "Description": "Strawberry Fields Forever Puzzle",
                                    "ListPrice": "45.99",
                                    "TypeID": "14"
                                },
                                {
                                    "ItemID": "A22444",
                                    "Description": "Mombasa",
                                    "ListPrice": "41.00",
                                    "TypeID": "15"
                                },
                                {
                                    "ItemID": "A23441",
                                    "Description": "New York City Monopoly Game Collector's Edition",
                                    "ListPrice": "29.95",
                                    "TypeID": "10"
                                },
                                {
                                    "ItemID": "A23771",
                                    "Description": "Mysterium",
                                    "ListPrice": "132.99",
                                    "TypeID": "12"
                                },
                                {
                                    "ItemID": "A25698",
                                    "Description": "USA License Plate 1000 Piece Puzzle",
                                    "ListPrice": "18.99",
                                    "TypeID": "14"
                                },
                                {
                                    "ItemID": "A34665",
                                    "Description": "Boggle Deluxe 5x5",
                                    "ListPrice": "34.95",
                                    "TypeID": "10"
                                },
                                {
                                    "ItemID": "A34882",
                                    "Description": "Falling Sky",
                                    "ListPrice": "99.99",
                                    "TypeID": "10"
                                },
                                {
                                    "ItemID": "A45111",
                                    "Description": "How to Host a Murder - An Affair to Dismember",
                                    "ListPrice": "28.95",
                                    "TypeID": "15"
                                },
                                {
                                    "ItemID": "A89222",
                                    "Description": "Pandante",
                                    "ListPrice": "125.99",
                                    "TypeID": "19"
                                },
                                {
                                    "ItemID": "A89437",
                                    "Description": "Geode 3000 Piece Puzzle",
                                    "ListPrice": "64.99",
                                    "TypeID": "14"
                                },
                                {
                                    "ItemID": "B67123",
                                    "Description": "Tiny Epic Galaxies",
                                    "ListPrice": "39.99",
                                    "TypeID": "12"
                                },
                                {
                                    "ItemID": "B67466",
                                    "Description": "Diplomacy:  Game of Negotiation, Cunning and Deceit.",
                                    "ListPrice": "43.95",
                                    "TypeID": "20"
                                },
                                {
                                    "ItemID": "B78244",
                                    "Description": "Code Names",
                                    "ListPrice": "19.95",
                                    "TypeID": "15"
                                },
                                {
                                    "ItemID": "B78500",
                                    "Description": "Pandemic Legacy",
                                    "ListPrice": "59.99",
                                    "TypeID": "12"
                                },
                                {
                                    "ItemID": "C26133",
                                    "Description": "Knowledge Management:  Create a Learning Organization",
                                    "ListPrice": "395.95",
                                    "TypeID": "20"
                                },
                                {
                                    "ItemID": "C29179",
                                    "Description": "Managing Change:  The Game for an Executive Retreat",
                                    "ListPrice": "259.95",
                                    "TypeID": "20"
                                },
                                {
                                    "ItemID": "C34122",
                                    "Description": "A Game of Strategy, Negotiation and Excitement for Office Retreats",
                                    "ListPrice": "169.95",
                                    "TypeID": "20"
                                },
                                {
                                    "ItemID": "C38141",
                                    "Description": "Digital Transformation and Changing Work Environment",
                                    "ListPrice": "198.99",
                                    "TypeID": "20"
                                }
                            ]
                        },
                        "text/html": "<table><tr><th>ItemID</th><th>Description</th><th>ListPrice</th><th>TypeID</th></tr><tr><td>A02939</td><td>Rolling Stones Collection 3000 Piece Puzzle</td><td>56.99</td><td>14</td></tr><tr><td>A08123</td><td>Strawberry Fields Forever Puzzle</td><td>45.99</td><td>14</td></tr><tr><td>A22444</td><td>Mombasa</td><td>41.00</td><td>15</td></tr><tr><td>A23441</td><td>New York City Monopoly Game Collector's Edition</td><td>29.95</td><td>10</td></tr><tr><td>A23771</td><td>Mysterium</td><td>132.99</td><td>12</td></tr><tr><td>A25698</td><td>USA License Plate 1000 Piece Puzzle</td><td>18.99</td><td>14</td></tr><tr><td>A34665</td><td>Boggle Deluxe 5x5</td><td>34.95</td><td>10</td></tr><tr><td>A34882</td><td>Falling Sky</td><td>99.99</td><td>10</td></tr><tr><td>A45111</td><td>How to Host a Murder - An Affair to Dismember</td><td>28.95</td><td>15</td></tr><tr><td>A89222</td><td>Pandante</td><td>125.99</td><td>19</td></tr><tr><td>A89437</td><td>Geode 3000 Piece Puzzle</td><td>64.99</td><td>14</td></tr><tr><td>B67123</td><td>Tiny Epic Galaxies</td><td>39.99</td><td>12</td></tr><tr><td>B67466</td><td>Diplomacy:  Game of Negotiation, Cunning and Deceit.</td><td>43.95</td><td>20</td></tr><tr><td>B78244</td><td>Code Names</td><td>19.95</td><td>15</td></tr><tr><td>B78500</td><td>Pandemic Legacy</td><td>59.99</td><td>12</td></tr><tr><td>C26133</td><td>Knowledge Management:  Create a Learning Organization</td><td>395.95</td><td>20</td></tr><tr><td>C29179</td><td>Managing Change:  The Game for an Executive Retreat</td><td>259.95</td><td>20</td></tr><tr><td>C34122</td><td>A Game of Strategy, Negotiation and Excitement for Office Retreats</td><td>169.95</td><td>20</td></tr><tr><td>C38141</td><td>Digital Transformation and Changing Work Environment</td><td>198.99</td><td>20</td></tr></table>"
                    },
                    "metadata": {}
                }
            ],
            "execution_count": 15
        },
        {
            "cell_type": "code",
            "source": [
                "--OrderLine Table\r\n",
                "CREATE TABLE TblOrderLine\r\n",
                "(OrderID CHAR(6) FOREIGN KEY REFERENCES TblOrder(OrderID),\r\n",
                "ItemID CHAR(6) FOREIGN KEY REFERENCES TblItem(ItemID),\r\n",
                "PRIMARY KEY(OrderID,ItemID),\r\n",
                "QtyOrdered INT NOT NULL CHECK(QtyOrdered > 0),\r\n",
                "Price MONEY NOT NULL CHECK(Price > 0),\r\n",
                "AddressID INT FOREIGN KEY REFERENCES TblShipAddress(AddressID));"
            ],
            "metadata": {
                "azdata_cell_guid": "ca3092c6-7997-45a4-b184-a0d5651a1109"
            },
            "outputs": [
                {
                    "output_type": "display_data",
                    "data": {
                        "text/html": "Commands completed successfully."
                    },
                    "metadata": {}
                },
                {
                    "output_type": "display_data",
                    "data": {
                        "text/html": "Total execution time: 00:00:00.022"
                    },
                    "metadata": {}
                }
            ],
            "execution_count": 3
        },
        {
            "cell_type": "code",
            "source": [
                "SELECT *\r\n",
                "FROM TblOrderLine;"
            ],
            "metadata": {
                "azdata_cell_guid": "e3fc9113-fe8f-4b07-a092-eeb6a64cb39d",
                "tags": []
            },
            "outputs": [
                {
                    "output_type": "display_data",
                    "data": {
                        "text/html": "(46 rows affected)"
                    },
                    "metadata": {}
                },
                {
                    "output_type": "display_data",
                    "data": {
                        "text/html": "Total execution time: 00:00:00.012"
                    },
                    "metadata": {}
                },
                {
                    "output_type": "execute_result",
                    "execution_count": 23,
                    "data": {
                        "application/vnd.dataresource+json": {
                            "schema": {
                                "fields": [
                                    {
                                        "name": "OrderID"
                                    },
                                    {
                                        "name": "ItemID"
                                    },
                                    {
                                        "name": "QtyOrdered"
                                    },
                                    {
                                        "name": "Price"
                                    },
                                    {
                                        "name": "AddressID"
                                    }
                                ]
                            },
                            "data": [
                                {
                                    "OrderID": "123000",
                                    "ItemID": "A23441",
                                    "QtyOrdered": "8",
                                    "Price": "29.95",
                                    "AddressID": "NULL"
                                },
                                {
                                    "OrderID": "123000",
                                    "ItemID": "A34665",
                                    "QtyOrdered": "30",
                                    "Price": "37.95",
                                    "AddressID": "65"
                                },
                                {
                                    "OrderID": "123000",
                                    "ItemID": "B67123",
                                    "QtyOrdered": "5",
                                    "Price": "389.99",
                                    "AddressID": "NULL"
                                },
                                {
                                    "OrderID": "200335",
                                    "ItemID": "A23441",
                                    "QtyOrdered": "1",
                                    "Price": "29.95",
                                    "AddressID": "NULL"
                                },
                                {
                                    "OrderID": "200335",
                                    "ItemID": "A34665",
                                    "QtyOrdered": "1",
                                    "Price": "34.95",
                                    "AddressID": "NULL"
                                },
                                {
                                    "OrderID": "200335",
                                    "ItemID": "B67123",
                                    "QtyOrdered": "1",
                                    "Price": "39.99",
                                    "AddressID": "NULL"
                                },
                                {
                                    "OrderID": "200335",
                                    "ItemID": "B67466",
                                    "QtyOrdered": "1",
                                    "Price": "43.95",
                                    "AddressID": "NULL"
                                },
                                {
                                    "OrderID": "223344",
                                    "ItemID": "A23441",
                                    "QtyOrdered": "55",
                                    "Price": "29.95",
                                    "AddressID": "60"
                                },
                                {
                                    "OrderID": "223344",
                                    "ItemID": "A23771",
                                    "QtyOrdered": "15",
                                    "Price": "122.99",
                                    "AddressID": "50"
                                },
                                {
                                    "OrderID": "223344",
                                    "ItemID": "A34665",
                                    "QtyOrdered": "100",
                                    "Price": "23.95",
                                    "AddressID": "50"
                                },
                                {
                                    "OrderID": "223344",
                                    "ItemID": "A34882",
                                    "QtyOrdered": "35",
                                    "Price": "7.95",
                                    "AddressID": "60"
                                },
                                {
                                    "OrderID": "223344",
                                    "ItemID": "B67123",
                                    "QtyOrdered": "25",
                                    "Price": "34.95",
                                    "AddressID": "40"
                                },
                                {
                                    "OrderID": "223344",
                                    "ItemID": "B67466",
                                    "QtyOrdered": "15",
                                    "Price": "40.95",
                                    "AddressID": "60"
                                },
                                {
                                    "OrderID": "300221",
                                    "ItemID": "A23771",
                                    "QtyOrdered": "1",
                                    "Price": "145.99",
                                    "AddressID": "NULL"
                                },
                                {
                                    "OrderID": "300221",
                                    "ItemID": "A34665",
                                    "QtyOrdered": "1",
                                    "Price": "35.95",
                                    "AddressID": "NULL"
                                },
                                {
                                    "OrderID": "300221",
                                    "ItemID": "A34882",
                                    "QtyOrdered": "1",
                                    "Price": "92.99",
                                    "AddressID": "NULL"
                                },
                                {
                                    "OrderID": "300221",
                                    "ItemID": "B67123",
                                    "QtyOrdered": "1",
                                    "Price": "39.99",
                                    "AddressID": "NULL"
                                },
                                {
                                    "OrderID": "300221",
                                    "ItemID": "B78244",
                                    "QtyOrdered": "1",
                                    "Price": "19.95",
                                    "AddressID": "NULL"
                                },
                                {
                                    "OrderID": "381921",
                                    "ItemID": "C29179",
                                    "QtyOrdered": "10",
                                    "Price": "265.99",
                                    "AddressID": "NULL"
                                },
                                {
                                    "OrderID": "381921",
                                    "ItemID": "C38141",
                                    "QtyOrdered": "5",
                                    "Price": "215.99",
                                    "AddressID": "NULL"
                                },
                                {
                                    "OrderID": "400001",
                                    "ItemID": "C26133",
                                    "QtyOrdered": "1",
                                    "Price": "395.95",
                                    "AddressID": "NULL"
                                },
                                {
                                    "OrderID": "421988",
                                    "ItemID": "B67466",
                                    "QtyOrdered": "2",
                                    "Price": "43.95",
                                    "AddressID": "NULL"
                                },
                                {
                                    "OrderID": "445511",
                                    "ItemID": "C34122",
                                    "QtyOrdered": "3",
                                    "Price": "269.95",
                                    "AddressID": "NULL"
                                },
                                {
                                    "OrderID": "450137",
                                    "ItemID": "A23771",
                                    "QtyOrdered": "16",
                                    "Price": "135.99",
                                    "AddressID": "NULL"
                                },
                                {
                                    "OrderID": "450137",
                                    "ItemID": "A34665",
                                    "QtyOrdered": "10",
                                    "Price": "31.00",
                                    "AddressID": "NULL"
                                },
                                {
                                    "OrderID": "450137",
                                    "ItemID": "A34882",
                                    "QtyOrdered": "50",
                                    "Price": "85.99",
                                    "AddressID": "85"
                                },
                                {
                                    "OrderID": "450137",
                                    "ItemID": "B67123",
                                    "QtyOrdered": "21",
                                    "Price": "14.95",
                                    "AddressID": "20"
                                },
                                {
                                    "OrderID": "450137",
                                    "ItemID": "B67466",
                                    "QtyOrdered": "9",
                                    "Price": "41.95",
                                    "AddressID": "65"
                                },
                                {
                                    "OrderID": "450137",
                                    "ItemID": "C26133",
                                    "QtyOrdered": "4",
                                    "Price": "398.95",
                                    "AddressID": "10"
                                },
                                {
                                    "OrderID": "450137",
                                    "ItemID": "C34122",
                                    "QtyOrdered": "6",
                                    "Price": "167.95",
                                    "AddressID": "NULL"
                                },
                                {
                                    "OrderID": "567123",
                                    "ItemID": "C26133",
                                    "QtyOrdered": "1",
                                    "Price": "395.95",
                                    "AddressID": "NULL"
                                },
                                {
                                    "OrderID": "651222",
                                    "ItemID": "A34665",
                                    "QtyOrdered": "5",
                                    "Price": "37.95",
                                    "AddressID": "NULL"
                                },
                                {
                                    "OrderID": "651222",
                                    "ItemID": "A34882",
                                    "QtyOrdered": "16",
                                    "Price": "90.99",
                                    "AddressID": "40"
                                },
                                {
                                    "OrderID": "651222",
                                    "ItemID": "B78244",
                                    "QtyOrdered": "21",
                                    "Price": "17.99",
                                    "AddressID": "NULL"
                                },
                                {
                                    "OrderID": "671100",
                                    "ItemID": "C29179",
                                    "QtyOrdered": "1",
                                    "Price": "259.95",
                                    "AddressID": "NULL"
                                },
                                {
                                    "OrderID": "781206",
                                    "ItemID": "B67466",
                                    "QtyOrdered": "1",
                                    "Price": "43.95",
                                    "AddressID": "80"
                                },
                                {
                                    "OrderID": "781206",
                                    "ItemID": "C29179",
                                    "QtyOrdered": "2",
                                    "Price": "280.00",
                                    "AddressID": "30"
                                },
                                {
                                    "OrderID": "828211",
                                    "ItemID": "A25698",
                                    "QtyOrdered": "2",
                                    "Price": "16.99",
                                    "AddressID": "70"
                                },
                                {
                                    "OrderID": "828211",
                                    "ItemID": "A89437",
                                    "QtyOrdered": "5",
                                    "Price": "75.99",
                                    "AddressID": "NULL"
                                },
                                {
                                    "OrderID": "892211",
                                    "ItemID": "C26133",
                                    "QtyOrdered": "15",
                                    "Price": "380.00",
                                    "AddressID": "10"
                                },
                                {
                                    "OrderID": "892211",
                                    "ItemID": "C29179",
                                    "QtyOrdered": "10",
                                    "Price": "259.95",
                                    "AddressID": "50"
                                },
                                {
                                    "OrderID": "892211",
                                    "ItemID": "C34122",
                                    "QtyOrdered": "8",
                                    "Price": "200.00",
                                    "AddressID": "10"
                                },
                                {
                                    "OrderID": "980001",
                                    "ItemID": "C29179",
                                    "QtyOrdered": "3",
                                    "Price": "275.99",
                                    "AddressID": "85"
                                },
                                {
                                    "OrderID": "980001",
                                    "ItemID": "C34122",
                                    "QtyOrdered": "2",
                                    "Price": "169.95",
                                    "AddressID": "40"
                                },
                                {
                                    "OrderID": "983983",
                                    "ItemID": "A23771",
                                    "QtyOrdered": "1",
                                    "Price": "135.99",
                                    "AddressID": "NULL"
                                },
                                {
                                    "OrderID": "983983",
                                    "ItemID": "B78244",
                                    "QtyOrdered": "18",
                                    "Price": "18.95",
                                    "AddressID": "NULL"
                                }
                            ]
                        },
                        "text/html": "<table><tr><th>OrderID</th><th>ItemID</th><th>QtyOrdered</th><th>Price</th><th>AddressID</th></tr><tr><td>123000</td><td>A23441</td><td>8</td><td>29.95</td><td>NULL</td></tr><tr><td>123000</td><td>A34665</td><td>30</td><td>37.95</td><td>65</td></tr><tr><td>123000</td><td>B67123</td><td>5</td><td>389.99</td><td>NULL</td></tr><tr><td>200335</td><td>A23441</td><td>1</td><td>29.95</td><td>NULL</td></tr><tr><td>200335</td><td>A34665</td><td>1</td><td>34.95</td><td>NULL</td></tr><tr><td>200335</td><td>B67123</td><td>1</td><td>39.99</td><td>NULL</td></tr><tr><td>200335</td><td>B67466</td><td>1</td><td>43.95</td><td>NULL</td></tr><tr><td>223344</td><td>A23441</td><td>55</td><td>29.95</td><td>60</td></tr><tr><td>223344</td><td>A23771</td><td>15</td><td>122.99</td><td>50</td></tr><tr><td>223344</td><td>A34665</td><td>100</td><td>23.95</td><td>50</td></tr><tr><td>223344</td><td>A34882</td><td>35</td><td>7.95</td><td>60</td></tr><tr><td>223344</td><td>B67123</td><td>25</td><td>34.95</td><td>40</td></tr><tr><td>223344</td><td>B67466</td><td>15</td><td>40.95</td><td>60</td></tr><tr><td>300221</td><td>A23771</td><td>1</td><td>145.99</td><td>NULL</td></tr><tr><td>300221</td><td>A34665</td><td>1</td><td>35.95</td><td>NULL</td></tr><tr><td>300221</td><td>A34882</td><td>1</td><td>92.99</td><td>NULL</td></tr><tr><td>300221</td><td>B67123</td><td>1</td><td>39.99</td><td>NULL</td></tr><tr><td>300221</td><td>B78244</td><td>1</td><td>19.95</td><td>NULL</td></tr><tr><td>381921</td><td>C29179</td><td>10</td><td>265.99</td><td>NULL</td></tr><tr><td>381921</td><td>C38141</td><td>5</td><td>215.99</td><td>NULL</td></tr><tr><td>400001</td><td>C26133</td><td>1</td><td>395.95</td><td>NULL</td></tr><tr><td>421988</td><td>B67466</td><td>2</td><td>43.95</td><td>NULL</td></tr><tr><td>445511</td><td>C34122</td><td>3</td><td>269.95</td><td>NULL</td></tr><tr><td>450137</td><td>A23771</td><td>16</td><td>135.99</td><td>NULL</td></tr><tr><td>450137</td><td>A34665</td><td>10</td><td>31.00</td><td>NULL</td></tr><tr><td>450137</td><td>A34882</td><td>50</td><td>85.99</td><td>85</td></tr><tr><td>450137</td><td>B67123</td><td>21</td><td>14.95</td><td>20</td></tr><tr><td>450137</td><td>B67466</td><td>9</td><td>41.95</td><td>65</td></tr><tr><td>450137</td><td>C26133</td><td>4</td><td>398.95</td><td>10</td></tr><tr><td>450137</td><td>C34122</td><td>6</td><td>167.95</td><td>NULL</td></tr><tr><td>567123</td><td>C26133</td><td>1</td><td>395.95</td><td>NULL</td></tr><tr><td>651222</td><td>A34665</td><td>5</td><td>37.95</td><td>NULL</td></tr><tr><td>651222</td><td>A34882</td><td>16</td><td>90.99</td><td>40</td></tr><tr><td>651222</td><td>B78244</td><td>21</td><td>17.99</td><td>NULL</td></tr><tr><td>671100</td><td>C29179</td><td>1</td><td>259.95</td><td>NULL</td></tr><tr><td>781206</td><td>B67466</td><td>1</td><td>43.95</td><td>80</td></tr><tr><td>781206</td><td>C29179</td><td>2</td><td>280.00</td><td>30</td></tr><tr><td>828211</td><td>A25698</td><td>2</td><td>16.99</td><td>70</td></tr><tr><td>828211</td><td>A89437</td><td>5</td><td>75.99</td><td>NULL</td></tr><tr><td>892211</td><td>C26133</td><td>15</td><td>380.00</td><td>10</td></tr><tr><td>892211</td><td>C29179</td><td>10</td><td>259.95</td><td>50</td></tr><tr><td>892211</td><td>C34122</td><td>8</td><td>200.00</td><td>10</td></tr><tr><td>980001</td><td>C29179</td><td>3</td><td>275.99</td><td>85</td></tr><tr><td>980001</td><td>C34122</td><td>2</td><td>169.95</td><td>40</td></tr><tr><td>983983</td><td>A23771</td><td>1</td><td>135.99</td><td>NULL</td></tr><tr><td>983983</td><td>B78244</td><td>18</td><td>18.95</td><td>NULL</td></tr></table>"
                    },
                    "metadata": {}
                }
            ],
            "execution_count": 23
        },
        {
            "cell_type": "code",
            "source": [
                "--ShipLine Table\r\n",
                "CREATE TABLE TblShipLine\r\n",
                "(ShipLineID INT IDENTITY(1,1) PRIMARY KEY,\r\n",
                "DateShipped DATETIME NOT NULL,\r\n",
                "OrderID CHAR(6) NOT NULL,\r\n",
                "ItemID CHAR(6) NOT NULL,\r\n",
                "LocationID CHAR(2) NOT NULL,\r\n",
                "FOREIGN KEY (ItemID, LocationID) REFERENCES TblItemLocation(ItemID, LocationID),\r\n",
                "FOREIGN KEY (OrderID, ItemID) REFERENCES TblOrderLine(OrderID, ItemID),\r\n",
                "QtyShipped INT NOT NULL,\r\n",
                "MethodShipped VARCHAR(30) NOT NULL);"
            ],
            "metadata": {
                "azdata_cell_guid": "fa1f8153-3071-47ac-bdb9-a11dfec6752a",
                "tags": []
            },
            "outputs": [
                {
                    "output_type": "display_data",
                    "data": {
                        "text/html": "Commands completed successfully."
                    },
                    "metadata": {}
                },
                {
                    "output_type": "display_data",
                    "data": {
                        "text/html": "Total execution time: 00:00:00.018"
                    },
                    "metadata": {}
                }
            ],
            "execution_count": 7
        },
        {
            "cell_type": "code",
            "source": [
                "SELECT *\r\n",
                "FROM TblShipLine;"
            ],
            "metadata": {
                "azdata_cell_guid": "8deec95e-0e0b-40a8-a98b-482bd7d4932b"
            },
            "outputs": [
                {
                    "output_type": "display_data",
                    "data": {
                        "text/html": "(53 rows affected)"
                    },
                    "metadata": {}
                },
                {
                    "output_type": "display_data",
                    "data": {
                        "text/html": "Total execution time: 00:00:00.013"
                    },
                    "metadata": {}
                },
                {
                    "output_type": "execute_result",
                    "execution_count": 25,
                    "data": {
                        "application/vnd.dataresource+json": {
                            "schema": {
                                "fields": [
                                    {
                                        "name": "ShipLineID"
                                    },
                                    {
                                        "name": "DateShipped"
                                    },
                                    {
                                        "name": "OrderID"
                                    },
                                    {
                                        "name": "ItemID"
                                    },
                                    {
                                        "name": "LocationID"
                                    },
                                    {
                                        "name": "QtyShipped"
                                    },
                                    {
                                        "name": "MethodShipped"
                                    }
                                ]
                            },
                            "data": [
                                {
                                    "ShipLineID": "54",
                                    "DateShipped": "2023-07-25 08:00:00.000",
                                    "OrderID": "123000",
                                    "ItemID": "A23441",
                                    "LocationID": "20",
                                    "QtyShipped": "8",
                                    "MethodShipped": "UPS"
                                },
                                {
                                    "ShipLineID": "55",
                                    "DateShipped": "2023-07-25 08:00:00.000",
                                    "OrderID": "123000",
                                    "ItemID": "A34665",
                                    "LocationID": "10",
                                    "QtyShipped": "32",
                                    "MethodShipped": "UPS"
                                },
                                {
                                    "ShipLineID": "56",
                                    "DateShipped": "2023-08-04 09:00:00.000",
                                    "OrderID": "123000",
                                    "ItemID": "B67123",
                                    "LocationID": "10",
                                    "QtyShipped": "5",
                                    "MethodShipped": "UPS"
                                },
                                {
                                    "ShipLineID": "57",
                                    "DateShipped": "2023-07-15 08:52:00.000",
                                    "OrderID": "980001",
                                    "ItemID": "C34122",
                                    "LocationID": "10",
                                    "QtyShipped": "2",
                                    "MethodShipped": "FEDEX"
                                },
                                {
                                    "ShipLineID": "58",
                                    "DateShipped": "2023-07-16 11:21:00.000",
                                    "OrderID": "980001",
                                    "ItemID": "C29179",
                                    "LocationID": "10",
                                    "QtyShipped": "3",
                                    "MethodShipped": "FEDex"
                                },
                                {
                                    "ShipLineID": "59",
                                    "DateShipped": "2023-08-04 23:44:00.000",
                                    "OrderID": "671100",
                                    "ItemID": "C29179",
                                    "LocationID": "10",
                                    "QtyShipped": "1",
                                    "MethodShipped": "UPS"
                                },
                                {
                                    "ShipLineID": "60",
                                    "DateShipped": "2023-07-20 14:18:00.000",
                                    "OrderID": "223344",
                                    "ItemID": "A23441",
                                    "LocationID": "10",
                                    "QtyShipped": "3",
                                    "MethodShipped": "UPS"
                                },
                                {
                                    "ShipLineID": "61",
                                    "DateShipped": "2023-07-20 08:22:00.000",
                                    "OrderID": "223344",
                                    "ItemID": "A23441",
                                    "LocationID": "20",
                                    "QtyShipped": "20",
                                    "MethodShipped": "UPS"
                                },
                                {
                                    "ShipLineID": "62",
                                    "DateShipped": "2023-07-22 08:12:00.000",
                                    "OrderID": "223344",
                                    "ItemID": "A23441",
                                    "LocationID": "20",
                                    "QtyShipped": "5",
                                    "MethodShipped": "Ups"
                                },
                                {
                                    "ShipLineID": "63",
                                    "DateShipped": "2023-07-20 10:15:00.000",
                                    "OrderID": "223344",
                                    "ItemID": "A34665",
                                    "LocationID": "10",
                                    "QtyShipped": "45",
                                    "MethodShipped": "UPs"
                                },
                                {
                                    "ShipLineID": "64",
                                    "DateShipped": "2023-07-22 10:16:00.000",
                                    "OrderID": "223344",
                                    "ItemID": "A34665",
                                    "LocationID": "10",
                                    "QtyShipped": "65",
                                    "MethodShipped": "ups"
                                },
                                {
                                    "ShipLineID": "65",
                                    "DateShipped": "2023-07-20 10:17:00.000",
                                    "OrderID": "223344",
                                    "ItemID": "A23771",
                                    "LocationID": "10",
                                    "QtyShipped": "8",
                                    "MethodShipped": "ups"
                                },
                                {
                                    "ShipLineID": "66",
                                    "DateShipped": "2023-07-20 19:34:00.000",
                                    "OrderID": "223344",
                                    "ItemID": "A23771",
                                    "LocationID": "20",
                                    "QtyShipped": "2",
                                    "MethodShipped": "UPS"
                                },
                                {
                                    "ShipLineID": "67",
                                    "DateShipped": "2023-07-21 19:57:00.000",
                                    "OrderID": "223344",
                                    "ItemID": "A23771",
                                    "LocationID": "30",
                                    "QtyShipped": "5",
                                    "MethodShipped": "UPS"
                                },
                                {
                                    "ShipLineID": "68",
                                    "DateShipped": "2023-07-20 19:01:00.000",
                                    "OrderID": "223344",
                                    "ItemID": "A34882",
                                    "LocationID": "10",
                                    "QtyShipped": "15",
                                    "MethodShipped": "fedEX"
                                },
                                {
                                    "ShipLineID": "69",
                                    "DateShipped": "2023-07-20 19:53:00.000",
                                    "OrderID": "223344",
                                    "ItemID": "B67123",
                                    "LocationID": "10",
                                    "QtyShipped": "13",
                                    "MethodShipped": "UPS"
                                },
                                {
                                    "ShipLineID": "70",
                                    "DateShipped": "2023-07-22 20:21:00.000",
                                    "OrderID": "223344",
                                    "ItemID": "A34882",
                                    "LocationID": "10",
                                    "QtyShipped": "20",
                                    "MethodShipped": "UPS"
                                },
                                {
                                    "ShipLineID": "71",
                                    "DateShipped": "2023-07-26 20:23:00.000",
                                    "OrderID": "445511",
                                    "ItemID": "C34122",
                                    "LocationID": "10",
                                    "QtyShipped": "3",
                                    "MethodShipped": "FeDEX"
                                },
                                {
                                    "ShipLineID": "72",
                                    "DateShipped": "2023-08-09 20:24:00.000",
                                    "OrderID": "651222",
                                    "ItemID": "A34665",
                                    "LocationID": "10",
                                    "QtyShipped": "2",
                                    "MethodShipped": "UPS"
                                },
                                {
                                    "ShipLineID": "73",
                                    "DateShipped": "2023-08-11 20:25:00.000",
                                    "OrderID": "651222",
                                    "ItemID": "A34665",
                                    "LocationID": "10",
                                    "QtyShipped": "3",
                                    "MethodShipped": "UPS"
                                },
                                {
                                    "ShipLineID": "74",
                                    "DateShipped": "2023-08-09 20:24:00.000",
                                    "OrderID": "651222",
                                    "ItemID": "A34882",
                                    "LocationID": "10",
                                    "QtyShipped": "5",
                                    "MethodShipped": "UPS"
                                },
                                {
                                    "ShipLineID": "75",
                                    "DateShipped": "2023-08-12 17:33:00.000",
                                    "OrderID": "651222",
                                    "ItemID": "A34882",
                                    "LocationID": "10",
                                    "QtyShipped": "7",
                                    "MethodShipped": "FedEX"
                                },
                                {
                                    "ShipLineID": "76",
                                    "DateShipped": "2023-08-13 16:00:00.000",
                                    "OrderID": "651222",
                                    "ItemID": "B78244",
                                    "LocationID": "20",
                                    "QtyShipped": "21",
                                    "MethodShipped": "ups"
                                },
                                {
                                    "ShipLineID": "77",
                                    "DateShipped": "2023-08-26 12:33:00.000",
                                    "OrderID": "651222",
                                    "ItemID": "A34882",
                                    "LocationID": "10",
                                    "QtyShipped": "1",
                                    "MethodShipped": "UPS"
                                },
                                {
                                    "ShipLineID": "78",
                                    "DateShipped": "2023-07-20 16:00:00.000",
                                    "OrderID": "300221",
                                    "ItemID": "A34665",
                                    "LocationID": "10",
                                    "QtyShipped": "1",
                                    "MethodShipped": "UPS"
                                },
                                {
                                    "ShipLineID": "79",
                                    "DateShipped": "2023-07-15 08:00:00.000",
                                    "OrderID": "300221",
                                    "ItemID": "A23771",
                                    "LocationID": "20",
                                    "QtyShipped": "1",
                                    "MethodShipped": "Ups"
                                },
                                {
                                    "ShipLineID": "80",
                                    "DateShipped": "2023-07-22 08:45:00.000",
                                    "OrderID": "300221",
                                    "ItemID": "A34882",
                                    "LocationID": "10",
                                    "QtyShipped": "1",
                                    "MethodShipped": "UPs"
                                },
                                {
                                    "ShipLineID": "81",
                                    "DateShipped": "2023-07-30 10:04:00.000",
                                    "OrderID": "300221",
                                    "ItemID": "B67123",
                                    "LocationID": "10",
                                    "QtyShipped": "1",
                                    "MethodShipped": "UpS"
                                },
                                {
                                    "ShipLineID": "82",
                                    "DateShipped": "2023-07-15 10:11:00.000",
                                    "OrderID": "300221",
                                    "ItemID": "B78244",
                                    "LocationID": "20",
                                    "QtyShipped": "1",
                                    "MethodShipped": "UPS"
                                },
                                {
                                    "ShipLineID": "83",
                                    "DateShipped": "2023-07-02 18:33:00.000",
                                    "OrderID": "892211",
                                    "ItemID": "C34122",
                                    "LocationID": "20",
                                    "QtyShipped": "3",
                                    "MethodShipped": "UPS"
                                },
                                {
                                    "ShipLineID": "84",
                                    "DateShipped": "2023-07-02 19:11:00.000",
                                    "OrderID": "892211",
                                    "ItemID": "C34122",
                                    "LocationID": "10",
                                    "QtyShipped": "2",
                                    "MethodShipped": "UPS"
                                },
                                {
                                    "ShipLineID": "85",
                                    "DateShipped": "2023-07-02 19:32:00.000",
                                    "OrderID": "892211",
                                    "ItemID": "C29179",
                                    "LocationID": "10",
                                    "QtyShipped": "6",
                                    "MethodShipped": "UPS"
                                },
                                {
                                    "ShipLineID": "86",
                                    "DateShipped": "2023-07-06 20:43:00.000",
                                    "OrderID": "450137",
                                    "ItemID": "B67123",
                                    "LocationID": "40",
                                    "QtyShipped": "4",
                                    "MethodShipped": "ups"
                                },
                                {
                                    "ShipLineID": "87",
                                    "DateShipped": "2023-07-06 18:23:00.000",
                                    "OrderID": "450137",
                                    "ItemID": "B67123",
                                    "LocationID": "20",
                                    "QtyShipped": "3",
                                    "MethodShipped": "UPS"
                                },
                                {
                                    "ShipLineID": "88",
                                    "DateShipped": "2023-07-06 14:51:00.000",
                                    "OrderID": "450137",
                                    "ItemID": "B67123",
                                    "LocationID": "30",
                                    "QtyShipped": "14",
                                    "MethodShipped": "Ups"
                                },
                                {
                                    "ShipLineID": "89",
                                    "DateShipped": "2023-06-28 15:21:00.000",
                                    "OrderID": "450137",
                                    "ItemID": "B67123",
                                    "LocationID": "20",
                                    "QtyShipped": "8",
                                    "MethodShipped": "ups"
                                },
                                {
                                    "ShipLineID": "90",
                                    "DateShipped": "2023-07-31 15:22:00.000",
                                    "OrderID": "450137",
                                    "ItemID": "A34665",
                                    "LocationID": "10",
                                    "QtyShipped": "10",
                                    "MethodShipped": "FeDeX"
                                },
                                {
                                    "ShipLineID": "91",
                                    "DateShipped": "2023-08-09 13:44:00.000",
                                    "OrderID": "450137",
                                    "ItemID": "A34882",
                                    "LocationID": "30",
                                    "QtyShipped": "15",
                                    "MethodShipped": "UpS"
                                },
                                {
                                    "ShipLineID": "92",
                                    "DateShipped": "2023-07-29 09:00:00.000",
                                    "OrderID": "200335",
                                    "ItemID": "A23441",
                                    "LocationID": "20",
                                    "QtyShipped": "6",
                                    "MethodShipped": "UPS"
                                },
                                {
                                    "ShipLineID": "93",
                                    "DateShipped": "2023-07-29 09:00:00.000",
                                    "OrderID": "781206",
                                    "ItemID": "B67466",
                                    "LocationID": "30",
                                    "QtyShipped": "4",
                                    "MethodShipped": "Amazon Freight"
                                },
                                {
                                    "ShipLineID": "94",
                                    "DateShipped": "2023-07-31 09:56:00.000",
                                    "OrderID": "200335",
                                    "ItemID": "B67466",
                                    "LocationID": "10",
                                    "QtyShipped": "1",
                                    "MethodShipped": "Amazon Freight"
                                },
                                {
                                    "ShipLineID": "95",
                                    "DateShipped": "2023-08-01 10:13:00.000",
                                    "OrderID": "223344",
                                    "ItemID": "B67123",
                                    "LocationID": "10",
                                    "QtyShipped": "12",
                                    "MethodShipped": "UPS"
                                },
                                {
                                    "ShipLineID": "96",
                                    "DateShipped": "2023-08-01 11:13:00.000",
                                    "OrderID": "892211",
                                    "ItemID": "C29179",
                                    "LocationID": "10",
                                    "QtyShipped": "4",
                                    "MethodShipped": "UPS"
                                },
                                {
                                    "ShipLineID": "97",
                                    "DateShipped": "2023-08-01 11:15:00.000",
                                    "OrderID": "651222",
                                    "ItemID": "A34882",
                                    "LocationID": "30",
                                    "QtyShipped": "2",
                                    "MethodShipped": "UPS"
                                },
                                {
                                    "ShipLineID": "98",
                                    "DateShipped": "2023-08-08 11:19:00.000",
                                    "OrderID": "651222",
                                    "ItemID": "A34882",
                                    "LocationID": "30",
                                    "QtyShipped": "1",
                                    "MethodShipped": "UPS"
                                },
                                {
                                    "ShipLineID": "99",
                                    "DateShipped": "2023-08-07 12:01:00.000",
                                    "OrderID": "651222",
                                    "ItemID": "A34882",
                                    "LocationID": "30",
                                    "QtyShipped": "1",
                                    "MethodShipped": "UPS"
                                },
                                {
                                    "ShipLineID": "100",
                                    "DateShipped": "2023-08-08 13:35:00.000",
                                    "OrderID": "223344",
                                    "ItemID": "A23771",
                                    "LocationID": "30",
                                    "QtyShipped": "30",
                                    "MethodShipped": "UPS"
                                },
                                {
                                    "ShipLineID": "101",
                                    "DateShipped": "2023-08-08 14:02:00.000",
                                    "OrderID": "450137",
                                    "ItemID": "B67466",
                                    "LocationID": "20",
                                    "QtyShipped": "9",
                                    "MethodShipped": "FedEx"
                                },
                                {
                                    "ShipLineID": "102",
                                    "DateShipped": "2023-08-22 08:11:00.000",
                                    "OrderID": "828211",
                                    "ItemID": "A89437",
                                    "LocationID": "10",
                                    "QtyShipped": "6",
                                    "MethodShipped": "UPS"
                                },
                                {
                                    "ShipLineID": "103",
                                    "DateShipped": "2023-08-24 14:25:00.000",
                                    "OrderID": "828211",
                                    "ItemID": "A25698",
                                    "LocationID": "10",
                                    "QtyShipped": "1",
                                    "MethodShipped": "UPS"
                                },
                                {
                                    "ShipLineID": "104",
                                    "DateShipped": "2023-08-21 00:00:00.000",
                                    "OrderID": "381921",
                                    "ItemID": "C29179",
                                    "LocationID": "10",
                                    "QtyShipped": "10",
                                    "MethodShipped": "USps"
                                },
                                {
                                    "ShipLineID": "105",
                                    "DateShipped": "2023-08-22 00:00:00.000",
                                    "OrderID": "381921",
                                    "ItemID": "C29179",
                                    "LocationID": "20",
                                    "QtyShipped": "4",
                                    "MethodShipped": "UPS"
                                },
                                {
                                    "ShipLineID": "106",
                                    "DateShipped": "2023-08-21 00:00:00.000",
                                    "OrderID": "381921",
                                    "ItemID": "C38141",
                                    "LocationID": "10",
                                    "QtyShipped": "1",
                                    "MethodShipped": "USps"
                                }
                            ]
                        },
                        "text/html": "<table><tr><th>ShipLineID</th><th>DateShipped</th><th>OrderID</th><th>ItemID</th><th>LocationID</th><th>QtyShipped</th><th>MethodShipped</th></tr><tr><td>54</td><td>2023-07-25 08:00:00.000</td><td>123000</td><td>A23441</td><td>20</td><td>8</td><td>UPS</td></tr><tr><td>55</td><td>2023-07-25 08:00:00.000</td><td>123000</td><td>A34665</td><td>10</td><td>32</td><td>UPS</td></tr><tr><td>56</td><td>2023-08-04 09:00:00.000</td><td>123000</td><td>B67123</td><td>10</td><td>5</td><td>UPS</td></tr><tr><td>57</td><td>2023-07-15 08:52:00.000</td><td>980001</td><td>C34122</td><td>10</td><td>2</td><td>FEDEX</td></tr><tr><td>58</td><td>2023-07-16 11:21:00.000</td><td>980001</td><td>C29179</td><td>10</td><td>3</td><td>FEDex</td></tr><tr><td>59</td><td>2023-08-04 23:44:00.000</td><td>671100</td><td>C29179</td><td>10</td><td>1</td><td>UPS</td></tr><tr><td>60</td><td>2023-07-20 14:18:00.000</td><td>223344</td><td>A23441</td><td>10</td><td>3</td><td>UPS</td></tr><tr><td>61</td><td>2023-07-20 08:22:00.000</td><td>223344</td><td>A23441</td><td>20</td><td>20</td><td>UPS</td></tr><tr><td>62</td><td>2023-07-22 08:12:00.000</td><td>223344</td><td>A23441</td><td>20</td><td>5</td><td>Ups</td></tr><tr><td>63</td><td>2023-07-20 10:15:00.000</td><td>223344</td><td>A34665</td><td>10</td><td>45</td><td>UPs</td></tr><tr><td>64</td><td>2023-07-22 10:16:00.000</td><td>223344</td><td>A34665</td><td>10</td><td>65</td><td>ups</td></tr><tr><td>65</td><td>2023-07-20 10:17:00.000</td><td>223344</td><td>A23771</td><td>10</td><td>8</td><td>ups</td></tr><tr><td>66</td><td>2023-07-20 19:34:00.000</td><td>223344</td><td>A23771</td><td>20</td><td>2</td><td>UPS</td></tr><tr><td>67</td><td>2023-07-21 19:57:00.000</td><td>223344</td><td>A23771</td><td>30</td><td>5</td><td>UPS</td></tr><tr><td>68</td><td>2023-07-20 19:01:00.000</td><td>223344</td><td>A34882</td><td>10</td><td>15</td><td>fedEX</td></tr><tr><td>69</td><td>2023-07-20 19:53:00.000</td><td>223344</td><td>B67123</td><td>10</td><td>13</td><td>UPS</td></tr><tr><td>70</td><td>2023-07-22 20:21:00.000</td><td>223344</td><td>A34882</td><td>10</td><td>20</td><td>UPS</td></tr><tr><td>71</td><td>2023-07-26 20:23:00.000</td><td>445511</td><td>C34122</td><td>10</td><td>3</td><td>FeDEX</td></tr><tr><td>72</td><td>2023-08-09 20:24:00.000</td><td>651222</td><td>A34665</td><td>10</td><td>2</td><td>UPS</td></tr><tr><td>73</td><td>2023-08-11 20:25:00.000</td><td>651222</td><td>A34665</td><td>10</td><td>3</td><td>UPS</td></tr><tr><td>74</td><td>2023-08-09 20:24:00.000</td><td>651222</td><td>A34882</td><td>10</td><td>5</td><td>UPS</td></tr><tr><td>75</td><td>2023-08-12 17:33:00.000</td><td>651222</td><td>A34882</td><td>10</td><td>7</td><td>FedEX</td></tr><tr><td>76</td><td>2023-08-13 16:00:00.000</td><td>651222</td><td>B78244</td><td>20</td><td>21</td><td>ups</td></tr><tr><td>77</td><td>2023-08-26 12:33:00.000</td><td>651222</td><td>A34882</td><td>10</td><td>1</td><td>UPS</td></tr><tr><td>78</td><td>2023-07-20 16:00:00.000</td><td>300221</td><td>A34665</td><td>10</td><td>1</td><td>UPS</td></tr><tr><td>79</td><td>2023-07-15 08:00:00.000</td><td>300221</td><td>A23771</td><td>20</td><td>1</td><td>Ups</td></tr><tr><td>80</td><td>2023-07-22 08:45:00.000</td><td>300221</td><td>A34882</td><td>10</td><td>1</td><td>UPs</td></tr><tr><td>81</td><td>2023-07-30 10:04:00.000</td><td>300221</td><td>B67123</td><td>10</td><td>1</td><td>UpS</td></tr><tr><td>82</td><td>2023-07-15 10:11:00.000</td><td>300221</td><td>B78244</td><td>20</td><td>1</td><td>UPS</td></tr><tr><td>83</td><td>2023-07-02 18:33:00.000</td><td>892211</td><td>C34122</td><td>20</td><td>3</td><td>UPS</td></tr><tr><td>84</td><td>2023-07-02 19:11:00.000</td><td>892211</td><td>C34122</td><td>10</td><td>2</td><td>UPS</td></tr><tr><td>85</td><td>2023-07-02 19:32:00.000</td><td>892211</td><td>C29179</td><td>10</td><td>6</td><td>UPS</td></tr><tr><td>86</td><td>2023-07-06 20:43:00.000</td><td>450137</td><td>B67123</td><td>40</td><td>4</td><td>ups</td></tr><tr><td>87</td><td>2023-07-06 18:23:00.000</td><td>450137</td><td>B67123</td><td>20</td><td>3</td><td>UPS</td></tr><tr><td>88</td><td>2023-07-06 14:51:00.000</td><td>450137</td><td>B67123</td><td>30</td><td>14</td><td>Ups</td></tr><tr><td>89</td><td>2023-06-28 15:21:00.000</td><td>450137</td><td>B67123</td><td>20</td><td>8</td><td>ups</td></tr><tr><td>90</td><td>2023-07-31 15:22:00.000</td><td>450137</td><td>A34665</td><td>10</td><td>10</td><td>FeDeX</td></tr><tr><td>91</td><td>2023-08-09 13:44:00.000</td><td>450137</td><td>A34882</td><td>30</td><td>15</td><td>UpS</td></tr><tr><td>92</td><td>2023-07-29 09:00:00.000</td><td>200335</td><td>A23441</td><td>20</td><td>6</td><td>UPS</td></tr><tr><td>93</td><td>2023-07-29 09:00:00.000</td><td>781206</td><td>B67466</td><td>30</td><td>4</td><td>Amazon Freight</td></tr><tr><td>94</td><td>2023-07-31 09:56:00.000</td><td>200335</td><td>B67466</td><td>10</td><td>1</td><td>Amazon Freight</td></tr><tr><td>95</td><td>2023-08-01 10:13:00.000</td><td>223344</td><td>B67123</td><td>10</td><td>12</td><td>UPS</td></tr><tr><td>96</td><td>2023-08-01 11:13:00.000</td><td>892211</td><td>C29179</td><td>10</td><td>4</td><td>UPS</td></tr><tr><td>97</td><td>2023-08-01 11:15:00.000</td><td>651222</td><td>A34882</td><td>30</td><td>2</td><td>UPS</td></tr><tr><td>98</td><td>2023-08-08 11:19:00.000</td><td>651222</td><td>A34882</td><td>30</td><td>1</td><td>UPS</td></tr><tr><td>99</td><td>2023-08-07 12:01:00.000</td><td>651222</td><td>A34882</td><td>30</td><td>1</td><td>UPS</td></tr><tr><td>100</td><td>2023-08-08 13:35:00.000</td><td>223344</td><td>A23771</td><td>30</td><td>30</td><td>UPS</td></tr><tr><td>101</td><td>2023-08-08 14:02:00.000</td><td>450137</td><td>B67466</td><td>20</td><td>9</td><td>FedEx</td></tr><tr><td>102</td><td>2023-08-22 08:11:00.000</td><td>828211</td><td>A89437</td><td>10</td><td>6</td><td>UPS</td></tr><tr><td>103</td><td>2023-08-24 14:25:00.000</td><td>828211</td><td>A25698</td><td>10</td><td>1</td><td>UPS</td></tr><tr><td>104</td><td>2023-08-21 00:00:00.000</td><td>381921</td><td>C29179</td><td>10</td><td>10</td><td>USps</td></tr><tr><td>105</td><td>2023-08-22 00:00:00.000</td><td>381921</td><td>C29179</td><td>20</td><td>4</td><td>UPS</td></tr><tr><td>106</td><td>2023-08-21 00:00:00.000</td><td>381921</td><td>C38141</td><td>10</td><td>1</td><td>USps</td></tr></table>"
                    },
                    "metadata": {}
                }
            ],
            "execution_count": 25
        },
        {
            "cell_type": "code",
            "source": [
                "--ItemLocation Table\r\n",
                "CREATE TABLE TblItemLocation\r\n",
                "(ItemID CHAR(6) FOREIGN KEY REFERENCES TblItem(ItemID),\r\n",
                "LocationID CHAR(2),\r\n",
                "QtyOnHand INT,\r\n",
                "PRIMARY KEY(ItemID, LocationID));"
            ],
            "metadata": {
                "azdata_cell_guid": "92f1cce0-cbb4-49d3-bae4-afcb80e4fbf7"
            },
            "outputs": [
                {
                    "output_type": "display_data",
                    "data": {
                        "text/html": "Commands completed successfully."
                    },
                    "metadata": {}
                },
                {
                    "output_type": "display_data",
                    "data": {
                        "text/html": "Total execution time: 00:00:00.011"
                    },
                    "metadata": {}
                }
            ],
            "execution_count": 31
        },
        {
            "cell_type": "code",
            "source": [
                "SELECT *\r\n",
                "FROM TblItemLocation;"
            ],
            "metadata": {
                "azdata_cell_guid": "3ca9957e-e4e3-41d6-99b3-5abbf908570c"
            },
            "outputs": [
                {
                    "output_type": "display_data",
                    "data": {
                        "text/html": "(31 rows affected)"
                    },
                    "metadata": {}
                },
                {
                    "output_type": "display_data",
                    "data": {
                        "text/html": "Total execution time: 00:00:00.011"
                    },
                    "metadata": {}
                },
                {
                    "output_type": "execute_result",
                    "execution_count": 24,
                    "data": {
                        "application/vnd.dataresource+json": {
                            "schema": {
                                "fields": [
                                    {
                                        "name": "ItemID"
                                    },
                                    {
                                        "name": "LocationID"
                                    },
                                    {
                                        "name": "QtyOnHand"
                                    }
                                ]
                            },
                            "data": [
                                {
                                    "ItemID": "A08123",
                                    "LocationID": "30",
                                    "QtyOnHand": "4"
                                },
                                {
                                    "ItemID": "A23441",
                                    "LocationID": "10",
                                    "QtyOnHand": "11"
                                },
                                {
                                    "ItemID": "A23441",
                                    "LocationID": "20",
                                    "QtyOnHand": "23"
                                },
                                {
                                    "ItemID": "A23441",
                                    "LocationID": "30",
                                    "QtyOnHand": "25"
                                },
                                {
                                    "ItemID": "A23771",
                                    "LocationID": "10",
                                    "QtyOnHand": "6"
                                },
                                {
                                    "ItemID": "A23771",
                                    "LocationID": "20",
                                    "QtyOnHand": "4"
                                },
                                {
                                    "ItemID": "A23771",
                                    "LocationID": "30",
                                    "QtyOnHand": "5"
                                },
                                {
                                    "ItemID": "A25698",
                                    "LocationID": "10",
                                    "QtyOnHand": "1"
                                },
                                {
                                    "ItemID": "A34665",
                                    "LocationID": "10",
                                    "QtyOnHand": "141"
                                },
                                {
                                    "ItemID": "A34882",
                                    "LocationID": "10",
                                    "QtyOnHand": "40"
                                },
                                {
                                    "ItemID": "A34882",
                                    "LocationID": "30",
                                    "QtyOnHand": "55"
                                },
                                {
                                    "ItemID": "A45111",
                                    "LocationID": "10",
                                    "QtyOnHand": "2"
                                },
                                {
                                    "ItemID": "A45111",
                                    "LocationID": "20",
                                    "QtyOnHand": "3"
                                },
                                {
                                    "ItemID": "A45111",
                                    "LocationID": "30",
                                    "QtyOnHand": "2"
                                },
                                {
                                    "ItemID": "A89437",
                                    "LocationID": "10",
                                    "QtyOnHand": "25"
                                },
                                {
                                    "ItemID": "B67123",
                                    "LocationID": "10",
                                    "QtyOnHand": "22"
                                },
                                {
                                    "ItemID": "B67123",
                                    "LocationID": "20",
                                    "QtyOnHand": "28"
                                },
                                {
                                    "ItemID": "B67123",
                                    "LocationID": "30",
                                    "QtyOnHand": "6"
                                },
                                {
                                    "ItemID": "B67123",
                                    "LocationID": "40",
                                    "QtyOnHand": "4"
                                },
                                {
                                    "ItemID": "B67466",
                                    "LocationID": "10",
                                    "QtyOnHand": "0"
                                },
                                {
                                    "ItemID": "B67466",
                                    "LocationID": "20",
                                    "QtyOnHand": "3"
                                },
                                {
                                    "ItemID": "B67466",
                                    "LocationID": "30",
                                    "QtyOnHand": "4"
                                },
                                {
                                    "ItemID": "B78244",
                                    "LocationID": "20",
                                    "QtyOnHand": "22"
                                },
                                {
                                    "ItemID": "B78500",
                                    "LocationID": "20",
                                    "QtyOnHand": "8"
                                },
                                {
                                    "ItemID": "B78500",
                                    "LocationID": "30",
                                    "QtyOnHand": "1"
                                },
                                {
                                    "ItemID": "C29179",
                                    "LocationID": "10",
                                    "QtyOnHand": "15"
                                },
                                {
                                    "ItemID": "C29179",
                                    "LocationID": "20",
                                    "QtyOnHand": "15"
                                },
                                {
                                    "ItemID": "C34122",
                                    "LocationID": "10",
                                    "QtyOnHand": "16"
                                },
                                {
                                    "ItemID": "C34122",
                                    "LocationID": "20",
                                    "QtyOnHand": "21"
                                },
                                {
                                    "ItemID": "C38141",
                                    "LocationID": "10",
                                    "QtyOnHand": "25"
                                },
                                {
                                    "ItemID": "C38141",
                                    "LocationID": "20",
                                    "QtyOnHand": "10"
                                }
                            ]
                        },
                        "text/html": "<table><tr><th>ItemID</th><th>LocationID</th><th>QtyOnHand</th></tr><tr><td>A08123</td><td>30</td><td>4</td></tr><tr><td>A23441</td><td>10</td><td>11</td></tr><tr><td>A23441</td><td>20</td><td>23</td></tr><tr><td>A23441</td><td>30</td><td>25</td></tr><tr><td>A23771</td><td>10</td><td>6</td></tr><tr><td>A23771</td><td>20</td><td>4</td></tr><tr><td>A23771</td><td>30</td><td>5</td></tr><tr><td>A25698</td><td>10</td><td>1</td></tr><tr><td>A34665</td><td>10</td><td>141</td></tr><tr><td>A34882</td><td>10</td><td>40</td></tr><tr><td>A34882</td><td>30</td><td>55</td></tr><tr><td>A45111</td><td>10</td><td>2</td></tr><tr><td>A45111</td><td>20</td><td>3</td></tr><tr><td>A45111</td><td>30</td><td>2</td></tr><tr><td>A89437</td><td>10</td><td>25</td></tr><tr><td>B67123</td><td>10</td><td>22</td></tr><tr><td>B67123</td><td>20</td><td>28</td></tr><tr><td>B67123</td><td>30</td><td>6</td></tr><tr><td>B67123</td><td>40</td><td>4</td></tr><tr><td>B67466</td><td>10</td><td>0</td></tr><tr><td>B67466</td><td>20</td><td>3</td></tr><tr><td>B67466</td><td>30</td><td>4</td></tr><tr><td>B78244</td><td>20</td><td>22</td></tr><tr><td>B78500</td><td>20</td><td>8</td></tr><tr><td>B78500</td><td>30</td><td>1</td></tr><tr><td>C29179</td><td>10</td><td>15</td></tr><tr><td>C29179</td><td>20</td><td>15</td></tr><tr><td>C34122</td><td>10</td><td>16</td></tr><tr><td>C34122</td><td>20</td><td>21</td></tr><tr><td>C38141</td><td>10</td><td>25</td></tr><tr><td>C38141</td><td>20</td><td>10</td></tr></table>"
                    },
                    "metadata": {}
                }
            ],
            "execution_count": 24
        },
        {
            "cell_type": "code",
            "source": [
                "--ItemCostHistory Table\r\n",
                "CREATE TABLE TblItemCostHistory\r\n",
                "(HistoryID INT IDENTITY(1,1) PRIMARY KEY,\r\n",
                "ItemID CHAR(6) NOT NULL FOREIGN KEY REFERENCES TblItem(ItemID),\r\n",
                "LastCostDate DATETIME NOT NULL,\r\n",
                "LastCost MONEY NOT NULL);"
            ],
            "metadata": {
                "azdata_cell_guid": "be2561f1-d339-4add-9de1-bd857abf7506"
            },
            "outputs": [
                {
                    "output_type": "display_data",
                    "data": {
                        "text/html": "Commands completed successfully."
                    },
                    "metadata": {}
                },
                {
                    "output_type": "display_data",
                    "data": {
                        "text/html": "Total execution time: 00:00:00.011"
                    },
                    "metadata": {}
                }
            ],
            "execution_count": 31
        },
        {
            "cell_type": "code",
            "source": [
                "SELECT *\r\n",
                "FROM TblItemCostHistory;"
            ],
            "metadata": {
                "azdata_cell_guid": "9bbac776-7401-4518-8080-747c13706070"
            },
            "outputs": [
                {
                    "output_type": "display_data",
                    "data": {
                        "text/html": "(63 rows affected)"
                    },
                    "metadata": {}
                },
                {
                    "output_type": "display_data",
                    "data": {
                        "text/html": "Total execution time: 00:00:00.013"
                    },
                    "metadata": {}
                },
                {
                    "output_type": "execute_result",
                    "execution_count": 33,
                    "data": {
                        "application/vnd.dataresource+json": {
                            "schema": {
                                "fields": [
                                    {
                                        "name": "HistoryID"
                                    },
                                    {
                                        "name": "ItemID"
                                    },
                                    {
                                        "name": "LastCostDate"
                                    },
                                    {
                                        "name": "LastCost"
                                    }
                                ]
                            },
                            "data": [
                                {
                                    "HistoryID": "1",
                                    "ItemID": "A23441",
                                    "LastCostDate": "2020-01-06 00:00:00.000",
                                    "LastCost": "10.25"
                                },
                                {
                                    "HistoryID": "2",
                                    "ItemID": "C34122",
                                    "LastCostDate": "2020-02-06 00:00:00.000",
                                    "LastCost": "45.00"
                                },
                                {
                                    "HistoryID": "3",
                                    "ItemID": "A23441",
                                    "LastCostDate": "2020-05-11 00:00:00.000",
                                    "LastCost": "10.50"
                                },
                                {
                                    "HistoryID": "4",
                                    "ItemID": "A23771",
                                    "LastCostDate": "2020-07-22 00:00:00.000",
                                    "LastCost": "8.50"
                                },
                                {
                                    "HistoryID": "5",
                                    "ItemID": "C34122",
                                    "LastCostDate": "2021-02-05 00:00:00.000",
                                    "LastCost": "48.00"
                                },
                                {
                                    "HistoryID": "6",
                                    "ItemID": "A34882",
                                    "LastCostDate": "2021-02-18 00:00:00.000",
                                    "LastCost": "75.00"
                                },
                                {
                                    "HistoryID": "7",
                                    "ItemID": "A89222",
                                    "LastCostDate": "2021-04-09 00:00:00.000",
                                    "LastCost": "89.00"
                                },
                                {
                                    "HistoryID": "8",
                                    "ItemID": "B67466",
                                    "LastCostDate": "2021-07-07 00:00:00.000",
                                    "LastCost": "22.50"
                                },
                                {
                                    "HistoryID": "9",
                                    "ItemID": "C26133",
                                    "LastCostDate": "2021-07-13 00:00:00.000",
                                    "LastCost": "200.00"
                                },
                                {
                                    "HistoryID": "10",
                                    "ItemID": "A89222",
                                    "LastCostDate": "2021-09-12 00:00:00.000",
                                    "LastCost": "64.00"
                                },
                                {
                                    "HistoryID": "11",
                                    "ItemID": "A23441",
                                    "LastCostDate": "2021-09-23 00:00:00.000",
                                    "LastCost": "10.88"
                                },
                                {
                                    "HistoryID": "12",
                                    "ItemID": "A34665",
                                    "LastCostDate": "2022-01-12 00:00:00.000",
                                    "LastCost": "15.00"
                                },
                                {
                                    "HistoryID": "13",
                                    "ItemID": "C34122",
                                    "LastCostDate": "2022-02-06 00:00:00.000",
                                    "LastCost": "51.00"
                                },
                                {
                                    "HistoryID": "14",
                                    "ItemID": "A89222",
                                    "LastCostDate": "2022-02-21 00:00:00.000",
                                    "LastCost": "64.00"
                                },
                                {
                                    "HistoryID": "15",
                                    "ItemID": "A34882",
                                    "LastCostDate": "2022-02-28 00:00:00.000",
                                    "LastCost": "66.25"
                                },
                                {
                                    "HistoryID": "16",
                                    "ItemID": "B78500",
                                    "LastCostDate": "2022-03-21 00:00:00.000",
                                    "LastCost": "18.95"
                                },
                                {
                                    "HistoryID": "17",
                                    "ItemID": "A25698",
                                    "LastCostDate": "2022-04-10 00:00:00.000",
                                    "LastCost": "10.25"
                                },
                                {
                                    "HistoryID": "18",
                                    "ItemID": "A25698",
                                    "LastCostDate": "2022-06-10 00:00:00.000",
                                    "LastCost": "10.75"
                                },
                                {
                                    "HistoryID": "19",
                                    "ItemID": "B67466",
                                    "LastCostDate": "2022-06-28 00:00:00.000",
                                    "LastCost": "28.90"
                                },
                                {
                                    "HistoryID": "20",
                                    "ItemID": "A23441",
                                    "LastCostDate": "2022-07-07 00:00:00.000",
                                    "LastCost": "11.15"
                                },
                                {
                                    "HistoryID": "21",
                                    "ItemID": "A34665",
                                    "LastCostDate": "2022-07-15 00:00:00.000",
                                    "LastCost": "14.50"
                                },
                                {
                                    "HistoryID": "22",
                                    "ItemID": "B78244",
                                    "LastCostDate": "2022-07-15 00:00:00.000",
                                    "LastCost": "14.50"
                                },
                                {
                                    "HistoryID": "23",
                                    "ItemID": "B78500",
                                    "LastCostDate": "2022-07-15 00:00:00.000",
                                    "LastCost": "18.00"
                                },
                                {
                                    "HistoryID": "24",
                                    "ItemID": "C26133",
                                    "LastCostDate": "2022-07-23 00:00:00.000",
                                    "LastCost": "225.00"
                                },
                                {
                                    "HistoryID": "25",
                                    "ItemID": "C29179",
                                    "LastCostDate": "2022-08-07 00:00:00.000",
                                    "LastCost": "160.00"
                                },
                                {
                                    "HistoryID": "26",
                                    "ItemID": "A89437",
                                    "LastCostDate": "2022-08-08 00:00:00.000",
                                    "LastCost": "41.50"
                                },
                                {
                                    "HistoryID": "27",
                                    "ItemID": "B67123",
                                    "LastCostDate": "2022-08-08 00:00:00.000",
                                    "LastCost": "14.50"
                                },
                                {
                                    "HistoryID": "28",
                                    "ItemID": "A89222",
                                    "LastCostDate": "2022-08-22 00:00:00.000",
                                    "LastCost": "66.00"
                                },
                                {
                                    "HistoryID": "29",
                                    "ItemID": "A89437",
                                    "LastCostDate": "2022-09-12 00:00:00.000",
                                    "LastCost": "38.75"
                                },
                                {
                                    "HistoryID": "30",
                                    "ItemID": "A34882",
                                    "LastCostDate": "2022-09-12 00:00:00.000",
                                    "LastCost": "67.00"
                                },
                                {
                                    "HistoryID": "31",
                                    "ItemID": "B67466",
                                    "LastCostDate": "2022-09-12 00:00:00.000",
                                    "LastCost": "31.00"
                                },
                                {
                                    "HistoryID": "32",
                                    "ItemID": "C26133",
                                    "LastCostDate": "2022-09-18 00:00:00.000",
                                    "LastCost": "235.75"
                                },
                                {
                                    "HistoryID": "33",
                                    "ItemID": "B78500",
                                    "LastCostDate": "2022-09-25 00:00:00.000",
                                    "LastCost": "21.00"
                                },
                                {
                                    "HistoryID": "34",
                                    "ItemID": "B67123",
                                    "LastCostDate": "2022-10-10 00:00:00.000",
                                    "LastCost": "17.50"
                                },
                                {
                                    "HistoryID": "35",
                                    "ItemID": "B67123",
                                    "LastCostDate": "2022-10-21 00:00:00.000",
                                    "LastCost": "18.80"
                                },
                                {
                                    "HistoryID": "36",
                                    "ItemID": "A23441",
                                    "LastCostDate": "2022-11-08 00:00:00.000",
                                    "LastCost": "14.75"
                                },
                                {
                                    "HistoryID": "37",
                                    "ItemID": "A89437",
                                    "LastCostDate": "2022-11-15 00:00:00.000",
                                    "LastCost": "40.25"
                                },
                                {
                                    "HistoryID": "38",
                                    "ItemID": "B78500",
                                    "LastCostDate": "2022-11-25 00:00:00.000",
                                    "LastCost": "28.16"
                                },
                                {
                                    "HistoryID": "39",
                                    "ItemID": "A89222",
                                    "LastCostDate": "2022-12-02 00:00:00.000",
                                    "LastCost": "68.00"
                                },
                                {
                                    "HistoryID": "40",
                                    "ItemID": "A23771",
                                    "LastCostDate": "2022-12-05 00:00:00.000",
                                    "LastCost": "9.15"
                                },
                                {
                                    "HistoryID": "41",
                                    "ItemID": "A22444",
                                    "LastCostDate": "2022-12-15 00:00:00.000",
                                    "LastCost": "65.25"
                                },
                                {
                                    "HistoryID": "42",
                                    "ItemID": "A34665",
                                    "LastCostDate": "2022-12-28 00:00:00.000",
                                    "LastCost": "14.35"
                                },
                                {
                                    "HistoryID": "43",
                                    "ItemID": "A23441",
                                    "LastCostDate": "2023-01-02 00:00:00.000",
                                    "LastCost": "12.50"
                                },
                                {
                                    "HistoryID": "44",
                                    "ItemID": "A23441",
                                    "LastCostDate": "2023-01-05 00:00:00.000",
                                    "LastCost": "10.35"
                                },
                                {
                                    "HistoryID": "45",
                                    "ItemID": "B67466",
                                    "LastCostDate": "2023-01-09 00:00:00.000",
                                    "LastCost": "29.50"
                                },
                                {
                                    "HistoryID": "46",
                                    "ItemID": "A22444",
                                    "LastCostDate": "2023-01-10 00:00:00.000",
                                    "LastCost": "61.75"
                                },
                                {
                                    "HistoryID": "47",
                                    "ItemID": "B67123",
                                    "LastCostDate": "2023-01-10 00:00:00.000",
                                    "LastCost": "12.50"
                                },
                                {
                                    "HistoryID": "48",
                                    "ItemID": "A22444",
                                    "LastCostDate": "2023-01-15 00:00:00.000",
                                    "LastCost": "64.23"
                                },
                                {
                                    "HistoryID": "49",
                                    "ItemID": "C26133",
                                    "LastCostDate": "2023-01-15 00:00:00.000",
                                    "LastCost": "211.25"
                                },
                                {
                                    "HistoryID": "50",
                                    "ItemID": "C38141",
                                    "LastCostDate": "2023-01-15 00:00:00.000",
                                    "LastCost": "65.90"
                                },
                                {
                                    "HistoryID": "51",
                                    "ItemID": "C29179",
                                    "LastCostDate": "2023-01-17 00:00:00.000",
                                    "LastCost": "158.85"
                                },
                                {
                                    "HistoryID": "52",
                                    "ItemID": "B67123",
                                    "LastCostDate": "2023-02-02 00:00:00.000",
                                    "LastCost": "21.80"
                                },
                                {
                                    "HistoryID": "53",
                                    "ItemID": "A23441",
                                    "LastCostDate": "2023-02-02 00:00:00.000",
                                    "LastCost": "12.50"
                                },
                                {
                                    "HistoryID": "54",
                                    "ItemID": "C34122",
                                    "LastCostDate": "2023-02-02 00:00:00.000",
                                    "LastCost": "58.50"
                                },
                                {
                                    "HistoryID": "55",
                                    "ItemID": "C38141",
                                    "LastCostDate": "2023-02-02 00:00:00.000",
                                    "LastCost": "58.65"
                                },
                                {
                                    "HistoryID": "56",
                                    "ItemID": "A34882",
                                    "LastCostDate": "2023-02-05 00:00:00.000",
                                    "LastCost": "62.50"
                                },
                                {
                                    "HistoryID": "57",
                                    "ItemID": "A22444",
                                    "LastCostDate": "2023-02-10 00:00:00.000",
                                    "LastCost": "58.61"
                                },
                                {
                                    "HistoryID": "58",
                                    "ItemID": "B78500",
                                    "LastCostDate": "2023-02-10 00:00:00.000",
                                    "LastCost": "20.35"
                                },
                                {
                                    "HistoryID": "59",
                                    "ItemID": "A08123",
                                    "LastCostDate": "2023-02-12 00:00:00.000",
                                    "LastCost": "12.30"
                                },
                                {
                                    "HistoryID": "60",
                                    "ItemID": "B67466",
                                    "LastCostDate": "2023-02-14 00:00:00.000",
                                    "LastCost": "29.67"
                                },
                                {
                                    "HistoryID": "61",
                                    "ItemID": "C26133",
                                    "LastCostDate": "2023-02-15 00:00:00.000",
                                    "LastCost": "212.25"
                                },
                                {
                                    "HistoryID": "62",
                                    "ItemID": "A08123",
                                    "LastCostDate": "2023-02-15 00:00:00.000",
                                    "LastCost": "14.20"
                                },
                                {
                                    "HistoryID": "63",
                                    "ItemID": "B67123",
                                    "LastCostDate": "2023-02-20 00:00:00.000",
                                    "LastCost": "17.52"
                                }
                            ]
                        },
                        "text/html": "<table><tr><th>HistoryID</th><th>ItemID</th><th>LastCostDate</th><th>LastCost</th></tr><tr><td>1</td><td>A23441</td><td>2020-01-06 00:00:00.000</td><td>10.25</td></tr><tr><td>2</td><td>C34122</td><td>2020-02-06 00:00:00.000</td><td>45.00</td></tr><tr><td>3</td><td>A23441</td><td>2020-05-11 00:00:00.000</td><td>10.50</td></tr><tr><td>4</td><td>A23771</td><td>2020-07-22 00:00:00.000</td><td>8.50</td></tr><tr><td>5</td><td>C34122</td><td>2021-02-05 00:00:00.000</td><td>48.00</td></tr><tr><td>6</td><td>A34882</td><td>2021-02-18 00:00:00.000</td><td>75.00</td></tr><tr><td>7</td><td>A89222</td><td>2021-04-09 00:00:00.000</td><td>89.00</td></tr><tr><td>8</td><td>B67466</td><td>2021-07-07 00:00:00.000</td><td>22.50</td></tr><tr><td>9</td><td>C26133</td><td>2021-07-13 00:00:00.000</td><td>200.00</td></tr><tr><td>10</td><td>A89222</td><td>2021-09-12 00:00:00.000</td><td>64.00</td></tr><tr><td>11</td><td>A23441</td><td>2021-09-23 00:00:00.000</td><td>10.88</td></tr><tr><td>12</td><td>A34665</td><td>2022-01-12 00:00:00.000</td><td>15.00</td></tr><tr><td>13</td><td>C34122</td><td>2022-02-06 00:00:00.000</td><td>51.00</td></tr><tr><td>14</td><td>A89222</td><td>2022-02-21 00:00:00.000</td><td>64.00</td></tr><tr><td>15</td><td>A34882</td><td>2022-02-28 00:00:00.000</td><td>66.25</td></tr><tr><td>16</td><td>B78500</td><td>2022-03-21 00:00:00.000</td><td>18.95</td></tr><tr><td>17</td><td>A25698</td><td>2022-04-10 00:00:00.000</td><td>10.25</td></tr><tr><td>18</td><td>A25698</td><td>2022-06-10 00:00:00.000</td><td>10.75</td></tr><tr><td>19</td><td>B67466</td><td>2022-06-28 00:00:00.000</td><td>28.90</td></tr><tr><td>20</td><td>A23441</td><td>2022-07-07 00:00:00.000</td><td>11.15</td></tr><tr><td>21</td><td>A34665</td><td>2022-07-15 00:00:00.000</td><td>14.50</td></tr><tr><td>22</td><td>B78244</td><td>2022-07-15 00:00:00.000</td><td>14.50</td></tr><tr><td>23</td><td>B78500</td><td>2022-07-15 00:00:00.000</td><td>18.00</td></tr><tr><td>24</td><td>C26133</td><td>2022-07-23 00:00:00.000</td><td>225.00</td></tr><tr><td>25</td><td>C29179</td><td>2022-08-07 00:00:00.000</td><td>160.00</td></tr><tr><td>26</td><td>A89437</td><td>2022-08-08 00:00:00.000</td><td>41.50</td></tr><tr><td>27</td><td>B67123</td><td>2022-08-08 00:00:00.000</td><td>14.50</td></tr><tr><td>28</td><td>A89222</td><td>2022-08-22 00:00:00.000</td><td>66.00</td></tr><tr><td>29</td><td>A89437</td><td>2022-09-12 00:00:00.000</td><td>38.75</td></tr><tr><td>30</td><td>A34882</td><td>2022-09-12 00:00:00.000</td><td>67.00</td></tr><tr><td>31</td><td>B67466</td><td>2022-09-12 00:00:00.000</td><td>31.00</td></tr><tr><td>32</td><td>C26133</td><td>2022-09-18 00:00:00.000</td><td>235.75</td></tr><tr><td>33</td><td>B78500</td><td>2022-09-25 00:00:00.000</td><td>21.00</td></tr><tr><td>34</td><td>B67123</td><td>2022-10-10 00:00:00.000</td><td>17.50</td></tr><tr><td>35</td><td>B67123</td><td>2022-10-21 00:00:00.000</td><td>18.80</td></tr><tr><td>36</td><td>A23441</td><td>2022-11-08 00:00:00.000</td><td>14.75</td></tr><tr><td>37</td><td>A89437</td><td>2022-11-15 00:00:00.000</td><td>40.25</td></tr><tr><td>38</td><td>B78500</td><td>2022-11-25 00:00:00.000</td><td>28.16</td></tr><tr><td>39</td><td>A89222</td><td>2022-12-02 00:00:00.000</td><td>68.00</td></tr><tr><td>40</td><td>A23771</td><td>2022-12-05 00:00:00.000</td><td>9.15</td></tr><tr><td>41</td><td>A22444</td><td>2022-12-15 00:00:00.000</td><td>65.25</td></tr><tr><td>42</td><td>A34665</td><td>2022-12-28 00:00:00.000</td><td>14.35</td></tr><tr><td>43</td><td>A23441</td><td>2023-01-02 00:00:00.000</td><td>12.50</td></tr><tr><td>44</td><td>A23441</td><td>2023-01-05 00:00:00.000</td><td>10.35</td></tr><tr><td>45</td><td>B67466</td><td>2023-01-09 00:00:00.000</td><td>29.50</td></tr><tr><td>46</td><td>A22444</td><td>2023-01-10 00:00:00.000</td><td>61.75</td></tr><tr><td>47</td><td>B67123</td><td>2023-01-10 00:00:00.000</td><td>12.50</td></tr><tr><td>48</td><td>A22444</td><td>2023-01-15 00:00:00.000</td><td>64.23</td></tr><tr><td>49</td><td>C26133</td><td>2023-01-15 00:00:00.000</td><td>211.25</td></tr><tr><td>50</td><td>C38141</td><td>2023-01-15 00:00:00.000</td><td>65.90</td></tr><tr><td>51</td><td>C29179</td><td>2023-01-17 00:00:00.000</td><td>158.85</td></tr><tr><td>52</td><td>B67123</td><td>2023-02-02 00:00:00.000</td><td>21.80</td></tr><tr><td>53</td><td>A23441</td><td>2023-02-02 00:00:00.000</td><td>12.50</td></tr><tr><td>54</td><td>C34122</td><td>2023-02-02 00:00:00.000</td><td>58.50</td></tr><tr><td>55</td><td>C38141</td><td>2023-02-02 00:00:00.000</td><td>58.65</td></tr><tr><td>56</td><td>A34882</td><td>2023-02-05 00:00:00.000</td><td>62.50</td></tr><tr><td>57</td><td>A22444</td><td>2023-02-10 00:00:00.000</td><td>58.61</td></tr><tr><td>58</td><td>B78500</td><td>2023-02-10 00:00:00.000</td><td>20.35</td></tr><tr><td>59</td><td>A08123</td><td>2023-02-12 00:00:00.000</td><td>12.30</td></tr><tr><td>60</td><td>B67466</td><td>2023-02-14 00:00:00.000</td><td>29.67</td></tr><tr><td>61</td><td>C26133</td><td>2023-02-15 00:00:00.000</td><td>212.25</td></tr><tr><td>62</td><td>A08123</td><td>2023-02-15 00:00:00.000</td><td>14.20</td></tr><tr><td>63</td><td>B67123</td><td>2023-02-20 00:00:00.000</td><td>17.52</td></tr></table>"
                    },
                    "metadata": {}
                }
            ],
            "execution_count": 33
        },
        {
            "cell_type": "code",
            "source": [
                "--Review Table\r\n",
                "CREATE TABLE TblReview\r\n",
                "(ReviewID INT IDENTITY(1,1) PRIMARY KEY,\r\n",
                "ReviewDate DATETIME,\r\n",
                "Rating INT CHECK (Rating IN (1,2,3,4,5)),\r\n",
                "ReviewText VARCHAR(500),\r\n",
                "OrderID CHAR(6) NOT NULL,\r\n",
                "ItemID CHAR(6) NOT NULL,\r\n",
                "FOREIGN KEY (OrderID, ItemID) REFERENCES TblOrderLine(OrderID, ItemID));\r\n",
                ""
            ],
            "metadata": {
                "azdata_cell_guid": "25d69785-6043-4329-a8b8-c25fd5f5d3f7",
                "tags": []
            },
            "outputs": [
                {
                    "output_type": "display_data",
                    "data": {
                        "text/html": "Commands completed successfully."
                    },
                    "metadata": {}
                },
                {
                    "output_type": "display_data",
                    "data": {
                        "text/html": "Total execution time: 00:00:00.012"
                    },
                    "metadata": {}
                }
            ],
            "execution_count": 35
        },
        {
            "cell_type": "code",
            "source": [
                "SELECT *\r\n",
                "FROM TblReview;"
            ],
            "metadata": {
                "azdata_cell_guid": "64dab604-5792-4723-a24d-2d6609678032"
            },
            "outputs": [
                {
                    "output_type": "display_data",
                    "data": {
                        "text/html": "(13 rows affected)"
                    },
                    "metadata": {}
                },
                {
                    "output_type": "display_data",
                    "data": {
                        "text/html": "Total execution time: 00:00:00.013"
                    },
                    "metadata": {}
                },
                {
                    "output_type": "execute_result",
                    "execution_count": 36,
                    "data": {
                        "application/vnd.dataresource+json": {
                            "schema": {
                                "fields": [
                                    {
                                        "name": "ReviewID"
                                    },
                                    {
                                        "name": "ReviewDate"
                                    },
                                    {
                                        "name": "Rating"
                                    },
                                    {
                                        "name": "ReviewText"
                                    },
                                    {
                                        "name": "OrderID"
                                    },
                                    {
                                        "name": "ItemID"
                                    }
                                ]
                            },
                            "data": [
                                {
                                    "ReviewID": "1",
                                    "ReviewDate": "2023-07-22 09:16:00.000",
                                    "Rating": "1",
                                    "ReviewText": "This is the worst company I've ever dealt with.  They still have not shipped my order and it was placed on January 26.  I will never buy anything from them again. Ever.",
                                    "OrderID": "200335",
                                    "ItemID": "A34665"
                                },
                                {
                                    "ReviewID": "2",
                                    "ReviewDate": "2023-07-24 10:15:00.000",
                                    "Rating": "1",
                                    "ReviewText": "I don't know how this company stays in business. They can't ship anything on time, and their game selection isn't all that great",
                                    "OrderID": "450137",
                                    "ItemID": "C34122"
                                },
                                {
                                    "ReviewID": "3",
                                    "ReviewDate": "2023-07-28 23:16:00.000",
                                    "Rating": "5",
                                    "ReviewText": "Shipping was fast, the game was in great shape, and I will order from them again.  Highly recommend",
                                    "OrderID": "300221",
                                    "ItemID": "A23771"
                                },
                                {
                                    "ReviewID": "4",
                                    "ReviewDate": "2023-07-26 02:45:00.000",
                                    "Rating": "4",
                                    "ReviewText": "This is one of the few companies that will ship internationally fairly cost effectively. They are slow, but at least shipping isn't a ridiculous amount.",
                                    "OrderID": "223344",
                                    "ItemID": "A23771"
                                },
                                {
                                    "ReviewID": "5",
                                    "ReviewDate": "2023-06-24 00:51:00.000",
                                    "Rating": "3",
                                    "ReviewText": "They are slow. They overship.  They undership. They have the best shipping prices internationally, but nothing spectacular if you are shipping to the U.S. Buyer beware.",
                                    "OrderID": "445511",
                                    "ItemID": "C34122"
                                },
                                {
                                    "ReviewID": "6",
                                    "ReviewDate": "2023-08-13 08:16:00.000",
                                    "Rating": "5",
                                    "ReviewText": "Shipping internationally is the best because they are inexpensive and prompt.  I love them.",
                                    "OrderID": "892211",
                                    "ItemID": "C29179"
                                },
                                {
                                    "ReviewID": "7",
                                    "ReviewDate": "2023-08-13 10:15:00.000",
                                    "Rating": "4",
                                    "ReviewText": "I really like the game - it worked well for our organizational retreat.",
                                    "OrderID": "892211",
                                    "ItemID": "C26133"
                                },
                                {
                                    "ReviewID": "8",
                                    "ReviewDate": "2023-08-07 18:22:00.000",
                                    "Rating": "5",
                                    "ReviewText": "I think this is one of the best games out there to help organizations learn how to work together.",
                                    "OrderID": "450137",
                                    "ItemID": "C34122"
                                },
                                {
                                    "ReviewID": "9",
                                    "ReviewDate": "2023-08-23 16:44:00.000",
                                    "Rating": "4",
                                    "ReviewText": "They offer a unique variety of puzzles and at this site. Very different than games offered in other stores.",
                                    "OrderID": "421988",
                                    "ItemID": "B67466"
                                },
                                {
                                    "ReviewID": "10",
                                    "ReviewDate": "2023-09-04 08:00:00.000",
                                    "Rating": "2",
                                    "ReviewText": "I love the games, but I hate the customer service.  They never answer the phone or return emails.",
                                    "OrderID": "980001",
                                    "ItemID": "C29179"
                                },
                                {
                                    "ReviewID": "11",
                                    "ReviewDate": "2023-08-23 09:00:00.000",
                                    "Rating": "2",
                                    "ReviewText": "They didn't ship to the correct location so I had to contact the company many times. Poor communication.",
                                    "OrderID": "980001",
                                    "ItemID": "C34122"
                                },
                                {
                                    "ReviewID": "12",
                                    "ReviewDate": "2023-08-31 21:34:00.000",
                                    "Rating": "5",
                                    "ReviewText": "Unlike other reviewers, I'm happy with the customer service and the games",
                                    "OrderID": "671100",
                                    "ItemID": "C29179"
                                },
                                {
                                    "ReviewID": "13",
                                    "ReviewDate": "2023-08-29 23:59:00.000",
                                    "Rating": "2",
                                    "ReviewText": "Waiting and waiting and waiting for my games.  Will they ever get delivered???",
                                    "OrderID": "983983",
                                    "ItemID": "B78244"
                                }
                            ]
                        },
                        "text/html": "<table><tr><th>ReviewID</th><th>ReviewDate</th><th>Rating</th><th>ReviewText</th><th>OrderID</th><th>ItemID</th></tr><tr><td>1</td><td>2023-07-22 09:16:00.000</td><td>1</td><td>This is the worst company I've ever dealt with.  They still have not shipped my order and it was placed on January 26.  I will never buy anything from them again. Ever.</td><td>200335</td><td>A34665</td></tr><tr><td>2</td><td>2023-07-24 10:15:00.000</td><td>1</td><td>I don't know how this company stays in business. They can't ship anything on time, and their game selection isn't all that great</td><td>450137</td><td>C34122</td></tr><tr><td>3</td><td>2023-07-28 23:16:00.000</td><td>5</td><td>Shipping was fast, the game was in great shape, and I will order from them again.  Highly recommend</td><td>300221</td><td>A23771</td></tr><tr><td>4</td><td>2023-07-26 02:45:00.000</td><td>4</td><td>This is one of the few companies that will ship internationally fairly cost effectively. They are slow, but at least shipping isn't a ridiculous amount.</td><td>223344</td><td>A23771</td></tr><tr><td>5</td><td>2023-06-24 00:51:00.000</td><td>3</td><td>They are slow. They overship.  They undership. They have the best shipping prices internationally, but nothing spectacular if you are shipping to the U.S. Buyer beware.</td><td>445511</td><td>C34122</td></tr><tr><td>6</td><td>2023-08-13 08:16:00.000</td><td>5</td><td>Shipping internationally is the best because they are inexpensive and prompt.  I love them.</td><td>892211</td><td>C29179</td></tr><tr><td>7</td><td>2023-08-13 10:15:00.000</td><td>4</td><td>I really like the game - it worked well for our organizational retreat.</td><td>892211</td><td>C26133</td></tr><tr><td>8</td><td>2023-08-07 18:22:00.000</td><td>5</td><td>I think this is one of the best games out there to help organizations learn how to work together.</td><td>450137</td><td>C34122</td></tr><tr><td>9</td><td>2023-08-23 16:44:00.000</td><td>4</td><td>They offer a unique variety of puzzles and at this site. Very different than games offered in other stores.</td><td>421988</td><td>B67466</td></tr><tr><td>10</td><td>2023-09-04 08:00:00.000</td><td>2</td><td>I love the games, but I hate the customer service.  They never answer the phone or return emails.</td><td>980001</td><td>C29179</td></tr><tr><td>11</td><td>2023-08-23 09:00:00.000</td><td>2</td><td>They didn't ship to the correct location so I had to contact the company many times. Poor communication.</td><td>980001</td><td>C34122</td></tr><tr><td>12</td><td>2023-08-31 21:34:00.000</td><td>5</td><td>Unlike other reviewers, I'm happy with the customer service and the games</td><td>671100</td><td>C29179</td></tr><tr><td>13</td><td>2023-08-29 23:59:00.000</td><td>2</td><td>Waiting and waiting and waiting for my games.  Will they ever get delivered???</td><td>983983</td><td>B78244</td></tr></table>"
                    },
                    "metadata": {}
                }
            ],
            "execution_count": 36
        },
        {
            "cell_type": "markdown",
            "source": [
                "All data was imported via SQL Server Management Studio."
            ],
            "metadata": {
                "azdata_cell_guid": "fd715f99-6312-4a7e-8fc4-a40c8fc89f7b"
            },
            "attachments": {}
        }
    ]
}