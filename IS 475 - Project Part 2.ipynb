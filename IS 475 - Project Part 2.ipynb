{
    "metadata": {
        "kernelspec": {
            "name": "SQL",
            "display_name": "SQL",
            "language": "sql"
        },
        "language_info": {
            "name": "sql",
            "version": ""
        }
    },
    "nbformat_minor": 2,
    "nbformat": 4,
    "cells": [
        {
            "cell_type": "markdown",
            "source": [
                "Devin Winslow, Sidney Rood\n",
                "\n",
                "IS 475 \n",
                "\n",
                "Project Part 2\n",
                "\n",
                "12/12/2023"
            ],
            "metadata": {
                "azdata_cell_guid": "f504a0de-ec11-43b7-bff3-107a02aa5f63"
            },
            "attachments": {}
        },
        {
            "cell_type": "markdown",
            "source": [
                "Table Creation"
            ],
            "metadata": {
                "language": "sql",
                "azdata_cell_guid": "c64e7f6a-4471-453d-9459-bf4015648551"
            },
            "attachments": {}
        },
        {
            "cell_type": "code",
            "source": [
                "CREATE TABLE pTask\r\n",
                "(TaskID int PRIMARY KEY,\r\n",
                "TaskDescription VARCHAR(25))"
            ],
            "metadata": {
                "language": "sql",
                "azdata_cell_guid": "6f7a5d52-c206-4a16-ac39-fba5319480f0"
            },
            "outputs": [
                {
                    "output_type": "display_data",
                    "data": {
                        "text/html": "Commands completed successfully."
                    },
                    "metadata": {}
                },
                {
                    "output_type": "display_data",
                    "data": {
                        "text/html": "Total execution time: 00:00:00.011"
                    },
                    "metadata": {}
                }
            ],
            "execution_count": 17
        },
        {
            "cell_type": "code",
            "source": [
                "CREATE TABLE pCustomer\r\n",
                "(CustomerID INT PRIMARY KEY,\r\n",
                "CustomerName VARCHAR(30) NOT NULL)"
            ],
            "metadata": {
                "language": "sql",
                "azdata_cell_guid": "72522e95-b6c9-4236-b150-139aacfa1d39"
            },
            "outputs": [
                {
                    "output_type": "display_data",
                    "data": {
                        "text/html": "Commands completed successfully."
                    },
                    "metadata": {}
                },
                {
                    "output_type": "display_data",
                    "data": {
                        "text/html": "Total execution time: 00:00:00.008"
                    },
                    "metadata": {}
                }
            ],
            "execution_count": 19
        },
        {
            "cell_type": "code",
            "source": [
                "CREATE TABLE pWorkOrder\r\n",
                "(\r\n",
                "WorkOrderID INT PRIMARY KEY,\r\n",
                "DateProposed DATETIME NOT NULL,\r\n",
                "DateAccepted DATETIME NOT NULL,\r\n",
                "CustomerID INT FOREIGN KEY REFERENCES pCustomer(CustomerID) NOT NULL,\r\n",
                "PrimaryWorkOrderID INT FOREIGN KEY REFERENCES pWorkOrder(WorkOrderID)\r\n",
                ")"
            ],
            "metadata": {
                "language": "sql",
                "azdata_cell_guid": "b96a49ce-13a1-49e6-8e67-35c15896d732"
            },
            "outputs": [
                {
                    "output_type": "error",
                    "ename": "",
                    "evalue": "Msg 2714, Level 16, State 6, Line 1\r\nThere is already an object named 'pWorkOrder' in the database.",
                    "traceback": []
                },
                {
                    "output_type": "display_data",
                    "data": {
                        "text/html": "Total execution time: 00:00:00.009"
                    },
                    "metadata": {}
                }
            ],
            "execution_count": 1
        },
        {
            "cell_type": "code",
            "source": [
                "DROP TABLE pWorkOrder"
            ],
            "metadata": {
                "language": "sql",
                "azdata_cell_guid": "9cba48b2-9be0-46e7-828c-ee6617a570ff"
            },
            "outputs": [
                {
                    "output_type": "display_data",
                    "data": {
                        "text/html": "Commands completed successfully."
                    },
                    "metadata": {}
                },
                {
                    "output_type": "display_data",
                    "data": {
                        "text/html": "Total execution time: 00:00:00.013"
                    },
                    "metadata": {}
                }
            ],
            "execution_count": 38
        },
        {
            "cell_type": "code",
            "source": [
                "CREATE TABLE pTimeSheet\r\n",
                "(TimeSheetID INT Identity(1,1) Primary Key,\r\n",
                "WorkOrderID INT FOREIGN KEY REFERENCES pWorkOrder(WorkOrderID),\r\n",
                "TaskID INT FOREIGN KEY REFERENCES pTask(TaskID),\r\n",
                "HoursWorked Decimal(4,2),\r\n",
                "HourlyPayRate DECIMAL(8,2))"
            ],
            "metadata": {
                "language": "sql",
                "azdata_cell_guid": "f64e99dd-478e-4aa9-8aed-40955246b6eb"
            },
            "outputs": [
                {
                    "output_type": "display_data",
                    "data": {
                        "text/html": "Commands completed successfully."
                    },
                    "metadata": {}
                },
                {
                    "output_type": "display_data",
                    "data": {
                        "text/html": "Total execution time: 00:00:00.017"
                    },
                    "metadata": {}
                }
            ],
            "execution_count": 42
        },
        {
            "cell_type": "code",
            "source": [
                "DROP TABLE pTimeSheet"
            ],
            "metadata": {
                "language": "sql",
                "azdata_cell_guid": "c70ff5b3-69b8-4d3c-93e7-6d85e007dd21"
            },
            "outputs": [
                {
                    "output_type": "display_data",
                    "data": {
                        "text/html": "Commands completed successfully."
                    },
                    "metadata": {}
                },
                {
                    "output_type": "display_data",
                    "data": {
                        "text/html": "Total execution time: 00:00:00.016"
                    },
                    "metadata": {}
                }
            ],
            "execution_count": 41
        },
        {
            "cell_type": "code",
            "source": [
                "CREATE TABLE pWorkTask\r\n",
                "(WorkOrderID INT FOREIGN KEY REFERENCES pWorkOrder(WorkOrderID) NOT NULL,\r\n",
                "TaskId INT FOREIGN KEY REFERENCES pTask(TaskID) NOT NULL,\r\n",
                "DateStarted DateTime,\r\n",
                "DateCompleted DateTime,\r\n",
                "EstHours INT,\r\n",
                "EstLaborCost DECIMAL,\r\n",
                "EstMaterialCost DECIMAL,\r\n",
                "PRIMARY KEY (WorkOrderID, TaskID))"
            ],
            "metadata": {
                "azdata_cell_guid": "d4aa137e-04b9-4a46-867f-f496c343d529",
                "language": "sql"
            },
            "outputs": [
                {
                    "output_type": "display_data",
                    "data": {
                        "text/html": "Commands completed successfully."
                    },
                    "metadata": {}
                },
                {
                    "output_type": "display_data",
                    "data": {
                        "text/html": "Total execution time: 00:00:00.016"
                    },
                    "metadata": {}
                }
            ],
            "execution_count": 4
        },
        {
            "cell_type": "code",
            "source": [
                "CREATE TABLE pMaterials\r\n",
                "(MaterialAssignedID INT PRIMARY KEY,\r\n",
                "WorkOrderID INT FOREIGN KEY REFERENCES pWorkOrder(WorkOrderID) NOT NULL,\r\n",
                "TaskId INT FOREIGN KEY REFERENCES pTask(TaskID) NOT NULL,\r\n",
                "Quantity DECIMAL(8,2),\r\n",
                "CostPerUOM DECIMAL(8,2))\r\n",
                ""
            ],
            "metadata": {
                "language": "sql",
                "azdata_cell_guid": "80b63834-cc2a-477f-b0e6-2b79201dd2f0",
                "tags": []
            },
            "outputs": [
                {
                    "output_type": "display_data",
                    "data": {
                        "text/html": "Commands completed successfully."
                    },
                    "metadata": {}
                },
                {
                    "output_type": "display_data",
                    "data": {
                        "text/html": "Total execution time: 00:00:00.017"
                    },
                    "metadata": {}
                }
            ],
            "execution_count": 48
        },
        {
            "cell_type": "markdown",
            "source": [
                "STORED PROCEDURES AND FUNCTIONS"
            ],
            "metadata": {
                "language": "sql",
                "azdata_cell_guid": "26ce2871-048a-4f82-bff1-ef9cc5f40349"
            },
            "attachments": {}
        },
        {
            "cell_type": "markdown",
            "source": [
                "Procedure 1 <span style=\"font-family: Consolas, &quot;Courier New&quot;, monospace; font-size: 12px; white-space: pre; color: rgb(0, 0, 255);\">Take </span> <span style=\"color: rgb(33, 33, 33); font-family: Consolas, &quot;Courier New&quot;, monospace; font-size: 12px; white-space: pre;\">input (See Question 2)</span>"
            ],
            "metadata": {
                "language": "sql",
                "azdata_cell_guid": "db4218c7-ed8b-429a-8e7c-d538cd166489"
            },
            "attachments": {}
        },
        {
            "cell_type": "code",
            "source": [
                "CREATE PROCEDURE SelectWorkOrder @WorkOrderID INT \r\n",
                "AS\r\n",
                "SELECT DISTINCT wt.WorkOrderID,\r\n",
                "wt.TaskID,\r\n",
                "t.TaskDescription,\r\n",
                "wt.EstHours,\r\n",
                "ISNULL(tss.ActualHours,0) ActualHours,\r\n",
                "wt.EstLaborCost,\r\n",
                "CONVERT(DECIMAL(8,2),ISNULL(tss.ActualLaborCost,0)) ActualLaborCost,\r\n",
                "wt.EstMaterialCost,\r\n",
                "CONVERT(DECIMAL(8,2),ISNULL(ms.ActualMaterialCost,0)) ActualMaterialCost,\r\n",
                "CASE WHEN DateCompleted IS NULL THEN Esthours-CONVERT(DECIMAL(8,2),ISNULL(tss.ActualLaborCost,0)) ELSE 0 END LaborToFinish,\r\n",
                "CASE WHEN DateCompleted IS NULL THEN EstMaterialCost-CONVERT(DECIMAL(8,2),ISNULL(ms.ActualMaterialCost,0)) ELSE 0 END MaterialToFinish,\r\n",
                "CASE WHEN DateStarted IS NULL THEN 'Not Started' WHEN DateCompleted IS NULL THEN 'In Progress' ELSE 'Completed' END StatusMessage\r\n",
                "FROM pWorkTask wt \r\n",
                "LEFT JOIN pTimeSheet ts \r\n",
                "ON ts.WorkOrderID = wt.WorkOrderID AND ts.TaskID = wt.TaskId\r\n",
                "LEFT JOIN pMaterials m\r\n",
                "ON m.WorkOrderID = wt.WorkOrderID AND m.TaskId = wt.TaskId\r\n",
                "LEFT JOIN pTask t \r\n",
                "ON t.TaskID = wt.TaskId\r\n",
                "LEFT JOIN vTimeSheetSummary tss\r\n",
                "ON tss.WorkOrderID = wt.WorkOrderID AND tss.TaskId = wt.TaskId\r\n",
                "LEFT JOIN vMaterialSummary ms \r\n",
                "ON ms.WorkOrderID = wt.WorkOrderID AND ms.TaskId = wt.TaskId\r\n",
                "WHERE wt.WorkOrderID = @WorkOrderID\r\n",
                "ORDER BY TaskID"
            ],
            "metadata": {
                "language": "sql",
                "azdata_cell_guid": "002c47e8-3c60-412b-b033-629fad6f645d"
            },
            "outputs": [
                {
                    "output_type": "display_data",
                    "data": {
                        "text/html": "Commands completed successfully."
                    },
                    "metadata": {}
                },
                {
                    "output_type": "display_data",
                    "data": {
                        "text/html": "Total execution time: 00:00:00.014"
                    },
                    "metadata": {}
                }
            ],
            "execution_count": 131
        },
        {
            "cell_type": "markdown",
            "source": [
                "Procedure 2 <span style=\"font-family: Consolas, &quot;Courier New&quot;, monospace; font-size: 12px; white-space: pre; color: rgb(0, 0, 255);\">Take</span> <span style=\"color: rgb(33, 33, 33); font-family: Consolas, &quot;Courier New&quot;, monospace; font-size: 12px; white-space: pre;\">&nbsp;input</span>"
            ],
            "metadata": {
                "language": "sql",
                "azdata_cell_guid": "1182c106-ad91-448a-8b01-515258883c71"
            },
            "attachments": {}
        },
        {
            "cell_type": "code",
            "source": [
                "CREATE PROCEDURE CalculateMinCostDiff\r\n",
                "    @CostType VARCHAR(25) -- 'Labor', 'Material', 'Total'\r\n",
                "AS\r\n",
                "BEGIN\r\n",
                "    WITH Summary AS (\r\n",
                "    SELECT wt.WorkOrderID,\r\n",
                "    SUM (EstHours) EstHours,\r\n",
                "    SUM(tss.ActualHours) ActualHours,\r\n",
                "    SUM(tss.ActualLaborCost) ActualLaborCost,\r\n",
                "    SUM(wt.EstLaborCost) EstLaborCost,\r\n",
                "    SUM(wt.EstLaborCost - tss.ActualLaborCost) LaborCostDiff,\r\n",
                "    SUM(wt.EstMaterialCost) EstMaterialCost,\r\n",
                "    SUM(ms.ActualMaterialCost) ActualMaterialCost,\r\n",
                "    SUM(wt.EstMaterialCost - ms.ActualMaterialCost) MatCostDiff,\r\n",
                "    SUM(wt.EstLaborCost - tss.ActualLaborCost) + SUM(wt.EstMaterialCost - ms.ActualMaterialCost) TotalCostDiff\r\n",
                "    FROM pWorkTask wt \r\n",
                "    LEFT JOIN vTimeSheetSummary tss\r\n",
                "ON tss.WorkOrderID = wt.WorkOrderID AND tss.TaskId = wt.TaskId\r\n",
                "LEFT JOIN vMaterialSummary ms \r\n",
                "ON ms.WorkOrderID = wt.WorkOrderID AND ms.TaskId = wt.TaskId\r\n",
                "WHERE DATECOMPLETED IS NOT NULL AND wt.WorkOrderID NOT IN (SELECT WorkOrderID FROM pWorkTask wt WHERE DateCompleted IS NULL)\r\n",
                "GROUP BY wt.WorkOrderID\r\n",
                ")\r\n",
                "\r\n",
                "    SELECT \r\n",
                "        ss.WorkOrderID,\r\n",
                "        c.CustomerName,\r\n",
                "        dbo.YMDDash(MIN(DateStarted)) AS DateStarted,\r\n",
                "        dbo.YMDDash(MAX(DateCompleted)) AS DateCompleted,\r\n",
                "        ss.EstHours,\r\n",
                "        CONVERT(DECIMAL(8,2), ISNULL(ss.ActualHours, 0)) AS ActualHours,\r\n",
                "        ss.EstLaborCost,\r\n",
                "        CONVERT(DECIMAL(8,2), ISNULL(ss.ActualLaborCost, 0)) AS ActualLaborCost,\r\n",
                "        CONVERT(DECIMAL(8,2), ISNULL(ss.LaborCostDiff, 0)) AS LaborCostDiff,\r\n",
                "        ss.EstMaterialCost,\r\n",
                "        CONVERT(DECIMAL(8,2), ISNULL(ss.ActualMaterialCost, 0)) AS ActualMaterialCost,\r\n",
                "        CONVERT(DECIMAL(8,2), ISNULL(ss.MatCostDiff, 0)) AS MatCostDiff,\r\n",
                "        ss.TotalCostDiff\r\n",
                "    FROM Summary ss\r\n",
                "    LEFT JOIN pWorkTask wt ON ss.WorkOrderID = wt.WorkOrderID\r\n",
                "    LEFT JOIN pTimeSheet ts ON ts.WorkOrderID = wt.WorkOrderID AND ts.TaskID = wt.TaskId\r\n",
                "    LEFT JOIN pMaterials m ON m.WorkOrderID = wt.WorkOrderID AND m.TaskId = wt.TaskId\r\n",
                "    LEFT JOIN pWorkOrder wo ON wt.WorkOrderID = wo.WorkOrderID\r\n",
                "    LEFT JOIN pCustomer c ON c.CustomerID = wo.CustomerID\r\n",
                "    WHERE\r\n",
                "        (@CostType = 'Labor' AND LaborCostDiff = (SELECT MIN(LaborCostDiff) FROM Summary))\r\n",
                "        OR\r\n",
                "        (@CostType = 'Material' AND MatCostDiff = (SELECT MIN(MatCostDiff) FROM Summary))\r\n",
                "        OR\r\n",
                "        (@CostType = 'Total' AND TotalCostDiff = (SELECT MIN(TotalCostDiff) FROM Summary))\r\n",
                "    GROUP BY\r\n",
                "        ss.WorkOrderID, ss.EstHours, ss.ActualHours, ss.ActualLaborCost, ss.EstLaborCost, ss.LaborCostDiff,\r\n",
                "        ss.EstMaterialCost, ss.ActualMaterialCost, ss.MatCostDiff, c.CustomerName, ss.TotalCostDiff\r\n",
                "    ORDER BY\r\n",
                "        WorkOrderID;\r\n",
                "END;"
            ],
            "metadata": {
                "language": "sql",
                "azdata_cell_guid": "fda51708-c6cf-42a6-9995-3547ff953462",
                "tags": []
            },
            "outputs": [
                {
                    "output_type": "display_data",
                    "data": {
                        "text/html": "Commands completed successfully."
                    },
                    "metadata": {}
                },
                {
                    "output_type": "display_data",
                    "data": {
                        "text/html": "Total execution time: 00:00:00.010"
                    },
                    "metadata": {}
                }
            ],
            "execution_count": 40
        },
        {
            "cell_type": "markdown",
            "source": [
                "Function 1 (See Question 2)"
            ],
            "metadata": {
                "language": "sql",
                "azdata_cell_guid": "c4730eb2-8a0c-46d2-9d3c-66525171aeeb"
            },
            "attachments": {}
        },
        {
            "cell_type": "code",
            "source": [
                "-- Rounding and Converting to Decimal Function\r\n",
                "CREATE FUNCTION NullRound (\r\n",
                "    @value DECIMAL\r\n",
                ")\r\n",
                "RETURNS DECIMAL(8,2)\r\n",
                "BEGIN\r\n",
                "RETURN CONVERT(DECIMAL(8,2),ISNULL(@value,0))\r\n",
                "END \r\n",
                "GO"
            ],
            "metadata": {
                "language": "sql",
                "azdata_cell_guid": "ade297c3-c247-4e77-94ce-724e05a510e1"
            },
            "outputs": [
                {
                    "output_type": "display_data",
                    "data": {
                        "text/html": "Commands completed successfully."
                    },
                    "metadata": {}
                },
                {
                    "output_type": "display_data",
                    "data": {
                        "text/html": "Total execution time: 00:00:00.007"
                    },
                    "metadata": {}
                }
            ],
            "execution_count": 140
        },
        {
            "cell_type": "markdown",
            "source": [
                "Function 2"
            ],
            "metadata": {
                "language": "sql",
                "azdata_cell_guid": "f935002d-2e87-4dd2-bfb0-977cdcbeee2d"
            },
            "attachments": {}
        },
        {
            "cell_type": "code",
            "source": [
                "-- Rounding and Converting to Decimal Function\r\n",
                "CREATE FUNCTION YMDDash (\r\n",
                "    @Date DATETIME\r\n",
                ")\r\n",
                "RETURNS VARCHAR(12)\r\n",
                "BEGIN\r\n",
                "RETURN CONCAT(YEAR(@Date),'-',MONTH(@Date),'-',DAY(@Date))\r\n",
                "END \r\n",
                "GO"
            ],
            "metadata": {
                "language": "sql",
                "azdata_cell_guid": "c4eab678-a88e-4f0b-9006-6831b9df229f"
            },
            "outputs": [
                {
                    "output_type": "display_data",
                    "data": {
                        "text/html": "Commands completed successfully."
                    },
                    "metadata": {}
                },
                {
                    "output_type": "display_data",
                    "data": {
                        "text/html": "Total execution time: 00:00:00.008"
                    },
                    "metadata": {}
                }
            ],
            "execution_count": 30
        },
        {
            "cell_type": "code",
            "source": [
                "DROP FUNCTION YMDDash"
            ],
            "metadata": {
                "language": "sql",
                "azdata_cell_guid": "a269a6c8-fd98-4ae1-b594-253c9f97f051"
            },
            "outputs": [
                {
                    "output_type": "display_data",
                    "data": {
                        "text/html": "Commands completed successfully."
                    },
                    "metadata": {}
                },
                {
                    "output_type": "display_data",
                    "data": {
                        "text/html": "Total execution time: 00:00:00.006"
                    },
                    "metadata": {}
                }
            ],
            "execution_count": 29
        },
        {
            "cell_type": "markdown",
            "source": [
                "Q1"
            ],
            "metadata": {
                "language": "sql",
                "azdata_cell_guid": "c5b3d353-da09-4556-8505-367f4d54c8a3"
            },
            "attachments": {}
        },
        {
            "cell_type": "code",
            "source": [
                "SELECT ts.WorkOrderID,\r\n",
                "ts.TaskID,\r\n",
                "TaskDescription,\r\n",
                "COUNT(TimeSheetID) CountofTimeSheets,\r\n",
                "SUM(HoursWorked) TotalHoursWorked\r\n",
                "FROM pTask t \r\n",
                "RIGHT JOIN pTimeSheet ts \r\n",
                "ON t.TaskID = ts.TaskID\r\n",
                "GROUP BY WorkOrderID,ts.TaskID,TaskDescription\r\n",
                "ORDER BY WorkOrderID,ts.TaskID"
            ],
            "metadata": {
                "language": "sql",
                "azdata_cell_guid": "b88f5f25-0325-4659-9ab8-76be90ca65c5"
            },
            "outputs": [
                {
                    "output_type": "display_data",
                    "data": {
                        "text/html": "(44 rows affected)"
                    },
                    "metadata": {}
                },
                {
                    "output_type": "display_data",
                    "data": {
                        "text/html": "Total execution time: 00:00:00.011"
                    },
                    "metadata": {}
                },
                {
                    "output_type": "execute_result",
                    "execution_count": 18,
                    "data": {
                        "application/vnd.dataresource+json": {
                            "schema": {
                                "fields": [
                                    {
                                        "name": "WorkOrderID"
                                    },
                                    {
                                        "name": "TaskID"
                                    },
                                    {
                                        "name": "TaskDescription"
                                    },
                                    {
                                        "name": "CountofTimeSheets"
                                    },
                                    {
                                        "name": "TotalHoursWorked"
                                    }
                                ]
                            },
                            "data": [
                                {
                                    "0": "NULL",
                                    "1": "NULL",
                                    "2": "NULL",
                                    "3": "7",
                                    "4": "9.60"
                                },
                                {
                                    "0": "16885",
                                    "1": "110",
                                    "2": "Remove Existing Floor",
                                    "3": "2",
                                    "4": "7.00"
                                },
                                {
                                    "0": "16885",
                                    "1": "130",
                                    "2": "Install sub-floor",
                                    "3": "6",
                                    "4": "23.50"
                                },
                                {
                                    "0": "16885",
                                    "1": "140",
                                    "2": "Design mosaic/glass",
                                    "3": "4",
                                    "4": "9.00"
                                },
                                {
                                    "0": "16885",
                                    "1": "150",
                                    "2": "Prepare sub floor",
                                    "3": "1",
                                    "4": "4.50"
                                },
                                {
                                    "0": "16885",
                                    "1": "160",
                                    "2": "Install tile floor",
                                    "3": "5",
                                    "4": "19.25"
                                },
                                {
                                    "0": "16885",
                                    "1": "170",
                                    "2": "Grout",
                                    "3": "10",
                                    "4": "41.65"
                                },
                                {
                                    "0": "16885",
                                    "1": "270",
                                    "2": "General demolition",
                                    "3": "2",
                                    "4": "7.50"
                                },
                                {
                                    "0": "32687",
                                    "1": "110",
                                    "2": "Remove Existing Floor",
                                    "3": "2",
                                    "4": "7.50"
                                },
                                {
                                    "0": "32687",
                                    "1": "130",
                                    "2": "Install sub-floor",
                                    "3": "2",
                                    "4": "8.00"
                                },
                                {
                                    "0": "32687",
                                    "1": "150",
                                    "2": "Prepare sub floor",
                                    "3": "1",
                                    "4": "4.50"
                                },
                                {
                                    "0": "32687",
                                    "1": "160",
                                    "2": "Install tile floor",
                                    "3": "3",
                                    "4": "10.00"
                                },
                                {
                                    "0": "32687",
                                    "1": "170",
                                    "2": "Grout",
                                    "3": "2",
                                    "4": "6.50"
                                },
                                {
                                    "0": "32687",
                                    "1": "180",
                                    "2": "Seal and finish work",
                                    "3": "1",
                                    "4": "4.50"
                                },
                                {
                                    "0": "55841",
                                    "1": "130",
                                    "2": "Install sub-floor",
                                    "3": "2",
                                    "4": "7.50"
                                },
                                {
                                    "0": "55841",
                                    "1": "150",
                                    "2": "Prepare sub floor",
                                    "3": "1",
                                    "4": "4.00"
                                },
                                {
                                    "0": "55841",
                                    "1": "160",
                                    "2": "Install tile floor",
                                    "3": "3",
                                    "4": "10.50"
                                },
                                {
                                    "0": "55841",
                                    "1": "170",
                                    "2": "Grout",
                                    "3": "3",
                                    "4": "10.50"
                                },
                                {
                                    "0": "55841",
                                    "1": "180",
                                    "2": "Seal and finish work",
                                    "3": "1",
                                    "4": "4.00"
                                },
                                {
                                    "0": "55873",
                                    "1": "130",
                                    "2": "Install sub-floor",
                                    "3": "1",
                                    "4": "5.75"
                                },
                                {
                                    "0": "55873",
                                    "1": "150",
                                    "2": "Prepare sub floor",
                                    "3": "2",
                                    "4": "4.25"
                                },
                                {
                                    "0": "55873",
                                    "1": "160",
                                    "2": "Install tile floor",
                                    "3": "7",
                                    "4": "16.80"
                                },
                                {
                                    "0": "55873",
                                    "1": "170",
                                    "2": "Grout",
                                    "3": "3",
                                    "4": "10.50"
                                },
                                {
                                    "0": "55873",
                                    "1": "180",
                                    "2": "Seal and finish work",
                                    "3": "1",
                                    "4": "5.00"
                                },
                                {
                                    "0": "55878",
                                    "1": "130",
                                    "2": "Install sub-floor",
                                    "3": "2",
                                    "4": "8.00"
                                },
                                {
                                    "0": "55878",
                                    "1": "150",
                                    "2": "Prepare sub floor",
                                    "3": "1",
                                    "4": "4.50"
                                },
                                {
                                    "0": "55878",
                                    "1": "160",
                                    "2": "Install tile floor",
                                    "3": "2",
                                    "4": "10.75"
                                },
                                {
                                    "0": "55878",
                                    "1": "170",
                                    "2": "Grout",
                                    "3": "3",
                                    "4": "9.75"
                                },
                                {
                                    "0": "55878",
                                    "1": "180",
                                    "2": "Seal and finish work",
                                    "3": "1",
                                    "4": "5.00"
                                },
                                {
                                    "0": "62254",
                                    "1": "150",
                                    "2": "Prepare sub floor",
                                    "3": "5",
                                    "4": "19.50"
                                },
                                {
                                    "0": "62254",
                                    "1": "160",
                                    "2": "Install tile floor",
                                    "3": "16",
                                    "4": "61.25"
                                },
                                {
                                    "0": "62254",
                                    "1": "170",
                                    "2": "Grout",
                                    "3": "11",
                                    "4": "40.50"
                                },
                                {
                                    "0": "62254",
                                    "1": "180",
                                    "2": "Seal and finish work",
                                    "3": "9",
                                    "4": "32.00"
                                },
                                {
                                    "0": "62257",
                                    "1": "150",
                                    "2": "Prepare sub floor",
                                    "3": "5",
                                    "4": "20.25"
                                },
                                {
                                    "0": "62257",
                                    "1": "160",
                                    "2": "Install tile floor",
                                    "3": "16",
                                    "4": "64.50"
                                },
                                {
                                    "0": "62257",
                                    "1": "170",
                                    "2": "Grout",
                                    "3": "12",
                                    "4": "39.00"
                                },
                                {
                                    "0": "62257",
                                    "1": "180",
                                    "2": "Seal and finish work",
                                    "3": "10",
                                    "4": "34.50"
                                },
                                {
                                    "0": "78431",
                                    "1": "140",
                                    "2": "Design mosaic/glass",
                                    "3": "8",
                                    "4": "23.65"
                                },
                                {
                                    "0": "78431",
                                    "1": "260",
                                    "2": "Build mosaic/glass",
                                    "3": "9",
                                    "4": "35.50"
                                },
                                {
                                    "0": "91584",
                                    "1": "150",
                                    "2": "Prepare sub floor",
                                    "3": "9",
                                    "4": "34.00"
                                },
                                {
                                    "0": "91584",
                                    "1": "160",
                                    "2": "Install tile floor",
                                    "3": "19",
                                    "4": "74.25"
                                },
                                {
                                    "0": "91584",
                                    "1": "170",
                                    "2": "Grout",
                                    "3": "6",
                                    "4": "18.75"
                                },
                                {
                                    "0": "91584",
                                    "1": "180",
                                    "2": "Seal and finish work",
                                    "3": "2",
                                    "4": "7.50"
                                },
                                {
                                    "0": "91584",
                                    "1": "230",
                                    "2": "Install tile counter",
                                    "3": "4",
                                    "4": "16.50"
                                }
                            ]
                        },
                        "text/html": "<table><tr><th>WorkOrderID</th><th>TaskID</th><th>TaskDescription</th><th>CountofTimeSheets</th><th>TotalHoursWorked</th></tr><tr><td>NULL</td><td>NULL</td><td>NULL</td><td>7</td><td>9.60</td></tr><tr><td>16885</td><td>110</td><td>Remove Existing Floor</td><td>2</td><td>7.00</td></tr><tr><td>16885</td><td>130</td><td>Install sub-floor</td><td>6</td><td>23.50</td></tr><tr><td>16885</td><td>140</td><td>Design mosaic/glass</td><td>4</td><td>9.00</td></tr><tr><td>16885</td><td>150</td><td>Prepare sub floor</td><td>1</td><td>4.50</td></tr><tr><td>16885</td><td>160</td><td>Install tile floor</td><td>5</td><td>19.25</td></tr><tr><td>16885</td><td>170</td><td>Grout</td><td>10</td><td>41.65</td></tr><tr><td>16885</td><td>270</td><td>General demolition</td><td>2</td><td>7.50</td></tr><tr><td>32687</td><td>110</td><td>Remove Existing Floor</td><td>2</td><td>7.50</td></tr><tr><td>32687</td><td>130</td><td>Install sub-floor</td><td>2</td><td>8.00</td></tr><tr><td>32687</td><td>150</td><td>Prepare sub floor</td><td>1</td><td>4.50</td></tr><tr><td>32687</td><td>160</td><td>Install tile floor</td><td>3</td><td>10.00</td></tr><tr><td>32687</td><td>170</td><td>Grout</td><td>2</td><td>6.50</td></tr><tr><td>32687</td><td>180</td><td>Seal and finish work</td><td>1</td><td>4.50</td></tr><tr><td>55841</td><td>130</td><td>Install sub-floor</td><td>2</td><td>7.50</td></tr><tr><td>55841</td><td>150</td><td>Prepare sub floor</td><td>1</td><td>4.00</td></tr><tr><td>55841</td><td>160</td><td>Install tile floor</td><td>3</td><td>10.50</td></tr><tr><td>55841</td><td>170</td><td>Grout</td><td>3</td><td>10.50</td></tr><tr><td>55841</td><td>180</td><td>Seal and finish work</td><td>1</td><td>4.00</td></tr><tr><td>55873</td><td>130</td><td>Install sub-floor</td><td>1</td><td>5.75</td></tr><tr><td>55873</td><td>150</td><td>Prepare sub floor</td><td>2</td><td>4.25</td></tr><tr><td>55873</td><td>160</td><td>Install tile floor</td><td>7</td><td>16.80</td></tr><tr><td>55873</td><td>170</td><td>Grout</td><td>3</td><td>10.50</td></tr><tr><td>55873</td><td>180</td><td>Seal and finish work</td><td>1</td><td>5.00</td></tr><tr><td>55878</td><td>130</td><td>Install sub-floor</td><td>2</td><td>8.00</td></tr><tr><td>55878</td><td>150</td><td>Prepare sub floor</td><td>1</td><td>4.50</td></tr><tr><td>55878</td><td>160</td><td>Install tile floor</td><td>2</td><td>10.75</td></tr><tr><td>55878</td><td>170</td><td>Grout</td><td>3</td><td>9.75</td></tr><tr><td>55878</td><td>180</td><td>Seal and finish work</td><td>1</td><td>5.00</td></tr><tr><td>62254</td><td>150</td><td>Prepare sub floor</td><td>5</td><td>19.50</td></tr><tr><td>62254</td><td>160</td><td>Install tile floor</td><td>16</td><td>61.25</td></tr><tr><td>62254</td><td>170</td><td>Grout</td><td>11</td><td>40.50</td></tr><tr><td>62254</td><td>180</td><td>Seal and finish work</td><td>9</td><td>32.00</td></tr><tr><td>62257</td><td>150</td><td>Prepare sub floor</td><td>5</td><td>20.25</td></tr><tr><td>62257</td><td>160</td><td>Install tile floor</td><td>16</td><td>64.50</td></tr><tr><td>62257</td><td>170</td><td>Grout</td><td>12</td><td>39.00</td></tr><tr><td>62257</td><td>180</td><td>Seal and finish work</td><td>10</td><td>34.50</td></tr><tr><td>78431</td><td>140</td><td>Design mosaic/glass</td><td>8</td><td>23.65</td></tr><tr><td>78431</td><td>260</td><td>Build mosaic/glass</td><td>9</td><td>35.50</td></tr><tr><td>91584</td><td>150</td><td>Prepare sub floor</td><td>9</td><td>34.00</td></tr><tr><td>91584</td><td>160</td><td>Install tile floor</td><td>19</td><td>74.25</td></tr><tr><td>91584</td><td>170</td><td>Grout</td><td>6</td><td>18.75</td></tr><tr><td>91584</td><td>180</td><td>Seal and finish work</td><td>2</td><td>7.50</td></tr><tr><td>91584</td><td>230</td><td>Install tile counter</td><td>4</td><td>16.50</td></tr></table>"
                    },
                    "metadata": {}
                }
            ],
            "execution_count": 18
        },
        {
            "cell_type": "markdown",
            "source": [
                "Q2"
            ],
            "metadata": {
                "language": "sql",
                "azdata_cell_guid": "822a972c-fba4-4701-80fd-0319d4353279"
            },
            "attachments": {}
        },
        {
            "cell_type": "code",
            "source": [
                "CREATE VIEW vTimeSheetSummary AS\r\n",
                "WITH tsTimeSheet AS \r\n",
                "(SELECT WorkOrderID,\r\n",
                "TaskID,\r\n",
                "SUM(HoursWorked) HoursWorked,\r\n",
                "SUM(HoursWorked) * HourlyPayRate LaborCosts\r\n",
                "FROM pTimeSheet\r\n",
                "GROUP BY WorkOrderID, TaskID, HourlyPayRate)\r\n",
                "\r\n",
                "SELECT WorkOrderID,\r\n",
                "TaskID,\r\n",
                "SUM(HoursWorked) ActualHours,\r\n",
                "SUM(LaborCosts) ActualLaborCost\r\n",
                "FROM tsTimeSheet\r\n",
                "GROUP BY WorkOrderID, TaskID"
            ],
            "metadata": {
                "language": "sql",
                "azdata_cell_guid": "5f450526-473c-49b7-8c19-97b250988248"
            },
            "outputs": [
                {
                    "output_type": "display_data",
                    "data": {
                        "text/html": "Commands completed successfully."
                    },
                    "metadata": {}
                },
                {
                    "output_type": "display_data",
                    "data": {
                        "text/html": "Total execution time: 00:00:00.007"
                    },
                    "metadata": {}
                }
            ],
            "execution_count": 118
        },
        {
            "cell_type": "code",
            "source": [
                "CREATE VIEW vMaterialSummary AS\r\n",
                "WITH mMaterials AS \r\n",
                "(SELECT WorkOrderID,\r\n",
                "TaskID,\r\n",
                "SUM(Quantity * CostPerUOM) MaterialCost\r\n",
                "FROM pMaterials\r\n",
                "GROUP BY WorkOrderID, TaskID, CostPerUOM)\r\n",
                "\r\n",
                "SELECT msb.WorkOrderID,\r\n",
                "msb.TaskID,\r\n",
                "SUM(msb.MaterialCost) ActualMaterialCost\r\n",
                "FROM mMaterials msb\r\n",
                "GROUP BY msb.WorkOrderID,msb.TaskID"
            ],
            "metadata": {
                "language": "sql",
                "azdata_cell_guid": "fe36d6cd-1404-4003-bfd3-18071c2ca7e1"
            },
            "outputs": [
                {
                    "output_type": "error",
                    "ename": "",
                    "evalue": "Msg 2714, Level 16, State 3, Procedure vMaterialSummary, Line 1\r\nThere is already an object named 'vMaterialSummary' in the database.",
                    "traceback": []
                },
                {
                    "output_type": "display_data",
                    "data": {
                        "text/html": "Total execution time: 00:00:00.001"
                    },
                    "metadata": {}
                }
            ],
            "execution_count": 122
        },
        {
            "cell_type": "code",
            "source": [
                "SELECT DISTINCT wt.WorkOrderID,\r\n",
                "wt.TaskID,\r\n",
                "t.TaskDescription,\r\n",
                "wt.EstHours,\r\n",
                "ISNULL(tss.ActualHours,0) ActualHours,\r\n",
                "wt.EstLaborCost,\r\n",
                "dbo.NullRound(tss.ActualLaborCost) ActualLaborCost,\r\n",
                "wt.EstMaterialCost,\r\n",
                "dbo.NullRound(ms.ActualMaterialCost) ActualMaterialCost,\r\n",
                "CASE WHEN DateCompleted IS NULL THEN Esthours-dbo.NullRound(tss.ActualLaborCost) ELSE 0 END LaborToFinish,\r\n",
                "CASE WHEN DateCompleted IS NULL THEN EstMaterialCost-dbo.NullRound(ms.ActualMaterialCost) ELSE 0 END MaterialToFinish,\r\n",
                "CASE WHEN DateStarted IS NULL THEN 'Not Started' WHEN DateCompleted IS NULL THEN 'In Progress' ELSE 'Completed' END StatusMessage\r\n",
                "FROM pWorkTask wt \r\n",
                "LEFT JOIN pTimeSheet ts \r\n",
                "ON ts.WorkOrderID = wt.WorkOrderID AND ts.TaskID = wt.TaskId\r\n",
                "LEFT JOIN pMaterials m\r\n",
                "ON m.WorkOrderID = wt.WorkOrderID AND m.TaskId = wt.TaskId\r\n",
                "LEFT JOIN pTask t \r\n",
                "ON t.TaskID = wt.TaskId\r\n",
                "LEFT JOIN vTimeSheetSummary tss\r\n",
                "ON tss.WorkOrderID = wt.WorkOrderID AND tss.TaskId = wt.TaskId\r\n",
                "LEFT JOIN vMaterialSummary ms \r\n",
                "ON ms.WorkOrderID = wt.WorkOrderID AND ms.TaskId = wt.TaskId\r\n",
                "WHERE wt.WorkOrderID = 16885\r\n",
                "ORDER BY TaskID"
            ],
            "metadata": {
                "language": "sql",
                "azdata_cell_guid": "c2a195b2-6b01-43b2-a0aa-f17af530a4f8"
            },
            "outputs": [
                {
                    "output_type": "display_data",
                    "data": {
                        "text/html": "(10 rows affected)"
                    },
                    "metadata": {}
                },
                {
                    "output_type": "display_data",
                    "data": {
                        "text/html": "Total execution time: 00:00:00.030"
                    },
                    "metadata": {}
                },
                {
                    "output_type": "execute_result",
                    "execution_count": 145,
                    "data": {
                        "application/vnd.dataresource+json": {
                            "schema": {
                                "fields": [
                                    {
                                        "name": "WorkOrderID"
                                    },
                                    {
                                        "name": "TaskID"
                                    },
                                    {
                                        "name": "TaskDescription"
                                    },
                                    {
                                        "name": "EstHours"
                                    },
                                    {
                                        "name": "ActualHours"
                                    },
                                    {
                                        "name": "EstLaborCost"
                                    },
                                    {
                                        "name": "ActualLaborCost"
                                    },
                                    {
                                        "name": "EstMaterialCost"
                                    },
                                    {
                                        "name": "ActualMaterialCost"
                                    },
                                    {
                                        "name": "LaborToFinish"
                                    },
                                    {
                                        "name": "MaterialToFinish"
                                    },
                                    {
                                        "name": "StatusMessage"
                                    }
                                ]
                            },
                            "data": [
                                {
                                    "WorkOrderID": "16885",
                                    "TaskID": "110",
                                    "TaskDescription": "Remove Existing Floor",
                                    "EstHours": "6",
                                    "ActualHours": "7.00",
                                    "EstLaborCost": "75",
                                    "ActualLaborCost": "77.00",
                                    "EstMaterialCost": "25",
                                    "ActualMaterialCost": "23.00",
                                    "LaborToFinish": "0.00",
                                    "MaterialToFinish": "0.00",
                                    "StatusMessage": "Completed"
                                },
                                {
                                    "WorkOrderID": "16885",
                                    "TaskID": "130",
                                    "TaskDescription": "Install sub-floor",
                                    "EstHours": "22",
                                    "ActualHours": "23.50",
                                    "EstLaborCost": "280",
                                    "ActualLaborCost": "316.00",
                                    "EstMaterialCost": "360",
                                    "ActualMaterialCost": "261.00",
                                    "LaborToFinish": "0.00",
                                    "MaterialToFinish": "0.00",
                                    "StatusMessage": "Completed"
                                },
                                {
                                    "WorkOrderID": "16885",
                                    "TaskID": "140",
                                    "TaskDescription": "Design mosaic/glass",
                                    "EstHours": "10",
                                    "ActualHours": "9.00",
                                    "EstLaborCost": "240",
                                    "ActualLaborCost": "221.00",
                                    "EstMaterialCost": "10",
                                    "ActualMaterialCost": "18.00",
                                    "LaborToFinish": "0.00",
                                    "MaterialToFinish": "0.00",
                                    "StatusMessage": "Completed"
                                },
                                {
                                    "WorkOrderID": "16885",
                                    "TaskID": "150",
                                    "TaskDescription": "Prepare sub floor",
                                    "EstHours": "5",
                                    "ActualHours": "4.50",
                                    "EstLaborCost": "61",
                                    "ActualLaborCost": "66.00",
                                    "EstMaterialCost": "250",
                                    "ActualMaterialCost": "243.00",
                                    "LaborToFinish": "0.00",
                                    "MaterialToFinish": "0.00",
                                    "StatusMessage": "Completed"
                                },
                                {
                                    "WorkOrderID": "16885",
                                    "TaskID": "160",
                                    "TaskDescription": "Install tile floor",
                                    "EstHours": "18",
                                    "ActualHours": "19.25",
                                    "EstLaborCost": "230",
                                    "ActualLaborCost": "234.00",
                                    "EstMaterialCost": "1530",
                                    "ActualMaterialCost": "1795.00",
                                    "LaborToFinish": "0.00",
                                    "MaterialToFinish": "0.00",
                                    "StatusMessage": "Completed"
                                },
                                {
                                    "WorkOrderID": "16885",
                                    "TaskID": "170",
                                    "TaskDescription": "Grout",
                                    "EstHours": "33",
                                    "ActualHours": "41.65",
                                    "EstLaborCost": "450",
                                    "ActualLaborCost": "600.00",
                                    "EstMaterialCost": "40",
                                    "ActualMaterialCost": "46.00",
                                    "LaborToFinish": "0.00",
                                    "MaterialToFinish": "0.00",
                                    "StatusMessage": "Completed"
                                },
                                {
                                    "WorkOrderID": "16885",
                                    "TaskID": "180",
                                    "TaskDescription": "Seal and finish work",
                                    "EstHours": "17",
                                    "ActualHours": "0.00",
                                    "EstLaborCost": "180",
                                    "ActualLaborCost": "0.00",
                                    "EstMaterialCost": "25",
                                    "ActualMaterialCost": "20.00",
                                    "LaborToFinish": "17.00",
                                    "MaterialToFinish": "5.00",
                                    "StatusMessage": "In Progress"
                                },
                                {
                                    "WorkOrderID": "16885",
                                    "TaskID": "240",
                                    "TaskDescription": "Install tile wall",
                                    "EstHours": "16",
                                    "ActualHours": "0.00",
                                    "EstLaborCost": "252",
                                    "ActualLaborCost": "0.00",
                                    "EstMaterialCost": "1625",
                                    "ActualMaterialCost": "1971.00",
                                    "LaborToFinish": "16.00",
                                    "MaterialToFinish": "-346.00",
                                    "StatusMessage": "In Progress"
                                },
                                {
                                    "WorkOrderID": "16885",
                                    "TaskID": "260",
                                    "TaskDescription": "Build mosaic/glass",
                                    "EstHours": "16",
                                    "ActualHours": "0.00",
                                    "EstLaborCost": "384",
                                    "ActualLaborCost": "0.00",
                                    "EstMaterialCost": "110",
                                    "ActualMaterialCost": "0.00",
                                    "LaborToFinish": "16.00",
                                    "MaterialToFinish": "110.00",
                                    "StatusMessage": "Not Started"
                                },
                                {
                                    "WorkOrderID": "16885",
                                    "TaskID": "270",
                                    "TaskDescription": "General demolition",
                                    "EstHours": "8",
                                    "ActualHours": "7.50",
                                    "EstLaborCost": "100",
                                    "ActualLaborCost": "83.00",
                                    "EstMaterialCost": "0",
                                    "ActualMaterialCost": "0.00",
                                    "LaborToFinish": "0.00",
                                    "MaterialToFinish": "0.00",
                                    "StatusMessage": "Completed"
                                }
                            ]
                        },
                        "text/html": "<table><tr><th>WorkOrderID</th><th>TaskID</th><th>TaskDescription</th><th>EstHours</th><th>ActualHours</th><th>EstLaborCost</th><th>ActualLaborCost</th><th>EstMaterialCost</th><th>ActualMaterialCost</th><th>LaborToFinish</th><th>MaterialToFinish</th><th>StatusMessage</th></tr><tr><td>16885</td><td>110</td><td>Remove Existing Floor</td><td>6</td><td>7.00</td><td>75</td><td>77.00</td><td>25</td><td>23.00</td><td>0.00</td><td>0.00</td><td>Completed</td></tr><tr><td>16885</td><td>130</td><td>Install sub-floor</td><td>22</td><td>23.50</td><td>280</td><td>316.00</td><td>360</td><td>261.00</td><td>0.00</td><td>0.00</td><td>Completed</td></tr><tr><td>16885</td><td>140</td><td>Design mosaic/glass</td><td>10</td><td>9.00</td><td>240</td><td>221.00</td><td>10</td><td>18.00</td><td>0.00</td><td>0.00</td><td>Completed</td></tr><tr><td>16885</td><td>150</td><td>Prepare sub floor</td><td>5</td><td>4.50</td><td>61</td><td>66.00</td><td>250</td><td>243.00</td><td>0.00</td><td>0.00</td><td>Completed</td></tr><tr><td>16885</td><td>160</td><td>Install tile floor</td><td>18</td><td>19.25</td><td>230</td><td>234.00</td><td>1530</td><td>1795.00</td><td>0.00</td><td>0.00</td><td>Completed</td></tr><tr><td>16885</td><td>170</td><td>Grout</td><td>33</td><td>41.65</td><td>450</td><td>600.00</td><td>40</td><td>46.00</td><td>0.00</td><td>0.00</td><td>Completed</td></tr><tr><td>16885</td><td>180</td><td>Seal and finish work</td><td>17</td><td>0.00</td><td>180</td><td>0.00</td><td>25</td><td>20.00</td><td>17.00</td><td>5.00</td><td>In Progress</td></tr><tr><td>16885</td><td>240</td><td>Install tile wall</td><td>16</td><td>0.00</td><td>252</td><td>0.00</td><td>1625</td><td>1971.00</td><td>16.00</td><td>-346.00</td><td>In Progress</td></tr><tr><td>16885</td><td>260</td><td>Build mosaic/glass</td><td>16</td><td>0.00</td><td>384</td><td>0.00</td><td>110</td><td>0.00</td><td>16.00</td><td>110.00</td><td>Not Started</td></tr><tr><td>16885</td><td>270</td><td>General demolition</td><td>8</td><td>7.50</td><td>100</td><td>83.00</td><td>0</td><td>0.00</td><td>0.00</td><td>0.00</td><td>Completed</td></tr></table>"
                    },
                    "metadata": {}
                }
            ],
            "execution_count": 145
        },
        {
            "cell_type": "code",
            "source": [
                "CREATE PROCEDURE SelectWorkOrder @WorkOrderID INT \r\n",
                "AS\r\n",
                "SELECT DISTINCT wt.WorkOrderID,\r\n",
                "wt.TaskID,\r\n",
                "t.TaskDescription,\r\n",
                "wt.EstHours,\r\n",
                "ISNULL(tss.ActualHours,0) ActualHours,\r\n",
                "wt.EstLaborCost,\r\n",
                "dbo.NullRound(tss.ActualLaborCost) ActualLaborCost,\r\n",
                "wt.EstMaterialCost,\r\n",
                "dbo.NullRound(ms.ActualMaterialCost) ActualMaterialCost,\r\n",
                "CASE WHEN DateCompleted IS NULL THEN Esthours-dbo.NullRound(tss.ActualLaborCost) ELSE 0 END LaborToFinish,\r\n",
                "CASE WHEN DateCompleted IS NULL THEN EstMaterialCost-dbo.NullRound(ms.ActualMaterialCost) ELSE 0 END MaterialToFinish,\r\n",
                "CASE WHEN DateStarted IS NULL THEN 'Not Started' WHEN DateCompleted IS NULL THEN 'In Progress' ELSE 'Completed' END StatusMessage\r\n",
                "FROM pWorkTask wt \r\n",
                "LEFT JOIN pTimeSheet ts \r\n",
                "ON ts.WorkOrderID = wt.WorkOrderID AND ts.TaskID = wt.TaskId\r\n",
                "LEFT JOIN pMaterials m\r\n",
                "ON m.WorkOrderID = wt.WorkOrderID AND m.TaskId = wt.TaskId\r\n",
                "LEFT JOIN pTask t \r\n",
                "ON t.TaskID = wt.TaskId\r\n",
                "LEFT JOIN vTimeSheetSummary tss\r\n",
                "ON tss.WorkOrderID = wt.WorkOrderID AND tss.TaskId = wt.TaskId\r\n",
                "LEFT JOIN vMaterialSummary ms \r\n",
                "ON ms.WorkOrderID = wt.WorkOrderID AND ms.TaskId = wt.TaskId\r\n",
                "WHERE wt.WorkOrderID = @WorkOrderID\r\n",
                "ORDER BY TaskID"
            ],
            "metadata": {
                "language": "sql",
                "azdata_cell_guid": "db1b6d95-962e-419c-a107-ae5ea31e4e88"
            },
            "outputs": [
                {
                    "output_type": "error",
                    "ename": "",
                    "evalue": "Msg 2714, Level 16, State 3, Procedure SelectWorkOrder, Line 1\r\nThere is already an object named 'SelectWorkOrder' in the database.",
                    "traceback": []
                },
                {
                    "output_type": "display_data",
                    "data": {
                        "text/html": "Total execution time: 00:00:00.002"
                    },
                    "metadata": {}
                }
            ],
            "execution_count": 142
        },
        {
            "cell_type": "code",
            "source": [
                "EXEC SelectWorkOrder '16885'"
            ],
            "metadata": {
                "language": "sql",
                "azdata_cell_guid": "6ca85319-7334-47eb-9305-58f7fb51076c"
            },
            "outputs": [
                {
                    "output_type": "display_data",
                    "data": {
                        "text/html": "(10 rows affected)"
                    },
                    "metadata": {}
                },
                {
                    "output_type": "display_data",
                    "data": {
                        "text/html": "Total execution time: 00:00:00.023"
                    },
                    "metadata": {}
                },
                {
                    "output_type": "execute_result",
                    "execution_count": 139,
                    "data": {
                        "application/vnd.dataresource+json": {
                            "schema": {
                                "fields": [
                                    {
                                        "name": "WorkOrderID"
                                    },
                                    {
                                        "name": "TaskID"
                                    },
                                    {
                                        "name": "TaskDescription"
                                    },
                                    {
                                        "name": "EstHours"
                                    },
                                    {
                                        "name": "ActualHours"
                                    },
                                    {
                                        "name": "EstLaborCost"
                                    },
                                    {
                                        "name": "ActualLaborCost"
                                    },
                                    {
                                        "name": "EstMaterialCost"
                                    },
                                    {
                                        "name": "ActualMaterialCost"
                                    },
                                    {
                                        "name": "LaborToFinish"
                                    },
                                    {
                                        "name": "MaterialToFinish"
                                    },
                                    {
                                        "name": "StatusMessage"
                                    }
                                ]
                            },
                            "data": [
                                {
                                    "WorkOrderID": "16885",
                                    "TaskID": "110",
                                    "TaskDescription": "Remove Existing Floor",
                                    "EstHours": "6",
                                    "ActualHours": "7.00",
                                    "EstLaborCost": "75",
                                    "ActualLaborCost": "77.00",
                                    "EstMaterialCost": "25",
                                    "ActualMaterialCost": "22.83",
                                    "LaborToFinish": "0.00",
                                    "MaterialToFinish": "0.00",
                                    "StatusMessage": "Completed"
                                },
                                {
                                    "WorkOrderID": "16885",
                                    "TaskID": "130",
                                    "TaskDescription": "Install sub-floor",
                                    "EstHours": "22",
                                    "ActualHours": "23.50",
                                    "EstLaborCost": "280",
                                    "ActualLaborCost": "316.08",
                                    "EstMaterialCost": "360",
                                    "ActualMaterialCost": "261.40",
                                    "LaborToFinish": "0.00",
                                    "MaterialToFinish": "0.00",
                                    "StatusMessage": "Completed"
                                },
                                {
                                    "WorkOrderID": "16885",
                                    "TaskID": "140",
                                    "TaskDescription": "Design mosaic/glass",
                                    "EstHours": "10",
                                    "ActualHours": "9.00",
                                    "EstLaborCost": "240",
                                    "ActualLaborCost": "220.50",
                                    "EstMaterialCost": "10",
                                    "ActualMaterialCost": "18.00",
                                    "LaborToFinish": "0.00",
                                    "MaterialToFinish": "0.00",
                                    "StatusMessage": "Completed"
                                },
                                {
                                    "WorkOrderID": "16885",
                                    "TaskID": "150",
                                    "TaskDescription": "Prepare sub floor",
                                    "EstHours": "5",
                                    "ActualHours": "4.50",
                                    "EstLaborCost": "61",
                                    "ActualLaborCost": "66.38",
                                    "EstMaterialCost": "250",
                                    "ActualMaterialCost": "242.98",
                                    "LaborToFinish": "0.00",
                                    "MaterialToFinish": "0.00",
                                    "StatusMessage": "Completed"
                                },
                                {
                                    "WorkOrderID": "16885",
                                    "TaskID": "160",
                                    "TaskDescription": "Install tile floor",
                                    "EstHours": "18",
                                    "ActualHours": "19.25",
                                    "EstLaborCost": "230",
                                    "ActualLaborCost": "233.89",
                                    "EstMaterialCost": "1530",
                                    "ActualMaterialCost": "1794.74",
                                    "LaborToFinish": "0.00",
                                    "MaterialToFinish": "0.00",
                                    "StatusMessage": "Completed"
                                },
                                {
                                    "WorkOrderID": "16885",
                                    "TaskID": "170",
                                    "TaskDescription": "Grout",
                                    "EstHours": "33",
                                    "ActualHours": "41.65",
                                    "EstLaborCost": "450",
                                    "ActualLaborCost": "599.95",
                                    "EstMaterialCost": "40",
                                    "ActualMaterialCost": "46.00",
                                    "LaborToFinish": "0.00",
                                    "MaterialToFinish": "0.00",
                                    "StatusMessage": "Completed"
                                },
                                {
                                    "WorkOrderID": "16885",
                                    "TaskID": "180",
                                    "TaskDescription": "Seal and finish work",
                                    "EstHours": "17",
                                    "ActualHours": "0.00",
                                    "EstLaborCost": "180",
                                    "ActualLaborCost": "0.00",
                                    "EstMaterialCost": "25",
                                    "ActualMaterialCost": "19.95",
                                    "LaborToFinish": "17.00",
                                    "MaterialToFinish": "5.05",
                                    "StatusMessage": "In Progress"
                                },
                                {
                                    "WorkOrderID": "16885",
                                    "TaskID": "240",
                                    "TaskDescription": "Install tile wall",
                                    "EstHours": "16",
                                    "ActualHours": "0.00",
                                    "EstLaborCost": "252",
                                    "ActualLaborCost": "0.00",
                                    "EstMaterialCost": "1625",
                                    "ActualMaterialCost": "1970.99",
                                    "LaborToFinish": "16.00",
                                    "MaterialToFinish": "-345.99",
                                    "StatusMessage": "In Progress"
                                },
                                {
                                    "WorkOrderID": "16885",
                                    "TaskID": "260",
                                    "TaskDescription": "Build mosaic/glass",
                                    "EstHours": "16",
                                    "ActualHours": "0.00",
                                    "EstLaborCost": "384",
                                    "ActualLaborCost": "0.00",
                                    "EstMaterialCost": "110",
                                    "ActualMaterialCost": "0.00",
                                    "LaborToFinish": "16.00",
                                    "MaterialToFinish": "110.00",
                                    "StatusMessage": "Not Started"
                                },
                                {
                                    "WorkOrderID": "16885",
                                    "TaskID": "270",
                                    "TaskDescription": "General demolition",
                                    "EstHours": "8",
                                    "ActualHours": "7.50",
                                    "EstLaborCost": "100",
                                    "ActualLaborCost": "83.44",
                                    "EstMaterialCost": "0",
                                    "ActualMaterialCost": "0.00",
                                    "LaborToFinish": "0.00",
                                    "MaterialToFinish": "0.00",
                                    "StatusMessage": "Completed"
                                }
                            ]
                        },
                        "text/html": "<table><tr><th>WorkOrderID</th><th>TaskID</th><th>TaskDescription</th><th>EstHours</th><th>ActualHours</th><th>EstLaborCost</th><th>ActualLaborCost</th><th>EstMaterialCost</th><th>ActualMaterialCost</th><th>LaborToFinish</th><th>MaterialToFinish</th><th>StatusMessage</th></tr><tr><td>16885</td><td>110</td><td>Remove Existing Floor</td><td>6</td><td>7.00</td><td>75</td><td>77.00</td><td>25</td><td>22.83</td><td>0.00</td><td>0.00</td><td>Completed</td></tr><tr><td>16885</td><td>130</td><td>Install sub-floor</td><td>22</td><td>23.50</td><td>280</td><td>316.08</td><td>360</td><td>261.40</td><td>0.00</td><td>0.00</td><td>Completed</td></tr><tr><td>16885</td><td>140</td><td>Design mosaic/glass</td><td>10</td><td>9.00</td><td>240</td><td>220.50</td><td>10</td><td>18.00</td><td>0.00</td><td>0.00</td><td>Completed</td></tr><tr><td>16885</td><td>150</td><td>Prepare sub floor</td><td>5</td><td>4.50</td><td>61</td><td>66.38</td><td>250</td><td>242.98</td><td>0.00</td><td>0.00</td><td>Completed</td></tr><tr><td>16885</td><td>160</td><td>Install tile floor</td><td>18</td><td>19.25</td><td>230</td><td>233.89</td><td>1530</td><td>1794.74</td><td>0.00</td><td>0.00</td><td>Completed</td></tr><tr><td>16885</td><td>170</td><td>Grout</td><td>33</td><td>41.65</td><td>450</td><td>599.95</td><td>40</td><td>46.00</td><td>0.00</td><td>0.00</td><td>Completed</td></tr><tr><td>16885</td><td>180</td><td>Seal and finish work</td><td>17</td><td>0.00</td><td>180</td><td>0.00</td><td>25</td><td>19.95</td><td>17.00</td><td>5.05</td><td>In Progress</td></tr><tr><td>16885</td><td>240</td><td>Install tile wall</td><td>16</td><td>0.00</td><td>252</td><td>0.00</td><td>1625</td><td>1970.99</td><td>16.00</td><td>-345.99</td><td>In Progress</td></tr><tr><td>16885</td><td>260</td><td>Build mosaic/glass</td><td>16</td><td>0.00</td><td>384</td><td>0.00</td><td>110</td><td>0.00</td><td>16.00</td><td>110.00</td><td>Not Started</td></tr><tr><td>16885</td><td>270</td><td>General demolition</td><td>8</td><td>7.50</td><td>100</td><td>83.44</td><td>0</td><td>0.00</td><td>0.00</td><td>0.00</td><td>Completed</td></tr></table>"
                    },
                    "metadata": {}
                }
            ],
            "execution_count": 139
        },
        {
            "cell_type": "markdown",
            "source": [
                "Q3"
            ],
            "metadata": {
                "language": "sql",
                "azdata_cell_guid": "16a18b85-ea46-48d5-819f-ddb4a07663b2"
            },
            "attachments": {}
        },
        {
            "cell_type": "code",
            "source": [
                "SELECT DISTINCT wt.WorkOrderID,\r\n",
                "wt.TaskID,\r\n",
                "t.TaskDescription,\r\n",
                "dbo.YMDDash(DateCompleted) DateCompleted,\r\n",
                "wt.EstHours,\r\n",
                "CONVERT(DECIMAL(8,2),ISNULL(tss.ActualHours,0)) ActualHours,\r\n",
                "wt.EstLaborCost,\r\n",
                "CONVERT(DECIMAL(8,2),ISNULL(tss.ActualLaborCost,0)) ActualLaborCost,\r\n",
                "wt.EstLaborCost - CONVERT(DECIMAL(8,2),ISNULL(tss.ActualLaborCost,0)) LaborCostDiff,\r\n",
                "wt.EstMaterialCost,\r\n",
                "CONVERT(DECIMAL(8,2),ISNULL(ms.ActualMaterialCost,0)) ActualMaterialCost,\r\n",
                "wt.EstMaterialCost - CONVERT(DECIMAL(8,2),ISNULL(ms.ActualMaterialCost,0)) MatCostDiff\r\n",
                "FROM pWorkTask wt \r\n",
                "LEFT JOIN pTimeSheet ts \r\n",
                "ON ts.WorkOrderID = wt.WorkOrderID AND ts.TaskID = wt.TaskId\r\n",
                "LEFT JOIN pMaterials m\r\n",
                "ON m.WorkOrderID = wt.WorkOrderID AND m.TaskId = wt.TaskId\r\n",
                "LEFT JOIN pTask t \r\n",
                "ON t.TaskID = wt.TaskId\r\n",
                "LEFT JOIN vTimeSheetSummary tss\r\n",
                "ON tss.WorkOrderID = wt.WorkOrderID AND tss.TaskId = wt.TaskId\r\n",
                "LEFT JOIN vMaterialSummary ms \r\n",
                "ON ms.WorkOrderID = wt.WorkOrderID AND ms.TaskId = wt.TaskId\r\n",
                "WHERE DATECOMPLETED IS NOT NULL AND wt.WorkOrderID NOT IN (SELECT WorkOrderID FROM pWorkTask wt WHERE DateCompleted IS NULL)\r\n",
                "ORDER BY WorkOrderID, TaskID"
            ],
            "metadata": {
                "language": "sql",
                "azdata_cell_guid": "53b693c2-94bf-42ba-a1d2-c4816ed6c9bf",
                "tags": []
            },
            "outputs": [
                {
                    "output_type": "display_data",
                    "data": {
                        "text/html": "(34 rows affected)"
                    },
                    "metadata": {}
                },
                {
                    "output_type": "display_data",
                    "data": {
                        "text/html": "Total execution time: 00:00:00.045"
                    },
                    "metadata": {}
                },
                {
                    "output_type": "execute_result",
                    "execution_count": 32,
                    "data": {
                        "application/vnd.dataresource+json": {
                            "schema": {
                                "fields": [
                                    {
                                        "name": "WorkOrderID"
                                    },
                                    {
                                        "name": "TaskID"
                                    },
                                    {
                                        "name": "TaskDescription"
                                    },
                                    {
                                        "name": "DateCompleted"
                                    },
                                    {
                                        "name": "EstHours"
                                    },
                                    {
                                        "name": "ActualHours"
                                    },
                                    {
                                        "name": "EstLaborCost"
                                    },
                                    {
                                        "name": "ActualLaborCost"
                                    },
                                    {
                                        "name": "LaborCostDiff"
                                    },
                                    {
                                        "name": "EstMaterialCost"
                                    },
                                    {
                                        "name": "ActualMaterialCost"
                                    },
                                    {
                                        "name": "MatCostDiff"
                                    }
                                ]
                            },
                            "data": [
                                {
                                    "WorkOrderID": "32687",
                                    "TaskID": "110",
                                    "TaskDescription": "Remove Existing Floor",
                                    "DateCompleted": "2021-7-31",
                                    "EstHours": "8",
                                    "ActualHours": "7.50",
                                    "EstLaborCost": "88",
                                    "ActualLaborCost": "82.50",
                                    "LaborCostDiff": "5.50",
                                    "EstMaterialCost": "0",
                                    "ActualMaterialCost": "0.00",
                                    "MatCostDiff": "0.00"
                                },
                                {
                                    "WorkOrderID": "32687",
                                    "TaskID": "130",
                                    "TaskDescription": "Install sub-floor",
                                    "DateCompleted": "2021-8-4",
                                    "EstHours": "7",
                                    "ActualHours": "8.00",
                                    "EstLaborCost": "113",
                                    "ActualLaborCost": "92.00",
                                    "LaborCostDiff": "21.00",
                                    "EstMaterialCost": "95",
                                    "ActualMaterialCost": "98.95",
                                    "MatCostDiff": "-3.95"
                                },
                                {
                                    "WorkOrderID": "32687",
                                    "TaskID": "150",
                                    "TaskDescription": "Prepare sub floor",
                                    "DateCompleted": "2021-8-7",
                                    "EstHours": "3",
                                    "ActualHours": "4.50",
                                    "EstLaborCost": "50",
                                    "ActualLaborCost": "66.38",
                                    "LaborCostDiff": "-16.38",
                                    "EstMaterialCost": "110",
                                    "ActualMaterialCost": "105.00",
                                    "MatCostDiff": "5.00"
                                },
                                {
                                    "WorkOrderID": "32687",
                                    "TaskID": "160",
                                    "TaskDescription": "Install tile floor",
                                    "DateCompleted": "2021-8-14",
                                    "EstHours": "10",
                                    "ActualHours": "10.00",
                                    "EstLaborCost": "180",
                                    "ActualLaborCost": "160.00",
                                    "LaborCostDiff": "20.00",
                                    "EstMaterialCost": "13550",
                                    "ActualMaterialCost": "13810.60",
                                    "MatCostDiff": "-260.60"
                                },
                                {
                                    "WorkOrderID": "32687",
                                    "TaskID": "170",
                                    "TaskDescription": "Grout",
                                    "DateCompleted": "2021-8-18",
                                    "EstHours": "6",
                                    "ActualHours": "6.50",
                                    "EstLaborCost": "90",
                                    "ActualLaborCost": "95.88",
                                    "LaborCostDiff": "-5.88",
                                    "EstMaterialCost": "12",
                                    "ActualMaterialCost": "12.87",
                                    "MatCostDiff": "-0.87"
                                },
                                {
                                    "WorkOrderID": "32687",
                                    "TaskID": "180",
                                    "TaskDescription": "Seal and finish work",
                                    "DateCompleted": "2021-8-22",
                                    "EstHours": "4",
                                    "ActualHours": "4.50",
                                    "EstLaborCost": "60",
                                    "ActualLaborCost": "65.25",
                                    "LaborCostDiff": "-5.25",
                                    "EstMaterialCost": "10",
                                    "ActualMaterialCost": "9.98",
                                    "MatCostDiff": "0.02"
                                },
                                {
                                    "WorkOrderID": "55841",
                                    "TaskID": "130",
                                    "TaskDescription": "Install sub-floor",
                                    "DateCompleted": "2020-7-15",
                                    "EstHours": "8",
                                    "ActualHours": "7.50",
                                    "EstLaborCost": "83",
                                    "ActualLaborCost": "90.00",
                                    "LaborCostDiff": "-7.00",
                                    "EstMaterialCost": "83",
                                    "ActualMaterialCost": "94.90",
                                    "MatCostDiff": "-11.90"
                                },
                                {
                                    "WorkOrderID": "55841",
                                    "TaskID": "150",
                                    "TaskDescription": "Prepare sub floor",
                                    "DateCompleted": "2020-7-16",
                                    "EstHours": "4",
                                    "ActualHours": "4.00",
                                    "EstLaborCost": "45",
                                    "ActualLaborCost": "52.00",
                                    "LaborCostDiff": "-7.00",
                                    "EstMaterialCost": "110",
                                    "ActualMaterialCost": "99.98",
                                    "MatCostDiff": "10.02"
                                },
                                {
                                    "WorkOrderID": "55841",
                                    "TaskID": "160",
                                    "TaskDescription": "Install tile floor",
                                    "DateCompleted": "2020-7-19",
                                    "EstHours": "11",
                                    "ActualHours": "10.50",
                                    "EstLaborCost": "170",
                                    "ActualLaborCost": "162.75",
                                    "LaborCostDiff": "7.25",
                                    "EstMaterialCost": "240",
                                    "ActualMaterialCost": "235.15",
                                    "MatCostDiff": "4.85"
                                },
                                {
                                    "WorkOrderID": "55841",
                                    "TaskID": "170",
                                    "TaskDescription": "Grout",
                                    "DateCompleted": "2020-7-22",
                                    "EstHours": "10",
                                    "ActualHours": "10.50",
                                    "EstLaborCost": "140",
                                    "ActualLaborCost": "139.75",
                                    "LaborCostDiff": "0.25",
                                    "EstMaterialCost": "9",
                                    "ActualMaterialCost": "11.88",
                                    "MatCostDiff": "-2.88"
                                },
                                {
                                    "WorkOrderID": "55841",
                                    "TaskID": "180",
                                    "TaskDescription": "Seal and finish work",
                                    "DateCompleted": "2020-7-29",
                                    "EstHours": "5",
                                    "ActualHours": "4.00",
                                    "EstLaborCost": "58",
                                    "ActualLaborCost": "46.00",
                                    "LaborCostDiff": "12.00",
                                    "EstMaterialCost": "13",
                                    "ActualMaterialCost": "11.75",
                                    "MatCostDiff": "1.25"
                                },
                                {
                                    "WorkOrderID": "55873",
                                    "TaskID": "130",
                                    "TaskDescription": "Install sub-floor",
                                    "DateCompleted": "2020-8-15",
                                    "EstHours": "8",
                                    "ActualHours": "5.75",
                                    "EstLaborCost": "110",
                                    "ActualLaborCost": "132.25",
                                    "LaborCostDiff": "-22.25",
                                    "EstMaterialCost": "83",
                                    "ActualMaterialCost": "94.90",
                                    "MatCostDiff": "-11.90"
                                },
                                {
                                    "WorkOrderID": "55873",
                                    "TaskID": "150",
                                    "TaskDescription": "Prepare sub floor",
                                    "DateCompleted": "2020-8-16",
                                    "EstHours": "4",
                                    "ActualHours": "4.25",
                                    "EstLaborCost": "45",
                                    "ActualLaborCost": "57.38",
                                    "LaborCostDiff": "-12.38",
                                    "EstMaterialCost": "110",
                                    "ActualMaterialCost": "99.98",
                                    "MatCostDiff": "10.02"
                                },
                                {
                                    "WorkOrderID": "55873",
                                    "TaskID": "160",
                                    "TaskDescription": "Install tile floor",
                                    "DateCompleted": "2020-8-20",
                                    "EstHours": "26",
                                    "ActualHours": "16.80",
                                    "EstLaborCost": "170",
                                    "ActualLaborCost": "301.65",
                                    "LaborCostDiff": "-131.65",
                                    "EstMaterialCost": "240",
                                    "ActualMaterialCost": "9.43",
                                    "MatCostDiff": "230.57"
                                },
                                {
                                    "WorkOrderID": "55873",
                                    "TaskID": "170",
                                    "TaskDescription": "Grout",
                                    "DateCompleted": "2020-8-26",
                                    "EstHours": "10",
                                    "ActualHours": "10.50",
                                    "EstLaborCost": "140",
                                    "ActualLaborCost": "133.88",
                                    "LaborCostDiff": "6.12",
                                    "EstMaterialCost": "9",
                                    "ActualMaterialCost": "11.88",
                                    "MatCostDiff": "-2.88"
                                },
                                {
                                    "WorkOrderID": "55873",
                                    "TaskID": "180",
                                    "TaskDescription": "Seal and finish work",
                                    "DateCompleted": "2020-9-2",
                                    "EstHours": "5",
                                    "ActualHours": "5.00",
                                    "EstLaborCost": "58",
                                    "ActualLaborCost": "67.50",
                                    "LaborCostDiff": "-9.50",
                                    "EstMaterialCost": "13",
                                    "ActualMaterialCost": "11.75",
                                    "MatCostDiff": "1.25"
                                },
                                {
                                    "WorkOrderID": "55878",
                                    "TaskID": "130",
                                    "TaskDescription": "Install sub-floor",
                                    "DateCompleted": "2020-9-12",
                                    "EstHours": "8",
                                    "ActualHours": "8.00",
                                    "EstLaborCost": "110",
                                    "ActualLaborCost": "106.00",
                                    "LaborCostDiff": "4.00",
                                    "EstMaterialCost": "83",
                                    "ActualMaterialCost": "81.40",
                                    "MatCostDiff": "1.60"
                                },
                                {
                                    "WorkOrderID": "55878",
                                    "TaskID": "150",
                                    "TaskDescription": "Prepare sub floor",
                                    "DateCompleted": "2020-9-16",
                                    "EstHours": "4",
                                    "ActualHours": "4.50",
                                    "EstLaborCost": "45",
                                    "ActualLaborCost": "58.50",
                                    "LaborCostDiff": "-13.50",
                                    "EstMaterialCost": "110",
                                    "ActualMaterialCost": "99.98",
                                    "MatCostDiff": "10.02"
                                },
                                {
                                    "WorkOrderID": "55878",
                                    "TaskID": "160",
                                    "TaskDescription": "Install tile floor",
                                    "DateCompleted": "2020-9-20",
                                    "EstHours": "11",
                                    "ActualHours": "10.75",
                                    "EstLaborCost": "170",
                                    "ActualLaborCost": "172.00",
                                    "LaborCostDiff": "-2.00",
                                    "EstMaterialCost": "240",
                                    "ActualMaterialCost": "11.52",
                                    "MatCostDiff": "228.48"
                                },
                                {
                                    "WorkOrderID": "55878",
                                    "TaskID": "170",
                                    "TaskDescription": "Grout",
                                    "DateCompleted": "2020-9-24",
                                    "EstHours": "10",
                                    "ActualHours": "9.75",
                                    "EstLaborCost": "140",
                                    "ActualLaborCost": "129.63",
                                    "LaborCostDiff": "10.37",
                                    "EstMaterialCost": "9",
                                    "ActualMaterialCost": "11.88",
                                    "MatCostDiff": "-2.88"
                                },
                                {
                                    "WorkOrderID": "55878",
                                    "TaskID": "180",
                                    "TaskDescription": "Seal and finish work",
                                    "DateCompleted": "2020-9-30",
                                    "EstHours": "5",
                                    "ActualHours": "5.00",
                                    "EstLaborCost": "53",
                                    "ActualLaborCost": "65.00",
                                    "LaborCostDiff": "-12.00",
                                    "EstMaterialCost": "13",
                                    "ActualMaterialCost": "11.75",
                                    "MatCostDiff": "1.25"
                                },
                                {
                                    "WorkOrderID": "62254",
                                    "TaskID": "150",
                                    "TaskDescription": "Prepare sub floor",
                                    "DateCompleted": "2021-10-24",
                                    "EstHours": "20",
                                    "ActualHours": "19.50",
                                    "EstLaborCost": "270",
                                    "ActualLaborCost": "282.75",
                                    "LaborCostDiff": "-12.75",
                                    "EstMaterialCost": "790",
                                    "ActualMaterialCost": "771.25",
                                    "MatCostDiff": "18.75"
                                },
                                {
                                    "WorkOrderID": "62254",
                                    "TaskID": "160",
                                    "TaskDescription": "Install tile floor",
                                    "DateCompleted": "2021-10-30",
                                    "EstHours": "65",
                                    "ActualHours": "61.25",
                                    "EstLaborCost": "1040",
                                    "ActualLaborCost": "965.13",
                                    "LaborCostDiff": "74.87",
                                    "EstMaterialCost": "1897",
                                    "ActualMaterialCost": "142.95",
                                    "MatCostDiff": "1754.05"
                                },
                                {
                                    "WorkOrderID": "62254",
                                    "TaskID": "170",
                                    "TaskDescription": "Grout",
                                    "DateCompleted": "2021-10-31",
                                    "EstHours": "40",
                                    "ActualHours": "40.50",
                                    "EstLaborCost": "540",
                                    "ActualLaborCost": "541.98",
                                    "LaborCostDiff": "-1.98",
                                    "EstMaterialCost": "120",
                                    "ActualMaterialCost": "116.25",
                                    "MatCostDiff": "3.75"
                                },
                                {
                                    "WorkOrderID": "62254",
                                    "TaskID": "180",
                                    "TaskDescription": "Seal and finish work",
                                    "DateCompleted": "2021-11-3",
                                    "EstHours": "33",
                                    "ActualHours": "32.00",
                                    "EstLaborCost": "446",
                                    "ActualLaborCost": "461.06",
                                    "LaborCostDiff": "-15.06",
                                    "EstMaterialCost": "125",
                                    "ActualMaterialCost": "99.75",
                                    "MatCostDiff": "25.25"
                                },
                                {
                                    "WorkOrderID": "62257",
                                    "TaskID": "150",
                                    "TaskDescription": "Prepare sub floor",
                                    "DateCompleted": "2021-11-3",
                                    "EstHours": "20",
                                    "ActualHours": "20.25",
                                    "EstLaborCost": "270",
                                    "ActualLaborCost": "246.04",
                                    "LaborCostDiff": "23.96",
                                    "EstMaterialCost": "790",
                                    "ActualMaterialCost": "771.25",
                                    "MatCostDiff": "18.75"
                                },
                                {
                                    "WorkOrderID": "62257",
                                    "TaskID": "160",
                                    "TaskDescription": "Install tile floor",
                                    "DateCompleted": "2021-11-7",
                                    "EstHours": "65",
                                    "ActualHours": "64.50",
                                    "EstLaborCost": "1040",
                                    "ActualLaborCost": "1040.38",
                                    "LaborCostDiff": "-0.38",
                                    "EstMaterialCost": "1897",
                                    "ActualMaterialCost": "142.95",
                                    "MatCostDiff": "1754.05"
                                },
                                {
                                    "WorkOrderID": "62257",
                                    "TaskID": "170",
                                    "TaskDescription": "Grout",
                                    "DateCompleted": "2021-11-12",
                                    "EstHours": "40",
                                    "ActualHours": "39.00",
                                    "EstLaborCost": "540",
                                    "ActualLaborCost": "538.80",
                                    "LaborCostDiff": "1.20",
                                    "EstMaterialCost": "120",
                                    "ActualMaterialCost": "116.25",
                                    "MatCostDiff": "3.75"
                                },
                                {
                                    "WorkOrderID": "62257",
                                    "TaskID": "180",
                                    "TaskDescription": "Seal and finish work",
                                    "DateCompleted": "2021-11-18",
                                    "EstHours": "54",
                                    "ActualHours": "34.50",
                                    "EstLaborCost": "597",
                                    "ActualLaborCost": "518.31",
                                    "LaborCostDiff": "78.69",
                                    "EstMaterialCost": "275",
                                    "ActualMaterialCost": "99.75",
                                    "MatCostDiff": "175.25"
                                },
                                {
                                    "WorkOrderID": "91584",
                                    "TaskID": "150",
                                    "TaskDescription": "Prepare sub floor",
                                    "DateCompleted": "2021-4-2",
                                    "EstHours": "33",
                                    "ActualHours": "34.00",
                                    "EstLaborCost": "450",
                                    "ActualLaborCost": "442.63",
                                    "LaborCostDiff": "7.37",
                                    "EstMaterialCost": "300",
                                    "ActualMaterialCost": "313.87",
                                    "MatCostDiff": "-13.87"
                                },
                                {
                                    "WorkOrderID": "91584",
                                    "TaskID": "160",
                                    "TaskDescription": "Install tile floor",
                                    "DateCompleted": "2021-4-11",
                                    "EstHours": "72",
                                    "ActualHours": "74.25",
                                    "EstLaborCost": "1200",
                                    "ActualLaborCost": "1168.13",
                                    "LaborCostDiff": "31.87",
                                    "EstMaterialCost": "11590",
                                    "ActualMaterialCost": "11762.80",
                                    "MatCostDiff": "-172.80"
                                },
                                {
                                    "WorkOrderID": "91584",
                                    "TaskID": "170",
                                    "TaskDescription": "Grout",
                                    "DateCompleted": "2021-4-14",
                                    "EstHours": "16",
                                    "ActualHours": "18.75",
                                    "EstLaborCost": "216",
                                    "ActualLaborCost": "240.94",
                                    "LaborCostDiff": "-24.94",
                                    "EstMaterialCost": "150",
                                    "ActualMaterialCost": "154.85",
                                    "MatCostDiff": "-4.85"
                                },
                                {
                                    "WorkOrderID": "91584",
                                    "TaskID": "180",
                                    "TaskDescription": "Seal and finish work",
                                    "DateCompleted": "2021-4-21",
                                    "EstHours": "8",
                                    "ActualHours": "7.50",
                                    "EstLaborCost": "108",
                                    "ActualLaborCost": "94.69",
                                    "LaborCostDiff": "13.31",
                                    "EstMaterialCost": "175",
                                    "ActualMaterialCost": "168.00",
                                    "MatCostDiff": "7.00"
                                },
                                {
                                    "WorkOrderID": "91584",
                                    "TaskID": "230",
                                    "TaskDescription": "Install tile counter",
                                    "DateCompleted": "2021-4-4",
                                    "EstHours": "16",
                                    "ActualHours": "16.50",
                                    "EstLaborCost": "265",
                                    "ActualLaborCost": "264.00",
                                    "LaborCostDiff": "1.00",
                                    "EstMaterialCost": "400",
                                    "ActualMaterialCost": "433.71",
                                    "MatCostDiff": "-33.71"
                                }
                            ]
                        },
                        "text/html": "<table><tr><th>WorkOrderID</th><th>TaskID</th><th>TaskDescription</th><th>DateCompleted</th><th>EstHours</th><th>ActualHours</th><th>EstLaborCost</th><th>ActualLaborCost</th><th>LaborCostDiff</th><th>EstMaterialCost</th><th>ActualMaterialCost</th><th>MatCostDiff</th></tr><tr><td>32687</td><td>110</td><td>Remove Existing Floor</td><td>2021-7-31</td><td>8</td><td>7.50</td><td>88</td><td>82.50</td><td>5.50</td><td>0</td><td>0.00</td><td>0.00</td></tr><tr><td>32687</td><td>130</td><td>Install sub-floor</td><td>2021-8-4</td><td>7</td><td>8.00</td><td>113</td><td>92.00</td><td>21.00</td><td>95</td><td>98.95</td><td>-3.95</td></tr><tr><td>32687</td><td>150</td><td>Prepare sub floor</td><td>2021-8-7</td><td>3</td><td>4.50</td><td>50</td><td>66.38</td><td>-16.38</td><td>110</td><td>105.00</td><td>5.00</td></tr><tr><td>32687</td><td>160</td><td>Install tile floor</td><td>2021-8-14</td><td>10</td><td>10.00</td><td>180</td><td>160.00</td><td>20.00</td><td>13550</td><td>13810.60</td><td>-260.60</td></tr><tr><td>32687</td><td>170</td><td>Grout</td><td>2021-8-18</td><td>6</td><td>6.50</td><td>90</td><td>95.88</td><td>-5.88</td><td>12</td><td>12.87</td><td>-0.87</td></tr><tr><td>32687</td><td>180</td><td>Seal and finish work</td><td>2021-8-22</td><td>4</td><td>4.50</td><td>60</td><td>65.25</td><td>-5.25</td><td>10</td><td>9.98</td><td>0.02</td></tr><tr><td>55841</td><td>130</td><td>Install sub-floor</td><td>2020-7-15</td><td>8</td><td>7.50</td><td>83</td><td>90.00</td><td>-7.00</td><td>83</td><td>94.90</td><td>-11.90</td></tr><tr><td>55841</td><td>150</td><td>Prepare sub floor</td><td>2020-7-16</td><td>4</td><td>4.00</td><td>45</td><td>52.00</td><td>-7.00</td><td>110</td><td>99.98</td><td>10.02</td></tr><tr><td>55841</td><td>160</td><td>Install tile floor</td><td>2020-7-19</td><td>11</td><td>10.50</td><td>170</td><td>162.75</td><td>7.25</td><td>240</td><td>235.15</td><td>4.85</td></tr><tr><td>55841</td><td>170</td><td>Grout</td><td>2020-7-22</td><td>10</td><td>10.50</td><td>140</td><td>139.75</td><td>0.25</td><td>9</td><td>11.88</td><td>-2.88</td></tr><tr><td>55841</td><td>180</td><td>Seal and finish work</td><td>2020-7-29</td><td>5</td><td>4.00</td><td>58</td><td>46.00</td><td>12.00</td><td>13</td><td>11.75</td><td>1.25</td></tr><tr><td>55873</td><td>130</td><td>Install sub-floor</td><td>2020-8-15</td><td>8</td><td>5.75</td><td>110</td><td>132.25</td><td>-22.25</td><td>83</td><td>94.90</td><td>-11.90</td></tr><tr><td>55873</td><td>150</td><td>Prepare sub floor</td><td>2020-8-16</td><td>4</td><td>4.25</td><td>45</td><td>57.38</td><td>-12.38</td><td>110</td><td>99.98</td><td>10.02</td></tr><tr><td>55873</td><td>160</td><td>Install tile floor</td><td>2020-8-20</td><td>26</td><td>16.80</td><td>170</td><td>301.65</td><td>-131.65</td><td>240</td><td>9.43</td><td>230.57</td></tr><tr><td>55873</td><td>170</td><td>Grout</td><td>2020-8-26</td><td>10</td><td>10.50</td><td>140</td><td>133.88</td><td>6.12</td><td>9</td><td>11.88</td><td>-2.88</td></tr><tr><td>55873</td><td>180</td><td>Seal and finish work</td><td>2020-9-2</td><td>5</td><td>5.00</td><td>58</td><td>67.50</td><td>-9.50</td><td>13</td><td>11.75</td><td>1.25</td></tr><tr><td>55878</td><td>130</td><td>Install sub-floor</td><td>2020-9-12</td><td>8</td><td>8.00</td><td>110</td><td>106.00</td><td>4.00</td><td>83</td><td>81.40</td><td>1.60</td></tr><tr><td>55878</td><td>150</td><td>Prepare sub floor</td><td>2020-9-16</td><td>4</td><td>4.50</td><td>45</td><td>58.50</td><td>-13.50</td><td>110</td><td>99.98</td><td>10.02</td></tr><tr><td>55878</td><td>160</td><td>Install tile floor</td><td>2020-9-20</td><td>11</td><td>10.75</td><td>170</td><td>172.00</td><td>-2.00</td><td>240</td><td>11.52</td><td>228.48</td></tr><tr><td>55878</td><td>170</td><td>Grout</td><td>2020-9-24</td><td>10</td><td>9.75</td><td>140</td><td>129.63</td><td>10.37</td><td>9</td><td>11.88</td><td>-2.88</td></tr><tr><td>55878</td><td>180</td><td>Seal and finish work</td><td>2020-9-30</td><td>5</td><td>5.00</td><td>53</td><td>65.00</td><td>-12.00</td><td>13</td><td>11.75</td><td>1.25</td></tr><tr><td>62254</td><td>150</td><td>Prepare sub floor</td><td>2021-10-24</td><td>20</td><td>19.50</td><td>270</td><td>282.75</td><td>-12.75</td><td>790</td><td>771.25</td><td>18.75</td></tr><tr><td>62254</td><td>160</td><td>Install tile floor</td><td>2021-10-30</td><td>65</td><td>61.25</td><td>1040</td><td>965.13</td><td>74.87</td><td>1897</td><td>142.95</td><td>1754.05</td></tr><tr><td>62254</td><td>170</td><td>Grout</td><td>2021-10-31</td><td>40</td><td>40.50</td><td>540</td><td>541.98</td><td>-1.98</td><td>120</td><td>116.25</td><td>3.75</td></tr><tr><td>62254</td><td>180</td><td>Seal and finish work</td><td>2021-11-3</td><td>33</td><td>32.00</td><td>446</td><td>461.06</td><td>-15.06</td><td>125</td><td>99.75</td><td>25.25</td></tr><tr><td>62257</td><td>150</td><td>Prepare sub floor</td><td>2021-11-3</td><td>20</td><td>20.25</td><td>270</td><td>246.04</td><td>23.96</td><td>790</td><td>771.25</td><td>18.75</td></tr><tr><td>62257</td><td>160</td><td>Install tile floor</td><td>2021-11-7</td><td>65</td><td>64.50</td><td>1040</td><td>1040.38</td><td>-0.38</td><td>1897</td><td>142.95</td><td>1754.05</td></tr><tr><td>62257</td><td>170</td><td>Grout</td><td>2021-11-12</td><td>40</td><td>39.00</td><td>540</td><td>538.80</td><td>1.20</td><td>120</td><td>116.25</td><td>3.75</td></tr><tr><td>62257</td><td>180</td><td>Seal and finish work</td><td>2021-11-18</td><td>54</td><td>34.50</td><td>597</td><td>518.31</td><td>78.69</td><td>275</td><td>99.75</td><td>175.25</td></tr><tr><td>91584</td><td>150</td><td>Prepare sub floor</td><td>2021-4-2</td><td>33</td><td>34.00</td><td>450</td><td>442.63</td><td>7.37</td><td>300</td><td>313.87</td><td>-13.87</td></tr><tr><td>91584</td><td>160</td><td>Install tile floor</td><td>2021-4-11</td><td>72</td><td>74.25</td><td>1200</td><td>1168.13</td><td>31.87</td><td>11590</td><td>11762.80</td><td>-172.80</td></tr><tr><td>91584</td><td>170</td><td>Grout</td><td>2021-4-14</td><td>16</td><td>18.75</td><td>216</td><td>240.94</td><td>-24.94</td><td>150</td><td>154.85</td><td>-4.85</td></tr><tr><td>91584</td><td>180</td><td>Seal and finish work</td><td>2021-4-21</td><td>8</td><td>7.50</td><td>108</td><td>94.69</td><td>13.31</td><td>175</td><td>168.00</td><td>7.00</td></tr><tr><td>91584</td><td>230</td><td>Install tile counter</td><td>2021-4-4</td><td>16</td><td>16.50</td><td>265</td><td>264.00</td><td>1.00</td><td>400</td><td>433.71</td><td>-33.71</td></tr></table>"
                    },
                    "metadata": {}
                }
            ],
            "execution_count": 32
        },
        {
            "cell_type": "markdown",
            "source": [
                "Q4"
            ],
            "metadata": {
                "language": "sql",
                "azdata_cell_guid": "5eef8b23-b203-4296-b360-633df435c45c"
            },
            "attachments": {}
        },
        {
            "cell_type": "code",
            "source": [
                "WITH Summary AS (\r\n",
                "    SELECT wt.WorkOrderID,\r\n",
                "    SUM (EstHours) EstHours,\r\n",
                "    SUM(tss.ActualHours) ActualHours,\r\n",
                "    SUM(tss.ActualLaborCost) ActualLaborCost,\r\n",
                "    SUM(wt.EstLaborCost) EstLaborCost,\r\n",
                "    SUM(wt.EstLaborCost - tss.ActualLaborCost) LaborCostDiff,\r\n",
                "    SUM(wt.EstMaterialCost) EstMaterialCost,\r\n",
                "    SUM(ms.ActualMaterialCost) ActualMaterialCost,\r\n",
                "    SUM(wt.EstMaterialCost - ms.ActualMaterialCost) MatCostDiff\r\n",
                "    FROM pWorkTask wt \r\n",
                "    LEFT JOIN vTimeSheetSummary tss\r\n",
                "ON tss.WorkOrderID = wt.WorkOrderID AND tss.TaskId = wt.TaskId\r\n",
                "LEFT JOIN vMaterialSummary ms \r\n",
                "ON ms.WorkOrderID = wt.WorkOrderID AND ms.TaskId = wt.TaskId\r\n",
                "GROUP BY wt.WorkOrderID\r\n",
                ")\r\n",
                "\r\n",
                "SELECT ss.WorkOrderID,\r\n",
                "c.CustomerName,\r\n",
                "dbo.YMDDash(MIN(DateStarted)) DateStarted,\r\n",
                "dbo.YMDDash(Max(DateCompleted)) DateCompleted,\r\n",
                "ss.EstHours,\r\n",
                "CONVERT(DECIMAL(8,2),ISNULL(ss.ActualHours,0)) ActualHours,\r\n",
                "ss.EstLaborCost,\r\n",
                "CONVERT(DECIMAL(8,2),ISNULL(ss.ActualLaborCost,0)) ActualLaborCost,\r\n",
                "CONVERT(DECIMAL(8,2),ISNULL(ss.LaborCostDiff,0)) LaborCostDiff,\r\n",
                "ss.EstMaterialCost,\r\n",
                "CONVERT(DECIMAL(8,2),ISNULL(ss.ActualMaterialCost,0)) ActualMaterialCost,\r\n",
                "CONVERT(DECIMAL(8,2),ISNULL(ss.MatCostDiff,0)) MatCostDiff,\r\n",
                "CONVERT(DECIMAL(8,2),ISNULL(ss.LaborCostDiff,0)) + CONVERT(DECIMAL(8,2),ISNULL(ss.MatCostDiff,0)) TotalCostDiff\r\n",
                "FROM Summary ss\r\n",
                "LEFT JOIN pWorkTask wt \r\n",
                "ON ss.WorkOrderID = wt.WorkOrderID\r\n",
                "LEFT JOIN pTimeSheet ts \r\n",
                "ON ts.WorkOrderID = wt.WorkOrderID AND ts.TaskID = wt.TaskId\r\n",
                "LEFT JOIN pMaterials m\r\n",
                "ON m.WorkOrderID = wt.WorkOrderID AND m.TaskId = wt.TaskId\r\n",
                "LEFT JOIN pWorkOrder wo \r\n",
                "ON wt.WorkOrderID = wo.WorkOrderID\r\n",
                "LEFT JOIN pCustomer c \r\n",
                "ON c.CustomerID = wo.CustomerID\r\n",
                "WHERE DATECOMPLETED IS NOT NULL AND wt.WorkOrderID NOT IN (SELECT WorkOrderID FROM pWorkTask wt WHERE DateCompleted IS NULL)\r\n",
                "GROUP BY ss.WorkOrderID, ss.EstHours, ss.ActualHours, ss.ActualLaborCost, ss.EstLaborCost, ss.LaborCostDiff, ss.EstMaterialCost, ss.ActualMaterialCost, ss.MatCostDiff, c.CustomerName\r\n",
                "ORDER BY WorkOrderID"
            ],
            "metadata": {
                "language": "sql",
                "azdata_cell_guid": "01d1bad2-2920-46ea-8e1b-d1af3d65d85c"
            },
            "outputs": [
                {
                    "output_type": "display_data",
                    "data": {
                        "text/html": "(7 rows affected)"
                    },
                    "metadata": {}
                },
                {
                    "output_type": "display_data",
                    "data": {
                        "text/html": "Total execution time: 00:00:00.072"
                    },
                    "metadata": {}
                },
                {
                    "output_type": "execute_result",
                    "execution_count": 38,
                    "data": {
                        "application/vnd.dataresource+json": {
                            "schema": {
                                "fields": [
                                    {
                                        "name": "WorkOrderID"
                                    },
                                    {
                                        "name": "CustomerName"
                                    },
                                    {
                                        "name": "DateStarted"
                                    },
                                    {
                                        "name": "DateCompleted"
                                    },
                                    {
                                        "name": "EstHours"
                                    },
                                    {
                                        "name": "ActualHours"
                                    },
                                    {
                                        "name": "EstLaborCost"
                                    },
                                    {
                                        "name": "ActualLaborCost"
                                    },
                                    {
                                        "name": "LaborCostDiff"
                                    },
                                    {
                                        "name": "EstMaterialCost"
                                    },
                                    {
                                        "name": "ActualMaterialCost"
                                    },
                                    {
                                        "name": "MatCostDiff"
                                    },
                                    {
                                        "name": "TotalCostDiff"
                                    }
                                ]
                            },
                            "data": [
                                {
                                    "WorkOrderID": "32687",
                                    "CustomerName": "Bread Bakery",
                                    "DateStarted": "2021-7-31",
                                    "DateCompleted": "2021-8-22",
                                    "EstHours": "38",
                                    "ActualHours": "41.00",
                                    "EstLaborCost": "581",
                                    "ActualLaborCost": "562.00",
                                    "LaborCostDiff": "19.00",
                                    "EstMaterialCost": "13777",
                                    "ActualMaterialCost": "14037.40",
                                    "MatCostDiff": "-260.40",
                                    "TotalCostDiff": "-241.40"
                                },
                                {
                                    "WorkOrderID": "55841",
                                    "CustomerName": "AO Reid Construction",
                                    "DateStarted": "2020-7-15",
                                    "DateCompleted": "2020-7-29",
                                    "EstHours": "38",
                                    "ActualHours": "36.50",
                                    "EstLaborCost": "496",
                                    "ActualLaborCost": "490.50",
                                    "LaborCostDiff": "5.50",
                                    "EstMaterialCost": "455",
                                    "ActualMaterialCost": "453.66",
                                    "MatCostDiff": "1.35",
                                    "TotalCostDiff": "6.85"
                                },
                                {
                                    "WorkOrderID": "55873",
                                    "CustomerName": "AO Reid Construction",
                                    "DateStarted": "2020-8-14",
                                    "DateCompleted": "2020-9-2",
                                    "EstHours": "53",
                                    "ActualHours": "42.30",
                                    "EstLaborCost": "523",
                                    "ActualLaborCost": "692.65",
                                    "LaborCostDiff": "-169.65",
                                    "EstMaterialCost": "455",
                                    "ActualMaterialCost": "227.94",
                                    "MatCostDiff": "227.07",
                                    "TotalCostDiff": "57.42"
                                },
                                {
                                    "WorkOrderID": "55878",
                                    "CustomerName": "AO Reid Construction",
                                    "DateStarted": "2020-9-12",
                                    "DateCompleted": "2020-9-30",
                                    "EstHours": "38",
                                    "ActualHours": "38.00",
                                    "EstLaborCost": "518",
                                    "ActualLaborCost": "531.13",
                                    "LaborCostDiff": "-13.13",
                                    "EstMaterialCost": "455",
                                    "ActualMaterialCost": "216.53",
                                    "MatCostDiff": "238.48",
                                    "TotalCostDiff": "225.35"
                                },
                                {
                                    "WorkOrderID": "62254",
                                    "CustomerName": "Dew Drop Inn Luxury Suites",
                                    "DateStarted": "2021-10-14",
                                    "DateCompleted": "2021-11-3",
                                    "EstHours": "158",
                                    "ActualHours": "153.25",
                                    "EstLaborCost": "2296",
                                    "ActualLaborCost": "2250.91",
                                    "LaborCostDiff": "45.09",
                                    "EstMaterialCost": "2932",
                                    "ActualMaterialCost": "1130.20",
                                    "MatCostDiff": "1801.80",
                                    "TotalCostDiff": "1846.89"
                                },
                                {
                                    "WorkOrderID": "62257",
                                    "CustomerName": "Dew Drop Inn Luxury Suites",
                                    "DateStarted": "2021-10-30",
                                    "DateCompleted": "2021-11-18",
                                    "EstHours": "179",
                                    "ActualHours": "158.25",
                                    "EstLaborCost": "2447",
                                    "ActualLaborCost": "2343.53",
                                    "LaborCostDiff": "103.48",
                                    "EstMaterialCost": "3082",
                                    "ActualMaterialCost": "1130.20",
                                    "MatCostDiff": "1951.80",
                                    "TotalCostDiff": "2055.28"
                                },
                                {
                                    "WorkOrderID": "91584",
                                    "CustomerName": "Adam's Rib Restaurant",
                                    "DateStarted": "2021-3-31",
                                    "DateCompleted": "2021-4-21",
                                    "EstHours": "145",
                                    "ActualHours": "151.00",
                                    "EstLaborCost": "2239",
                                    "ActualLaborCost": "2210.38",
                                    "LaborCostDiff": "28.63",
                                    "EstMaterialCost": "12615",
                                    "ActualMaterialCost": "12833.23",
                                    "MatCostDiff": "-218.23",
                                    "TotalCostDiff": "-189.60"
                                }
                            ]
                        },
                        "text/html": "<table><tr><th>WorkOrderID</th><th>CustomerName</th><th>DateStarted</th><th>DateCompleted</th><th>EstHours</th><th>ActualHours</th><th>EstLaborCost</th><th>ActualLaborCost</th><th>LaborCostDiff</th><th>EstMaterialCost</th><th>ActualMaterialCost</th><th>MatCostDiff</th><th>TotalCostDiff</th></tr><tr><td>32687</td><td>Bread Bakery</td><td>2021-7-31</td><td>2021-8-22</td><td>38</td><td>41.00</td><td>581</td><td>562.00</td><td>19.00</td><td>13777</td><td>14037.40</td><td>-260.40</td><td>-241.40</td></tr><tr><td>55841</td><td>AO Reid Construction</td><td>2020-7-15</td><td>2020-7-29</td><td>38</td><td>36.50</td><td>496</td><td>490.50</td><td>5.50</td><td>455</td><td>453.66</td><td>1.35</td><td>6.85</td></tr><tr><td>55873</td><td>AO Reid Construction</td><td>2020-8-14</td><td>2020-9-2</td><td>53</td><td>42.30</td><td>523</td><td>692.65</td><td>-169.65</td><td>455</td><td>227.94</td><td>227.07</td><td>57.42</td></tr><tr><td>55878</td><td>AO Reid Construction</td><td>2020-9-12</td><td>2020-9-30</td><td>38</td><td>38.00</td><td>518</td><td>531.13</td><td>-13.13</td><td>455</td><td>216.53</td><td>238.48</td><td>225.35</td></tr><tr><td>62254</td><td>Dew Drop Inn Luxury Suites</td><td>2021-10-14</td><td>2021-11-3</td><td>158</td><td>153.25</td><td>2296</td><td>2250.91</td><td>45.09</td><td>2932</td><td>1130.20</td><td>1801.80</td><td>1846.89</td></tr><tr><td>62257</td><td>Dew Drop Inn Luxury Suites</td><td>2021-10-30</td><td>2021-11-18</td><td>179</td><td>158.25</td><td>2447</td><td>2343.53</td><td>103.48</td><td>3082</td><td>1130.20</td><td>1951.80</td><td>2055.28</td></tr><tr><td>91584</td><td>Adam&#39;s Rib Restaurant</td><td>2021-3-31</td><td>2021-4-21</td><td>145</td><td>151.00</td><td>2239</td><td>2210.38</td><td>28.63</td><td>12615</td><td>12833.23</td><td>-218.23</td><td>-189.60</td></tr></table>"
                    },
                    "metadata": {}
                }
            ],
            "execution_count": 38
        },
        {
            "cell_type": "markdown",
            "source": [
                "Q5"
            ],
            "metadata": {
                "language": "sql",
                "azdata_cell_guid": "59f58883-307c-4c31-b787-a956b5876c8b"
            },
            "attachments": {}
        },
        {
            "cell_type": "code",
            "source": [
                "WITH Summary AS (\r\n",
                "    SELECT wt.WorkOrderID,\r\n",
                "    SUM (EstHours) EstHours,\r\n",
                "    SUM(tss.ActualHours) ActualHours,\r\n",
                "    SUM(tss.ActualLaborCost) ActualLaborCost,\r\n",
                "    SUM(wt.EstLaborCost) EstLaborCost,\r\n",
                "    SUM(wt.EstLaborCost - tss.ActualLaborCost) LaborCostDiff,\r\n",
                "    SUM(wt.EstMaterialCost) EstMaterialCost,\r\n",
                "    SUM(ms.ActualMaterialCost) ActualMaterialCost,\r\n",
                "    SUM(wt.EstMaterialCost - ms.ActualMaterialCost) MatCostDiff,\r\n",
                "    SUM(wt.EstLaborCost - tss.ActualLaborCost) + SUM(wt.EstMaterialCost - ms.ActualMaterialCost) TotalCostDiff\r\n",
                "    FROM pWorkTask wt \r\n",
                "    LEFT JOIN vTimeSheetSummary tss\r\n",
                "ON tss.WorkOrderID = wt.WorkOrderID AND tss.TaskId = wt.TaskId\r\n",
                "LEFT JOIN vMaterialSummary ms \r\n",
                "ON ms.WorkOrderID = wt.WorkOrderID AND ms.TaskId = wt.TaskId\r\n",
                "WHERE DATECOMPLETED IS NOT NULL AND wt.WorkOrderID NOT IN (SELECT WorkOrderID FROM pWorkTask wt WHERE DateCompleted IS NULL)\r\n",
                "GROUP BY wt.WorkOrderID\r\n",
                ")\r\n",
                "\r\n",
                "SELECT ss.WorkOrderID,\r\n",
                "c.CustomerName,\r\n",
                "dbo.YMDDash(MIN(DateStarted)) DateStarted,\r\n",
                "dbo.YMDDash(Max(DateCompleted)) DateCompleted,\r\n",
                "ss.EstHours,\r\n",
                "CONVERT(DECIMAL(8,2),ISNULL(ss.ActualHours,0)) ActualHours,\r\n",
                "ss.EstLaborCost,\r\n",
                "CONVERT(DECIMAL(8,2),ISNULL(ss.ActualLaborCost,0)) ActualLaborCost,\r\n",
                "CONVERT(DECIMAL(8,2),ISNULL(ss.LaborCostDiff,0)) LaborCostDiff,\r\n",
                "ss.EstMaterialCost,\r\n",
                "CONVERT(DECIMAL(8,2),ISNULL(ss.ActualMaterialCost,0)) ActualMaterialCost,\r\n",
                "CONVERT(DECIMAL(8,2),ISNULL(ss.MatCostDiff,0)) MatCostDiff,\r\n",
                "ss.TotalCostDiff\r\n",
                "FROM Summary ss\r\n",
                "LEFT JOIN pWorkTask wt \r\n",
                "ON ss.WorkOrderID = wt.WorkOrderID\r\n",
                "LEFT JOIN pTimeSheet ts \r\n",
                "ON ts.WorkOrderID = wt.WorkOrderID AND ts.TaskID = wt.TaskId\r\n",
                "LEFT JOIN pMaterials m\r\n",
                "ON m.WorkOrderID = wt.WorkOrderID AND m.TaskId = wt.TaskId\r\n",
                "LEFT JOIN pWorkOrder wo \r\n",
                "ON wt.WorkOrderID = wo.WorkOrderID\r\n",
                "LEFT JOIN pCustomer c \r\n",
                "ON c.CustomerID = wo.CustomerID\r\n",
                "WHERE TotalCostDiff = (SELECT MIN(TotalCostDiff) FROM Summary)\r\n",
                "GROUP BY ss.WorkOrderID, ss.EstHours, ss.ActualHours, ss.ActualLaborCost, ss.EstLaborCost, ss.LaborCostDiff, ss.EstMaterialCost, ss.ActualMaterialCost, ss.MatCostDiff, c.CustomerName, ss.TotalCostDiff\r\n",
                "ORDER BY WorkOrderID"
            ],
            "metadata": {
                "language": "sql",
                "azdata_cell_guid": "38be772e-ed17-4361-891b-2aee389bf1cb"
            },
            "outputs": [
                {
                    "output_type": "display_data",
                    "data": {
                        "text/html": "(1 row affected)"
                    },
                    "metadata": {}
                },
                {
                    "output_type": "display_data",
                    "data": {
                        "text/html": "Total execution time: 00:00:00.045"
                    },
                    "metadata": {}
                },
                {
                    "output_type": "execute_result",
                    "execution_count": 39,
                    "data": {
                        "application/vnd.dataresource+json": {
                            "schema": {
                                "fields": [
                                    {
                                        "name": "WorkOrderID"
                                    },
                                    {
                                        "name": "CustomerName"
                                    },
                                    {
                                        "name": "DateStarted"
                                    },
                                    {
                                        "name": "DateCompleted"
                                    },
                                    {
                                        "name": "EstHours"
                                    },
                                    {
                                        "name": "ActualHours"
                                    },
                                    {
                                        "name": "EstLaborCost"
                                    },
                                    {
                                        "name": "ActualLaborCost"
                                    },
                                    {
                                        "name": "LaborCostDiff"
                                    },
                                    {
                                        "name": "EstMaterialCost"
                                    },
                                    {
                                        "name": "ActualMaterialCost"
                                    },
                                    {
                                        "name": "MatCostDiff"
                                    },
                                    {
                                        "name": "TotalCostDiff"
                                    }
                                ]
                            },
                            "data": [
                                {
                                    "WorkOrderID": "32687",
                                    "CustomerName": "Bread Bakery",
                                    "DateStarted": "2021-7-31",
                                    "DateCompleted": "2021-8-22",
                                    "EstHours": "38",
                                    "ActualHours": "41.00",
                                    "EstLaborCost": "581",
                                    "ActualLaborCost": "562.00",
                                    "LaborCostDiff": "19.00",
                                    "EstMaterialCost": "13777",
                                    "ActualMaterialCost": "14037.40",
                                    "MatCostDiff": "-260.40",
                                    "TotalCostDiff": "-241.3950"
                                }
                            ]
                        },
                        "text/html": "<table><tr><th>WorkOrderID</th><th>CustomerName</th><th>DateStarted</th><th>DateCompleted</th><th>EstHours</th><th>ActualHours</th><th>EstLaborCost</th><th>ActualLaborCost</th><th>LaborCostDiff</th><th>EstMaterialCost</th><th>ActualMaterialCost</th><th>MatCostDiff</th><th>TotalCostDiff</th></tr><tr><td>32687</td><td>Bread Bakery</td><td>2021-7-31</td><td>2021-8-22</td><td>38</td><td>41.00</td><td>581</td><td>562.00</td><td>19.00</td><td>13777</td><td>14037.40</td><td>-260.40</td><td>-241.3950</td></tr></table>"
                    },
                    "metadata": {}
                }
            ],
            "execution_count": 39
        },
        {
            "cell_type": "code",
            "source": [
                "CREATE PROCEDURE CalculateMinCostDiff\r\n",
                "    @CostType VARCHAR(25) -- 'Labor', 'Material', 'Total'\r\n",
                "AS\r\n",
                "BEGIN\r\n",
                "    WITH Summary AS (\r\n",
                "    SELECT wt.WorkOrderID,\r\n",
                "    SUM (EstHours) EstHours,\r\n",
                "    SUM(tss.ActualHours) ActualHours,\r\n",
                "    SUM(tss.ActualLaborCost) ActualLaborCost,\r\n",
                "    SUM(wt.EstLaborCost) EstLaborCost,\r\n",
                "    SUM(wt.EstLaborCost - tss.ActualLaborCost) LaborCostDiff,\r\n",
                "    SUM(wt.EstMaterialCost) EstMaterialCost,\r\n",
                "    SUM(ms.ActualMaterialCost) ActualMaterialCost,\r\n",
                "    SUM(wt.EstMaterialCost - ms.ActualMaterialCost) MatCostDiff,\r\n",
                "    SUM(wt.EstLaborCost - tss.ActualLaborCost) + SUM(wt.EstMaterialCost - ms.ActualMaterialCost) TotalCostDiff\r\n",
                "    FROM pWorkTask wt \r\n",
                "    LEFT JOIN vTimeSheetSummary tss\r\n",
                "ON tss.WorkOrderID = wt.WorkOrderID AND tss.TaskId = wt.TaskId\r\n",
                "LEFT JOIN vMaterialSummary ms \r\n",
                "ON ms.WorkOrderID = wt.WorkOrderID AND ms.TaskId = wt.TaskId\r\n",
                "WHERE DATECOMPLETED IS NOT NULL AND wt.WorkOrderID NOT IN (SELECT WorkOrderID FROM pWorkTask wt WHERE DateCompleted IS NULL)\r\n",
                "GROUP BY wt.WorkOrderID\r\n",
                ")\r\n",
                "\r\n",
                "    SELECT \r\n",
                "        ss.WorkOrderID,\r\n",
                "        c.CustomerName,\r\n",
                "        dbo.YMDDash(MIN(DateStarted)) AS DateStarted,\r\n",
                "        dbo.YMDDash(MAX(DateCompleted)) AS DateCompleted,\r\n",
                "        ss.EstHours,\r\n",
                "        CONVERT(DECIMAL(8,2), ISNULL(ss.ActualHours, 0)) AS ActualHours,\r\n",
                "        ss.EstLaborCost,\r\n",
                "        CONVERT(DECIMAL(8,2), ISNULL(ss.ActualLaborCost, 0)) AS ActualLaborCost,\r\n",
                "        CONVERT(DECIMAL(8,2), ISNULL(ss.LaborCostDiff, 0)) AS LaborCostDiff,\r\n",
                "        ss.EstMaterialCost,\r\n",
                "        CONVERT(DECIMAL(8,2), ISNULL(ss.ActualMaterialCost, 0)) AS ActualMaterialCost,\r\n",
                "        CONVERT(DECIMAL(8,2), ISNULL(ss.MatCostDiff, 0)) AS MatCostDiff,\r\n",
                "        ss.TotalCostDiff\r\n",
                "    FROM Summary ss\r\n",
                "    LEFT JOIN pWorkTask wt ON ss.WorkOrderID = wt.WorkOrderID\r\n",
                "    LEFT JOIN pTimeSheet ts ON ts.WorkOrderID = wt.WorkOrderID AND ts.TaskID = wt.TaskId\r\n",
                "    LEFT JOIN pMaterials m ON m.WorkOrderID = wt.WorkOrderID AND m.TaskId = wt.TaskId\r\n",
                "    LEFT JOIN pWorkOrder wo ON wt.WorkOrderID = wo.WorkOrderID\r\n",
                "    LEFT JOIN pCustomer c ON c.CustomerID = wo.CustomerID\r\n",
                "    WHERE\r\n",
                "        (@CostType = 'Labor' AND LaborCostDiff = (SELECT MIN(LaborCostDiff) FROM Summary))\r\n",
                "        OR\r\n",
                "        (@CostType = 'Material' AND MatCostDiff = (SELECT MIN(MatCostDiff) FROM Summary))\r\n",
                "        OR\r\n",
                "        (@CostType = 'Total' AND TotalCostDiff = (SELECT MIN(TotalCostDiff) FROM Summary))\r\n",
                "    GROUP BY\r\n",
                "        ss.WorkOrderID, ss.EstHours, ss.ActualHours, ss.ActualLaborCost, ss.EstLaborCost, ss.LaborCostDiff,\r\n",
                "        ss.EstMaterialCost, ss.ActualMaterialCost, ss.MatCostDiff, c.CustomerName, ss.TotalCostDiff\r\n",
                "    ORDER BY\r\n",
                "        WorkOrderID;\r\n",
                "END;\r\n",
                ""
            ],
            "metadata": {
                "language": "sql",
                "azdata_cell_guid": "165aa234-e46f-43e6-8515-d85aa0d7ec9e"
            },
            "outputs": [
                {
                    "output_type": "display_data",
                    "data": {
                        "text/html": "Commands completed successfully."
                    },
                    "metadata": {}
                },
                {
                    "output_type": "display_data",
                    "data": {
                        "text/html": "Total execution time: 00:00:00.015"
                    },
                    "metadata": {}
                }
            ],
            "execution_count": 1
        },
        {
            "cell_type": "code",
            "source": [
                "EXEC CalculateMinCostDiff 'Total'"
            ],
            "metadata": {
                "language": "sql",
                "azdata_cell_guid": "7569ef86-c365-4cf7-8579-671c8796bbd6"
            },
            "outputs": [
                {
                    "output_type": "display_data",
                    "data": {
                        "text/html": "(1 row affected)"
                    },
                    "metadata": {}
                },
                {
                    "output_type": "display_data",
                    "data": {
                        "text/html": "Total execution time: 00:00:00.023"
                    },
                    "metadata": {}
                },
                {
                    "output_type": "execute_result",
                    "metadata": {},
                    "execution_count": 4,
                    "data": {
                        "application/vnd.dataresource+json": {
                            "schema": {
                                "fields": [
                                    {
                                        "name": "WorkOrderID"
                                    },
                                    {
                                        "name": "CustomerName"
                                    },
                                    {
                                        "name": "DateStarted"
                                    },
                                    {
                                        "name": "DateCompleted"
                                    },
                                    {
                                        "name": "EstHours"
                                    },
                                    {
                                        "name": "ActualHours"
                                    },
                                    {
                                        "name": "EstLaborCost"
                                    },
                                    {
                                        "name": "ActualLaborCost"
                                    },
                                    {
                                        "name": "LaborCostDiff"
                                    },
                                    {
                                        "name": "EstMaterialCost"
                                    },
                                    {
                                        "name": "ActualMaterialCost"
                                    },
                                    {
                                        "name": "MatCostDiff"
                                    },
                                    {
                                        "name": "TotalCostDiff"
                                    }
                                ]
                            },
                            "data": [
                                {
                                    "WorkOrderID": "32687",
                                    "CustomerName": "Bread Bakery",
                                    "DateStarted": "2021-7-31",
                                    "DateCompleted": "2021-8-22",
                                    "EstHours": "38",
                                    "ActualHours": "41.00",
                                    "EstLaborCost": "581",
                                    "ActualLaborCost": "562.00",
                                    "LaborCostDiff": "19.00",
                                    "EstMaterialCost": "13777",
                                    "ActualMaterialCost": "14037.40",
                                    "MatCostDiff": "-260.40",
                                    "TotalCostDiff": "-241.3950"
                                }
                            ]
                        },
                        "text/html": [
                            "<table>",
                            "<tr><th>WorkOrderID</th><th>CustomerName</th><th>DateStarted</th><th>DateCompleted</th><th>EstHours</th><th>ActualHours</th><th>EstLaborCost</th><th>ActualLaborCost</th><th>LaborCostDiff</th><th>EstMaterialCost</th><th>ActualMaterialCost</th><th>MatCostDiff</th><th>TotalCostDiff</th></tr>",
                            "<tr><td>32687</td><td>Bread Bakery</td><td>2021-7-31</td><td>2021-8-22</td><td>38</td><td>41.00</td><td>581</td><td>562.00</td><td>19.00</td><td>13777</td><td>14037.40</td><td>-260.40</td><td>-241.3950</td></tr>",
                            "</table>"
                        ]
                    }
                }
            ],
            "execution_count": 4
        }
    ]
}